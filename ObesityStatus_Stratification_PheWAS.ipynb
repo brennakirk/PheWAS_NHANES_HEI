{
 "cells": [
  {
   "cell_type": "markdown",
   "metadata": {},
   "source": [
    "Obesity stratified analysis"
   ]
  },
  {
   "cell_type": "code",
   "execution_count": 4,
   "metadata": {},
   "outputs": [],
   "source": [
    "library(hei)\n",
    "library(ggplot2)\n",
    "library(dplyr)\n",
    "library(ggrepel)\n",
    "library(survey)"
   ]
  },
  {
   "cell_type": "markdown",
   "metadata": {},
   "source": [
    "Overweight and obese individuals"
   ]
  },
  {
   "cell_type": "markdown",
   "metadata": {},
   "source": [
    "Subset data and select disease variables"
   ]
  },
  {
   "cell_type": "code",
   "execution_count": 5,
   "metadata": {},
   "outputs": [],
   "source": [
    "nahnes9906 <- load(\"nh_99-06.Rdata\")\n",
    "MainTable <- MainTable[ which(MainTable$SDDSRVYR=='4'),]\n",
    "MainTableOverweight <- MainTable[ which(MainTable$RIDAGEYR >= 18 & MainTable1$BMXBMI >=25),] \n",
    "Labels <- read.csv(\"Outcome_Label.csv\")"
   ]
  },
  {
   "cell_type": "code",
   "execution_count": 6,
   "metadata": {},
   "outputs": [],
   "source": [
    "MainTable_Health <- subset(MainTableOverweight, select = c(\"SEQN\",\"SDMVPSU\", \"SDMVSTRA\", \"WTMEC2YR\",\"RIDAGEYR\",\"BMXBMI\", \"black\", \"mexican\", \"other_hispanic\", \"other_eth\", \"SMQ040\", \"male\", \"female\", \"any_diabetes\", \"any_ht\", \"cad\", \"bladder_cancer_self_report\", \"blood_cancer_self_report\", \"bone_cancer_self_report\", \"brain_cancer_self_report\", \"colon_cancer_self_report\", \"esophagus_cancer_self_report\", \"gallbladder_cancer_self_report\", \"kidney_cancer_self_report\", \"larynx_cancer_self_report\", \"leukemia_self_report\", \"liver_cancer_self_report\", \"lung_cancer_self_report\", \"lymphoma_self_report\", \"melanoma_self_report\", \"mouth_cancer_self_report\", \"nervous_cancer_self_report\", \"pancreatic_cancer_self_report\", \"prostate_cancer_self_report\", \"rectum_cancer_self_report\", \"skin_cancer_self_report\", \"other_skin_cancer_self_report\", \"soft_cancer_self_report\", \"stomach_cancer_self_report\", \"testis_cancer_self_report\", \"thyroid_cancer_self_report\", \"uterine_cancer_self_report\", \"other_cancer_self_report\", \"any_cancer_self_report\", \"any_family_cad\", \"current_asthma\", \"ever_asthma\", \"ever_arthritis\", \"ever_rheumatoid_arthritis\", \"ever_osteo_arthritis\", \"LBXHBC\", \"LBDHBG\", \"LBDHCV\", \"LBDHD\", \"LBXHBS\", \"LBXHA\", \"LBDHI\"))\n",
    "\n",
    "\n",
    "Biomarkers_Threshold <- subset(MainTableOverweight, select =c(\"LBXTC\", \"LBDLDL\", \"LBXTR\", \"LBXGH\", \"LBXGLU\", \"LBXVIA\", \"LBXVIC\", \"LBXVID\", \"LBXVIE\",  \"LBXB12\", \"LBXFOL\", \"LBXRBF\", \"LBXHCY\"))\n",
    "\n",
    "#*************Threshold values*************************\n",
    "#Total cholesterol - Case <= 200\n",
    "Biomarkers_Threshold$LBXTC_TH <- ifelse(Biomarkers_Threshold$LBXTC <= 200, 1, 0)\n",
    "#LDL -  case < 100\n",
    "Biomarkers_Threshold$LBDLDL_TH <- ifelse(Biomarkers_Threshold$LBDLDL <= 100, 1, 0)\n",
    "#Triglycerides - case >= 150 \n",
    "Biomarkers_Threshold$LBXTR_TH <- ifelse(Biomarkers_Threshold$LBXTR <= 150, 1, 0)\n",
    "#Glycohemoglobin - case <= 5.7 \n",
    "Biomarkers_Threshold$LBXGH_TH <- ifelse(Biomarkers_Threshold$LBXGH <= 5.7, 1, 0)\n",
    "#Fasting Glucose -case <= 100\n",
    "Biomarkers_Threshold$LBXGLU_TH <- ifelse(Biomarkers_Threshold$LBXGLU <= 100, 1, 0)\n",
    "#Vitamin A - case >= 20 \n",
    "Biomarkers_Threshold$LBXVIA_TH <- ifelse(Biomarkers_Threshold$LBXVIA >= 20, 1, 0)\n",
    "#vitamin C - case >= 11.4\n",
    "Biomarkers_Threshold$LBXVIC_TH <- ifelse(Biomarkers_Threshold$LBXVIC >= 11.4, 1, 0)\n",
    "#vitamin D - case >= 20\n",
    "Biomarkers_Threshold$LBXVID_TH <- ifelse(Biomarkers_Threshold$LBXVID >= 20, 1, 0)\n",
    "#vitamin E - case >= 500\n",
    "Biomarkers_Threshold$LBXVIE_TH <- ifelse(Biomarkers_Threshold$LBXVIE >= 500, 1, 0)\n",
    "#vitamin B12 - case  >= 200\n",
    "Biomarkers_Threshold$LBXB12_TH <- ifelse(Biomarkers_Threshold$LBXB12 >= 200, 1, 0)\n",
    "#serum folate - case >= 2\n",
    "Biomarkers_Threshold$LBXFOL_TH <- ifelse(Biomarkers_Threshold$LBXFOL >= 2, 1, 0)\n",
    "#plasma homocysteine\n",
    "Biomarkers_Threshold$LBXHCY_TH <- ifelse(Biomarkers_Threshold$LBXHCY <= 13, 1, 0)\n",
    "\n",
    "  \n",
    "Biomarkers_Threshold <- subset(Biomarkers_Threshold, select =c(\"LBXTC_TH\", \"LBDLDL_TH\", \"LBXTR_TH\", \"LBXGH_TH\", \"LBXGLU_TH\", \"LBXVIA_TH\", \"LBXVIC_TH\", \"LBXVID_TH\", \"LBXVIE_TH\",  \"LBXB12_TH\", \"LBXFOL_TH\", \"LBXHCY_TH\"))\n",
    "\n",
    "Health_Biomarkers <- cbind(MainTable_Health, Biomarkers_Threshold)\n",
    "\n",
    "phenotypesheath_biomarkers <- c(\"any_diabetes\", \"any_ht\", \"cad\", \"bladder_cancer_self_report\", \"blood_cancer_self_report\", \"bone_cancer_self_report\", \"brain_cancer_self_report\", \"colon_cancer_self_report\", \"esophagus_cancer_self_report\", \"gallbladder_cancer_self_report\", \"kidney_cancer_self_report\", \"larynx_cancer_self_report\", \"leukemia_self_report\", \"liver_cancer_self_report\", \"lung_cancer_self_report\", \"lymphoma_self_report\", \"melanoma_self_report\", \"mouth_cancer_self_report\", \"nervous_cancer_self_report\", \"pancreatic_cancer_self_report\", \"prostate_cancer_self_report\", \"rectum_cancer_self_report\", \"skin_cancer_self_report\", \"other_skin_cancer_self_report\", \"soft_cancer_self_report\", \"stomach_cancer_self_report\", \"testis_cancer_self_report\", \"thyroid_cancer_self_report\", \"uterine_cancer_self_report\", \"other_cancer_self_report\", \"any_cancer_self_report\", \"any_family_cad\", \"current_asthma\", \"ever_asthma\", \"ever_arthritis\", \"ever_rheumatoid_arthritis\", \"ever_osteo_arthritis\", \"LBXHBC\", \"LBDHBG\", \"LBDHCV\", \"LBDHD\", \"LBXHBS\", \"LBXHA\", \"LBDHI\", \"LBXTC_TH\", \"LBDLDL_TH\", \"LBXTR_TH\", \"LBXGH_TH\", \"LBXGLU_TH\", \"LBXVIA_TH\", \"LBXVIC_TH\", \"LBXVID_TH\", \"LBXVIE_TH\",  \"LBXB12_TH\", \"LBXFOL_TH\", \"LBXRBF_TH\", \"LBXHCY_TH\")"
   ]
  },
  {
   "cell_type": "markdown",
   "metadata": {},
   "source": [
    "using hei package to derive hei values for all individuals in subset"
   ]
  },
  {
   "cell_type": "code",
   "execution_count": 7,
   "metadata": {},
   "outputs": [
    {
     "name": "stdout",
     "output_type": "stream",
     "text": [
      "Processing SAS dataset DEMO_D \t ..\n",
      "Processing SAS dataset DR1TOT_D \t ..\n",
      "Processing SAS dataset DR2TOT_D \t ..\n"
     ]
    }
   ],
   "source": [
    "demo0506 <- get_demo(\"2005/2006\")\n",
    "diet0506 <- get_diet(\"2005/2006\", \"both\")\n",
    "fped0506 <- get_fped(\"2005/2006\", \"both\")\n",
    "hei0506 <- hei(fped0506, diet0506, demo0506)\n",
    "hei0506 <- subset(hei0506, select = c(SEQN,HEI))\n",
    "\n",
    "hei0506 <- hei0506 %>% mutate(quintile=ntile(HEI,5))"
   ]
  },
  {
   "cell_type": "markdown",
   "metadata": {},
   "source": [
    "Setting dataframe, cut, case, control and phenotype variables values - Can edit code if different dataframes, cuts or case control values desired to alternative analyses"
   ]
  },
  {
   "cell_type": "code",
   "execution_count": 8,
   "metadata": {},
   "outputs": [],
   "source": [
    "dataframe <- Health_Biomarkers\n",
    "cut <- \"quintile\"\n",
    "case <- 5\n",
    "control <- 1\n",
    "phenotypes <- phenotypesheath_biomarkers"
   ]
  },
  {
   "cell_type": "markdown",
   "metadata": {},
   "source": [
    "Merging quintile values to working data frame"
   ]
  },
  {
   "cell_type": "code",
   "execution_count": 9,
   "metadata": {},
   "outputs": [],
   "source": [
    "hei0506_subset <- subset(hei0506, select = c(\"SEQN\", cut))           #subset with quintile and SEQN\n",
    "hei0506_subset$SEQN <- as.character( hei0506_subset$SEQN )          #change both 'SEQN' columns to characters for merging\n",
    "dataframe$SEQN <- as.character( dataframe$SEQN )\n",
    "\n",
    "hei0506_merged <- merge(dataframe, hei0506_subset, by=\"SEQN\")     #merging the grade or qunitile with dataframe\n",
    "\n",
    "hei0506_merged_cut <- hei0506_merged[hei0506_merged[,cut] %in% c(case, control),]   #selecting cases & control\n",
    "\n",
    "\n",
    "hei0506_casecontrol <- subset(hei0506_merged_cut, select=c(\"SEQN\", cut))#subsetting so we just have SEQN+cut \n",
    "\n",
    "hei0506_casecontrol[cut] <- ifelse(hei0506_casecontrol[cut]==case, 1, 0) #Converting case control to binary\n",
    "\n",
    "hei0506_final <- inner_join(hei0506_merged, hei0506_casecontrol, by = \"SEQN\")  #Merge phenotypes w/ binary input\n",
    "colNumber <- length(hei0506_final) - 1\n",
    "colnames(hei0506_final)[colNumber] <- \"casecontrol\"\n",
    "colNumber <- length(hei0506_final)\n",
    "colnames(hei0506_final)[colNumber] <- \"casevalue\""
   ]
  },
  {
   "cell_type": "markdown",
   "metadata": {},
   "source": [
    "Setting survey design"
   ]
  },
  {
   "cell_type": "code",
   "execution_count": 10,
   "metadata": {},
   "outputs": [],
   "source": [
    "dsn <- svydesign(ids=~SDMVPSU, strata=~SDMVSTRA, weights=~WTMEC2YR, nest=T, data=hei0506_final, variables = NULL)"
   ]
  },
  {
   "cell_type": "markdown",
   "metadata": {},
   "source": [
    "Creating dataframe for results"
   ]
  },
  {
   "cell_type": "code",
   "execution_count": 19,
   "metadata": {},
   "outputs": [],
   "source": [
    "hei0506_result_OverweightObese <- as.data.frame(matrix(ncol =8))"
   ]
  },
  {
   "cell_type": "markdown",
   "metadata": {},
   "source": [
    "For loop to run logistic regression for all disease outcomes"
   ]
  },
  {
   "cell_type": "code",
   "execution_count": 20,
   "metadata": {},
   "outputs": [
    {
     "name": "stdout",
     "output_type": "stream",
     "text": [
      "[1] 12\n"
     ]
    },
    {
     "name": "stderr",
     "output_type": "stream",
     "text": [
      "Warning message in eval(family$initialize):\n",
      "“non-integer #successes in a binomial glm!”Warning message:\n",
      "“glm.fit: algorithm did not converge”"
     ]
    },
    {
     "name": "stdout",
     "output_type": "stream",
     "text": [
      "[1] 13\n"
     ]
    },
    {
     "name": "stderr",
     "output_type": "stream",
     "text": [
      "Warning message in model.matrix.default(mt, mf, contrasts):\n",
      "“the response appeared on the right-hand side and was dropped”Warning message in model.matrix.default(mt, mf, contrasts):\n",
      "“problem with term 7 in model.matrix: no columns are assigned”Warning message in eval(family$initialize):\n",
      "“non-integer #successes in a binomial glm!”Warning message in model.matrix.default(glm.object, data = structure(list(female = c(0, :\n",
      "“the response appeared on the right-hand side and was dropped”Warning message in model.matrix.default(glm.object, data = structure(list(female = c(0, :\n",
      "“problem with term 7 in model.matrix: no columns are assigned”"
     ]
    },
    {
     "name": "stdout",
     "output_type": "stream",
     "text": [
      "[1] 14\n"
     ]
    },
    {
     "name": "stderr",
     "output_type": "stream",
     "text": [
      "Warning message in eval(family$initialize):\n",
      "“non-integer #successes in a binomial glm!”"
     ]
    },
    {
     "name": "stdout",
     "output_type": "stream",
     "text": [
      "[1] 15\n"
     ]
    },
    {
     "name": "stderr",
     "output_type": "stream",
     "text": [
      "Warning message in eval(family$initialize):\n",
      "“non-integer #successes in a binomial glm!”"
     ]
    },
    {
     "name": "stdout",
     "output_type": "stream",
     "text": [
      "[1] 16\n"
     ]
    },
    {
     "name": "stderr",
     "output_type": "stream",
     "text": [
      "Warning message in eval(family$initialize):\n",
      "“non-integer #successes in a binomial glm!”"
     ]
    },
    {
     "name": "stdout",
     "output_type": "stream",
     "text": [
      "[1] 17\n"
     ]
    },
    {
     "name": "stderr",
     "output_type": "stream",
     "text": [
      "Warning message in eval(family$initialize):\n",
      "“non-integer #successes in a binomial glm!”Warning message:\n",
      "“glm.fit: fitted probabilities numerically 0 or 1 occurred”"
     ]
    },
    {
     "name": "stdout",
     "output_type": "stream",
     "text": [
      "[1] 18\n"
     ]
    },
    {
     "name": "stderr",
     "output_type": "stream",
     "text": [
      "Warning message in eval(family$initialize):\n",
      "“non-integer #successes in a binomial glm!”Warning message:\n",
      "“glm.fit: algorithm did not converge”Warning message:\n",
      "“glm.fit: fitted probabilities numerically 0 or 1 occurred”"
     ]
    },
    {
     "name": "stdout",
     "output_type": "stream",
     "text": [
      "[1] 19\n"
     ]
    },
    {
     "name": "stderr",
     "output_type": "stream",
     "text": [
      "Warning message:\n",
      "“glm.fit: algorithm did not converge”"
     ]
    },
    {
     "name": "stdout",
     "output_type": "stream",
     "text": [
      "[1] 20\n"
     ]
    },
    {
     "name": "stderr",
     "output_type": "stream",
     "text": [
      "Warning message:\n",
      "“glm.fit: algorithm did not converge”"
     ]
    },
    {
     "name": "stdout",
     "output_type": "stream",
     "text": [
      "[1] 21\n"
     ]
    },
    {
     "name": "stderr",
     "output_type": "stream",
     "text": [
      "Warning message in eval(family$initialize):\n",
      "“non-integer #successes in a binomial glm!”Warning message:\n",
      "“glm.fit: fitted probabilities numerically 0 or 1 occurred”"
     ]
    },
    {
     "name": "stdout",
     "output_type": "stream",
     "text": [
      "[1] 22\n"
     ]
    },
    {
     "name": "stderr",
     "output_type": "stream",
     "text": [
      "Warning message:\n",
      "“glm.fit: algorithm did not converge”"
     ]
    },
    {
     "name": "stdout",
     "output_type": "stream",
     "text": [
      "[1] 23\n"
     ]
    },
    {
     "name": "stderr",
     "output_type": "stream",
     "text": [
      "Warning message:\n",
      "“glm.fit: algorithm did not converge”"
     ]
    },
    {
     "name": "stdout",
     "output_type": "stream",
     "text": [
      "[1] 24\n"
     ]
    },
    {
     "name": "stderr",
     "output_type": "stream",
     "text": [
      "Warning message in eval(family$initialize):\n",
      "“non-integer #successes in a binomial glm!”Warning message:\n",
      "“glm.fit: fitted probabilities numerically 0 or 1 occurred”"
     ]
    },
    {
     "name": "stdout",
     "output_type": "stream",
     "text": [
      "[1] 25\n"
     ]
    },
    {
     "name": "stderr",
     "output_type": "stream",
     "text": [
      "Warning message in eval(family$initialize):\n",
      "“non-integer #successes in a binomial glm!”Warning message:\n",
      "“glm.fit: algorithm did not converge”Warning message:\n",
      "“glm.fit: fitted probabilities numerically 0 or 1 occurred”"
     ]
    },
    {
     "name": "stdout",
     "output_type": "stream",
     "text": [
      "[1] 26\n"
     ]
    },
    {
     "name": "stderr",
     "output_type": "stream",
     "text": [
      "Warning message:\n",
      "“glm.fit: algorithm did not converge”"
     ]
    },
    {
     "name": "stdout",
     "output_type": "stream",
     "text": [
      "[1] 27\n"
     ]
    },
    {
     "name": "stderr",
     "output_type": "stream",
     "text": [
      "Warning message:\n",
      "“glm.fit: algorithm did not converge”"
     ]
    },
    {
     "name": "stdout",
     "output_type": "stream",
     "text": [
      "[1] 28\n"
     ]
    },
    {
     "name": "stderr",
     "output_type": "stream",
     "text": [
      "Warning message in eval(family$initialize):\n",
      "“non-integer #successes in a binomial glm!”Warning message:\n",
      "“glm.fit: fitted probabilities numerically 0 or 1 occurred”"
     ]
    },
    {
     "name": "stdout",
     "output_type": "stream",
     "text": [
      "[1] 29\n"
     ]
    },
    {
     "name": "stderr",
     "output_type": "stream",
     "text": [
      "Warning message in eval(family$initialize):\n",
      "“non-integer #successes in a binomial glm!”Warning message:\n",
      "“glm.fit: fitted probabilities numerically 0 or 1 occurred”"
     ]
    },
    {
     "name": "stdout",
     "output_type": "stream",
     "text": [
      "[1] 30\n"
     ]
    },
    {
     "name": "stderr",
     "output_type": "stream",
     "text": [
      "Warning message in eval(family$initialize):\n",
      "“non-integer #successes in a binomial glm!”"
     ]
    },
    {
     "name": "stdout",
     "output_type": "stream",
     "text": [
      "[1] 31\n"
     ]
    },
    {
     "name": "stderr",
     "output_type": "stream",
     "text": [
      "Warning message in eval(family$initialize):\n",
      "“non-integer #successes in a binomial glm!”Warning message:\n",
      "“glm.fit: fitted probabilities numerically 0 or 1 occurred”"
     ]
    },
    {
     "name": "stdout",
     "output_type": "stream",
     "text": [
      "[1] 32\n"
     ]
    },
    {
     "name": "stderr",
     "output_type": "stream",
     "text": [
      "Warning message:\n",
      "“glm.fit: algorithm did not converge”"
     ]
    },
    {
     "name": "stdout",
     "output_type": "stream",
     "text": [
      "[1] 33\n"
     ]
    },
    {
     "name": "stderr",
     "output_type": "stream",
     "text": [
      "Warning message:\n",
      "“glm.fit: algorithm did not converge”"
     ]
    },
    {
     "name": "stdout",
     "output_type": "stream",
     "text": [
      "[1] 34\n"
     ]
    },
    {
     "name": "stderr",
     "output_type": "stream",
     "text": [
      "Warning message in eval(family$initialize):\n",
      "“non-integer #successes in a binomial glm!”Warning message:\n",
      "“glm.fit: fitted probabilities numerically 0 or 1 occurred”"
     ]
    },
    {
     "name": "stdout",
     "output_type": "stream",
     "text": [
      "[1] 35\n"
     ]
    },
    {
     "name": "stderr",
     "output_type": "stream",
     "text": [
      "Warning message in eval(family$initialize):\n",
      "“non-integer #successes in a binomial glm!”Warning message:\n",
      "“glm.fit: fitted probabilities numerically 0 or 1 occurred”"
     ]
    },
    {
     "name": "stdout",
     "output_type": "stream",
     "text": [
      "[1] 36\n"
     ]
    },
    {
     "name": "stderr",
     "output_type": "stream",
     "text": [
      "Warning message in eval(family$initialize):\n",
      "“non-integer #successes in a binomial glm!”"
     ]
    },
    {
     "name": "stdout",
     "output_type": "stream",
     "text": [
      "[1] 37\n"
     ]
    },
    {
     "name": "stderr",
     "output_type": "stream",
     "text": [
      "Warning message in eval(family$initialize):\n",
      "“non-integer #successes in a binomial glm!”Warning message:\n",
      "“glm.fit: fitted probabilities numerically 0 or 1 occurred”"
     ]
    },
    {
     "name": "stdout",
     "output_type": "stream",
     "text": [
      "[1] 38\n"
     ]
    },
    {
     "name": "stderr",
     "output_type": "stream",
     "text": [
      "Warning message:\n",
      "“glm.fit: algorithm did not converge”"
     ]
    },
    {
     "name": "stdout",
     "output_type": "stream",
     "text": [
      "[1] 39\n"
     ]
    },
    {
     "name": "stderr",
     "output_type": "stream",
     "text": [
      "Warning message in eval(family$initialize):\n",
      "“non-integer #successes in a binomial glm!”Warning message:\n",
      "“glm.fit: fitted probabilities numerically 0 or 1 occurred”"
     ]
    },
    {
     "name": "stdout",
     "output_type": "stream",
     "text": [
      "[1] 40\n"
     ]
    },
    {
     "name": "stderr",
     "output_type": "stream",
     "text": [
      "Warning message in eval(family$initialize):\n",
      "“non-integer #successes in a binomial glm!”Warning message:\n",
      "“glm.fit: fitted probabilities numerically 0 or 1 occurred”"
     ]
    },
    {
     "name": "stdout",
     "output_type": "stream",
     "text": [
      "[1] 41\n"
     ]
    },
    {
     "name": "stderr",
     "output_type": "stream",
     "text": [
      "Warning message:\n",
      "“glm.fit: algorithm did not converge”"
     ]
    },
    {
     "name": "stdout",
     "output_type": "stream",
     "text": [
      "[1] 42\n"
     ]
    },
    {
     "name": "stderr",
     "output_type": "stream",
     "text": [
      "Warning message in eval(family$initialize):\n",
      "“non-integer #successes in a binomial glm!”Warning message:\n",
      "“glm.fit: fitted probabilities numerically 0 or 1 occurred”"
     ]
    },
    {
     "name": "stdout",
     "output_type": "stream",
     "text": [
      "[1] 43\n"
     ]
    },
    {
     "name": "stderr",
     "output_type": "stream",
     "text": [
      "Warning message in eval(family$initialize):\n",
      "“non-integer #successes in a binomial glm!”"
     ]
    },
    {
     "name": "stdout",
     "output_type": "stream",
     "text": [
      "[1] 44\n"
     ]
    },
    {
     "name": "stderr",
     "output_type": "stream",
     "text": [
      "Warning message in eval(family$initialize):\n",
      "“non-integer #successes in a binomial glm!”"
     ]
    },
    {
     "name": "stdout",
     "output_type": "stream",
     "text": [
      "[1] 45\n"
     ]
    },
    {
     "name": "stderr",
     "output_type": "stream",
     "text": [
      "Warning message in eval(family$initialize):\n",
      "“non-integer #successes in a binomial glm!”"
     ]
    },
    {
     "name": "stdout",
     "output_type": "stream",
     "text": [
      "[1] 46\n"
     ]
    },
    {
     "name": "stderr",
     "output_type": "stream",
     "text": [
      "Warning message in eval(family$initialize):\n",
      "“non-integer #successes in a binomial glm!”"
     ]
    },
    {
     "name": "stdout",
     "output_type": "stream",
     "text": [
      "[1] 47\n"
     ]
    },
    {
     "name": "stderr",
     "output_type": "stream",
     "text": [
      "Warning message in eval(family$initialize):\n",
      "“non-integer #successes in a binomial glm!”"
     ]
    },
    {
     "name": "stdout",
     "output_type": "stream",
     "text": [
      "[1] 48\n"
     ]
    },
    {
     "name": "stderr",
     "output_type": "stream",
     "text": [
      "Warning message in eval(family$initialize):\n",
      "“non-integer #successes in a binomial glm!”"
     ]
    },
    {
     "name": "stdout",
     "output_type": "stream",
     "text": [
      "[1] 49\n"
     ]
    },
    {
     "name": "stderr",
     "output_type": "stream",
     "text": [
      "Warning message in eval(family$initialize):\n",
      "“non-integer #successes in a binomial glm!”"
     ]
    },
    {
     "name": "stdout",
     "output_type": "stream",
     "text": [
      "[1] 50\n"
     ]
    },
    {
     "name": "stderr",
     "output_type": "stream",
     "text": [
      "Warning message in eval(family$initialize):\n",
      "“non-integer #successes in a binomial glm!”"
     ]
    },
    {
     "name": "stdout",
     "output_type": "stream",
     "text": [
      "[1] 51\n"
     ]
    },
    {
     "name": "stderr",
     "output_type": "stream",
     "text": [
      "Warning message in eval(family$initialize):\n",
      "“non-integer #successes in a binomial glm!”"
     ]
    },
    {
     "name": "stdout",
     "output_type": "stream",
     "text": [
      "[1] 52\n"
     ]
    },
    {
     "name": "stderr",
     "output_type": "stream",
     "text": [
      "Warning message in eval(family$initialize):\n",
      "“non-integer #successes in a binomial glm!”Warning message:\n",
      "“glm.fit: fitted probabilities numerically 0 or 1 occurred”"
     ]
    },
    {
     "name": "stdout",
     "output_type": "stream",
     "text": [
      "[1] 53\n"
     ]
    },
    {
     "name": "stderr",
     "output_type": "stream",
     "text": [
      "Warning message in eval(family$initialize):\n",
      "“non-integer #successes in a binomial glm!”"
     ]
    },
    {
     "name": "stdout",
     "output_type": "stream",
     "text": [
      "[1] 54\n"
     ]
    },
    {
     "name": "stderr",
     "output_type": "stream",
     "text": [
      "Warning message:\n",
      "“glm.fit: algorithm did not converge”"
     ]
    },
    {
     "name": "stdout",
     "output_type": "stream",
     "text": [
      "[1] 55\n"
     ]
    },
    {
     "name": "stderr",
     "output_type": "stream",
     "text": [
      "Warning message in eval(family$initialize):\n",
      "“non-integer #successes in a binomial glm!”"
     ]
    },
    {
     "name": "stdout",
     "output_type": "stream",
     "text": [
      "[1] 56\n"
     ]
    },
    {
     "name": "stderr",
     "output_type": "stream",
     "text": [
      "Warning message in eval(family$initialize):\n",
      "“non-integer #successes in a binomial glm!”"
     ]
    },
    {
     "name": "stdout",
     "output_type": "stream",
     "text": [
      "[1] 57\n"
     ]
    },
    {
     "name": "stderr",
     "output_type": "stream",
     "text": [
      "Warning message in eval(family$initialize):\n",
      "“non-integer #successes in a binomial glm!”"
     ]
    },
    {
     "name": "stdout",
     "output_type": "stream",
     "text": [
      "[1] 58\n"
     ]
    },
    {
     "name": "stderr",
     "output_type": "stream",
     "text": [
      "Warning message in eval(family$initialize):\n",
      "“non-integer #successes in a binomial glm!”"
     ]
    },
    {
     "name": "stdout",
     "output_type": "stream",
     "text": [
      "[1] 59\n"
     ]
    },
    {
     "name": "stderr",
     "output_type": "stream",
     "text": [
      "Warning message in eval(family$initialize):\n",
      "“non-integer #successes in a binomial glm!”"
     ]
    },
    {
     "name": "stdout",
     "output_type": "stream",
     "text": [
      "[1] 60\n"
     ]
    },
    {
     "name": "stderr",
     "output_type": "stream",
     "text": [
      "Warning message in eval(family$initialize):\n",
      "“non-integer #successes in a binomial glm!”"
     ]
    },
    {
     "name": "stdout",
     "output_type": "stream",
     "text": [
      "[1] 61\n"
     ]
    },
    {
     "name": "stderr",
     "output_type": "stream",
     "text": [
      "Warning message in eval(family$initialize):\n",
      "“non-integer #successes in a binomial glm!”"
     ]
    },
    {
     "name": "stdout",
     "output_type": "stream",
     "text": [
      "[1] 62\n"
     ]
    },
    {
     "name": "stderr",
     "output_type": "stream",
     "text": [
      "Warning message in eval(family$initialize):\n",
      "“non-integer #successes in a binomial glm!”"
     ]
    },
    {
     "name": "stdout",
     "output_type": "stream",
     "text": [
      "[1] 63\n"
     ]
    },
    {
     "name": "stderr",
     "output_type": "stream",
     "text": [
      "Warning message in eval(family$initialize):\n",
      "“non-integer #successes in a binomial glm!”Warning message:\n",
      "“glm.fit: fitted probabilities numerically 0 or 1 occurred”"
     ]
    },
    {
     "name": "stdout",
     "output_type": "stream",
     "text": [
      "[1] 64\n"
     ]
    },
    {
     "name": "stderr",
     "output_type": "stream",
     "text": [
      "Warning message:\n",
      "“glm.fit: algorithm did not converge”"
     ]
    },
    {
     "name": "stdout",
     "output_type": "stream",
     "text": [
      "[1] 65\n"
     ]
    },
    {
     "name": "stderr",
     "output_type": "stream",
     "text": [
      "Warning message in eval(family$initialize):\n",
      "“non-integer #successes in a binomial glm!”"
     ]
    },
    {
     "name": "stdout",
     "output_type": "stream",
     "text": [
      "[1] 66\n"
     ]
    },
    {
     "name": "stderr",
     "output_type": "stream",
     "text": [
      "Warning message in eval(family$initialize):\n",
      "“non-integer #successes in a binomial glm!”Warning message:\n",
      "“glm.fit: fitted probabilities numerically 0 or 1 occurred”"
     ]
    },
    {
     "name": "stdout",
     "output_type": "stream",
     "text": [
      "[1] 67\n"
     ]
    },
    {
     "name": "stderr",
     "output_type": "stream",
     "text": [
      "Warning message in eval(family$initialize):\n",
      "“non-integer #successes in a binomial glm!”"
     ]
    },
    {
     "name": "stdout",
     "output_type": "stream",
     "text": [
      "[1] 68\n"
     ]
    },
    {
     "name": "stderr",
     "output_type": "stream",
     "text": [
      "Warning message in eval(family$initialize):\n",
      "“non-integer #successes in a binomial glm!”Warning message:\n",
      "“glm.fit: algorithm did not converge”"
     ]
    },
    {
     "name": "stdout",
     "output_type": "stream",
     "text": [
      "[1] 69\n"
     ]
    },
    {
     "name": "stderr",
     "output_type": "stream",
     "text": [
      "Warning message in eval(family$initialize):\n",
      "“non-integer #successes in a binomial glm!”"
     ]
    }
   ],
   "source": [
    "for(i in 14:ncol(hei0506_final)-2){\n",
    "                                                                                    \n",
    " print( i )\n",
    "\n",
    "myglm <- svyglm(as.formula(paste0(names(hei0506_final)[i], \"~ casevalue + black + mexican + other_hispanic + other_eth + RIDAGEYR + RIDAGEYR^2 + female + BMXBMI + SMQ040\")),design = dsn,\n",
    "                family = binomial(),\n",
    "                na.action = na.omit)\n",
    "\n",
    "#confidence interval\n",
    "ci <- exp(summary(myglm)$coefficients[\"casevalue\",1]+qnorm(c(0.025, 0.975)) * summary(myglm)$coefficients[\"casevalue\",2])\n",
    "\n",
    "\n",
    "excludedPatients <- sum(is.na(hei0506_final[, i ]))\n",
    "    casecontrol <-  hei0506_final[, c(names(hei0506_final)[i], \"SEQN\", \"casevalue\")]\n",
    "    casecontrol <- na.omit( casecontrol )\n",
    "    heihighpositive <- length(unique(casecontrol[casecontrol[,1]== 1 & casecontrol$casevalue== 1, \"SEQN\"]))\n",
    "    heihighnegative <- length(unique(casecontrol[casecontrol[,1]== 0 & casecontrol$casevalue== 1, \"SEQN\"]))\n",
    "    heilowpositive <- length(unique(casecontrol[casecontrol[,1]== 1 & casecontrol$casevalue== 0, \"SEQN\"]))\n",
    "    heilownegative <- length(unique(casecontrol[casecontrol[,1]== 0 & casecontrol$casevalue== 0, \"SEQN\"]))\n",
    " \n",
    "\n",
    "    \n",
    "newRow <- c (names(hei0506_final)[i], summary(myglm)$coefficients[2], exp(summary(myglm)$coefficients[2]), paste0(\"(\", round(ci[1][1],3), \",\", round(ci[2][1],3), \")\"),\n",
    "summary(myglm)$coefficients[2,4], paste0(heihighpositive+heilowpositive,\"(\",heihighpositive,\"/\",heilowpositive,\")\"), paste0(heihighnegative+heilownegative,\"(\",heihighnegative,\"/\",heilownegative,\")\"), excludedPatients\n",
    "                  )\n",
    "    \n",
    "hei0506_result_OverweightObese <- rbind( newRow, hei0506_result_OverweightObese ) \n",
    "\n",
    "\n",
    "}"
   ]
  },
  {
   "cell_type": "markdown",
   "metadata": {},
   "source": [
    "Changing column name and adding columns for adjusted p-values"
   ]
  },
  {
   "cell_type": "code",
   "execution_count": 22,
   "metadata": {},
   "outputs": [
    {
     "data": {
      "text/html": [
       "<table>\n",
       "<caption>A data.frame: 6 × 14</caption>\n",
       "<thead>\n",
       "\t<tr><th scope=col>Outcome</th><th scope=col>Coefficient</th><th scope=col>OR</th><th scope=col>CI</th><th scope=col>P-value</th><th scope=col>Outcome_Present</th><th scope=col>Outcome_Negative</th><th scope=col>NA_Patient</th><th scope=col>padjustFdr</th><th scope=col>padjustBonferroni</th><th scope=col>logfdr</th><th scope=col>logbonf</th><th scope=col>Label</th><th scope=col>Association</th></tr>\n",
       "\t<tr><th scope=col>&lt;chr&gt;</th><th scope=col>&lt;chr&gt;</th><th scope=col>&lt;chr&gt;</th><th scope=col>&lt;chr&gt;</th><th scope=col>&lt;chr&gt;</th><th scope=col>&lt;chr&gt;</th><th scope=col>&lt;chr&gt;</th><th scope=col>&lt;chr&gt;</th><th scope=col>&lt;dbl&gt;</th><th scope=col>&lt;dbl&gt;</th><th scope=col>&lt;dbl&gt;</th><th scope=col>&lt;dbl&gt;</th><th scope=col>&lt;fct&gt;</th><th scope=col>&lt;fct&gt;</th></tr>\n",
       "</thead>\n",
       "<tbody>\n",
       "\t<tr><td><span style=white-space:pre-wrap>any_cancer_self_report  </span></td><td>-0.308799362337741 </td><td><span style=white-space:pre-wrap>0.734328089118022   </span></td><td>(0.488,1.105)</td><td><span style=white-space:pre-wrap>0.188914293884901   </span></td><td><span style=white-space:pre-wrap>103(69/34)  </span></td><td>1066(624/442)</td><td>88 </td><td>4.763926e-01</td><td>1.000000e+00</td><td> 0.74151304</td><td> 0.00000</td><td><span style=white-space:pre-wrap>any cancer  </span></td><td>OR &lt;= 1</td></tr>\n",
       "\t<tr><td><span style=white-space:pre-wrap>any_diabetes            </span></td><td><span style=white-space:pre-wrap>0.553348800236355  </span></td><td><span style=white-space:pre-wrap>1.73906706559204    </span></td><td>(0.972,3.113)</td><td><span style=white-space:pre-wrap>0.111784180755009   </span></td><td>178(139/39) </td><td>1066(564/502)</td><td>13 </td><td>3.087373e-01</td><td>1.000000e+00</td><td> 1.17526465</td><td> 0.00000</td><td><span style=white-space:pre-wrap>diabetes    </span></td><td>OR &gt; 1 </td></tr>\n",
       "\t<tr><td><span style=white-space:pre-wrap>any_family_cad          </span></td><td>-0.388745978948463 </td><td><span style=white-space:pre-wrap>0.677906450653731   </span></td><td>(0.385,1.193)</td><td><span style=white-space:pre-wrap>0.226265485396931   </span></td><td><span style=white-space:pre-wrap>154(80/74)  </span></td><td>990(599/391) </td><td>113</td><td>5.468083e-01</td><td>1.000000e+00</td><td> 0.60365707</td><td> 0.00000</td><td><span style=white-space:pre-wrap>family CAD  </span></td><td>OR &lt;= 1</td></tr>\n",
       "\t<tr><td><span style=white-space:pre-wrap>any_ht                  </span></td><td>-0.176565382852684 </td><td><span style=white-space:pre-wrap>0.838143977119463   </span></td><td>(0.581,1.209)</td><td><span style=white-space:pre-wrap>0.38085501384654    </span></td><td>473(308/165)</td><td>782(401/381) </td><td><span style=white-space:pre-wrap>2  </span></td><td>7.495475e-01</td><td>1.000000e+00</td><td> 0.28828560</td><td> 0.00000</td><td>hypertension</td><td>OR &lt;= 1</td></tr>\n",
       "\t<tr><td>blood_cancer_self_report</td><td><span style=white-space:pre-wrap>-257.19716400911   </span></td><td>1.9984390607772e-112</td><td><span style=white-space:pre-wrap>(0,0)        </span></td><td>6.07452568318431e-07</td><td><span style=white-space:pre-wrap>1(0/1)      </span></td><td>1066(624/442)</td><td>190</td><td>1.094486e-05</td><td>3.523225e-05</td><td>11.42264024</td><td>10.25355</td><td>blood cancer</td><td>OR &gt; 1 </td></tr>\n",
       "\t<tr><td>bone_cancer_self_report </td><td>-0.0212954771491185</td><td><span style=white-space:pre-wrap>0.978929670483446   </span></td><td>(0.778,1.232)</td><td><span style=white-space:pre-wrap>0.862154406803097   </span></td><td><span style=white-space:pre-wrap>0(0/0)      </span></td><td>1066(624/442)</td><td>191</td><td>9.260177e-01</td><td>1.000000e+00</td><td> 0.07686193</td><td> 0.00000</td><td>bone cancer </td><td>OR &lt;= 1</td></tr>\n",
       "</tbody>\n",
       "</table>\n"
      ],
      "text/latex": [
       "A data.frame: 6 × 14\n",
       "\\begin{tabular}{r|llllllllllllll}\n",
       " Outcome & Coefficient & OR & CI & P-value & Outcome\\_Present & Outcome\\_Negative & NA\\_Patient & padjustFdr & padjustBonferroni & logfdr & logbonf & Label & Association\\\\\n",
       " <chr> & <chr> & <chr> & <chr> & <chr> & <chr> & <chr> & <chr> & <dbl> & <dbl> & <dbl> & <dbl> & <fct> & <fct>\\\\\n",
       "\\hline\n",
       "\t any\\_cancer\\_self\\_report   & -0.308799362337741  & 0.734328089118022    & (0.488,1.105) & 0.188914293884901    & 103(69/34)   & 1066(624/442) & 88  & 4.763926e-01 & 1.000000e+00 &  0.74151304 &  0.00000 & any cancer   & OR <= 1\\\\\n",
       "\t any\\_diabetes             & 0.553348800236355   & 1.73906706559204     & (0.972,3.113) & 0.111784180755009    & 178(139/39)  & 1066(564/502) & 13  & 3.087373e-01 & 1.000000e+00 &  1.17526465 &  0.00000 & diabetes     & OR > 1 \\\\\n",
       "\t any\\_family\\_cad           & -0.388745978948463  & 0.677906450653731    & (0.385,1.193) & 0.226265485396931    & 154(80/74)   & 990(599/391)  & 113 & 5.468083e-01 & 1.000000e+00 &  0.60365707 &  0.00000 & family CAD   & OR <= 1\\\\\n",
       "\t any\\_ht                   & -0.176565382852684  & 0.838143977119463    & (0.581,1.209) & 0.38085501384654     & 473(308/165) & 782(401/381)  & 2   & 7.495475e-01 & 1.000000e+00 &  0.28828560 &  0.00000 & hypertension & OR <= 1\\\\\n",
       "\t blood\\_cancer\\_self\\_report & -257.19716400911    & 1.9984390607772e-112 & (0,0)         & 6.07452568318431e-07 & 1(0/1)       & 1066(624/442) & 190 & 1.094486e-05 & 3.523225e-05 & 11.42264024 & 10.25355 & blood cancer & OR > 1 \\\\\n",
       "\t bone\\_cancer\\_self\\_report  & -0.0212954771491185 & 0.978929670483446    & (0.778,1.232) & 0.862154406803097    & 0(0/0)       & 1066(624/442) & 191 & 9.260177e-01 & 1.000000e+00 &  0.07686193 &  0.00000 & bone cancer  & OR <= 1\\\\\n",
       "\\end{tabular}\n"
      ],
      "text/markdown": [
       "\n",
       "A data.frame: 6 × 14\n",
       "\n",
       "| Outcome &lt;chr&gt; | Coefficient &lt;chr&gt; | OR &lt;chr&gt; | CI &lt;chr&gt; | P-value &lt;chr&gt; | Outcome_Present &lt;chr&gt; | Outcome_Negative &lt;chr&gt; | NA_Patient &lt;chr&gt; | padjustFdr &lt;dbl&gt; | padjustBonferroni &lt;dbl&gt; | logfdr &lt;dbl&gt; | logbonf &lt;dbl&gt; | Label &lt;fct&gt; | Association &lt;fct&gt; |\n",
       "|---|---|---|---|---|---|---|---|---|---|---|---|---|---|\n",
       "| any_cancer_self_report   | -0.308799362337741  | 0.734328089118022    | (0.488,1.105) | 0.188914293884901    | 103(69/34)   | 1066(624/442) | 88  | 4.763926e-01 | 1.000000e+00 |  0.74151304 |  0.00000 | any cancer   | OR &lt;= 1 |\n",
       "| any_diabetes             | 0.553348800236355   | 1.73906706559204     | (0.972,3.113) | 0.111784180755009    | 178(139/39)  | 1066(564/502) | 13  | 3.087373e-01 | 1.000000e+00 |  1.17526465 |  0.00000 | diabetes     | OR &gt; 1  |\n",
       "| any_family_cad           | -0.388745978948463  | 0.677906450653731    | (0.385,1.193) | 0.226265485396931    | 154(80/74)   | 990(599/391)  | 113 | 5.468083e-01 | 1.000000e+00 |  0.60365707 |  0.00000 | family CAD   | OR &lt;= 1 |\n",
       "| any_ht                   | -0.176565382852684  | 0.838143977119463    | (0.581,1.209) | 0.38085501384654     | 473(308/165) | 782(401/381)  | 2   | 7.495475e-01 | 1.000000e+00 |  0.28828560 |  0.00000 | hypertension | OR &lt;= 1 |\n",
       "| blood_cancer_self_report | -257.19716400911    | 1.9984390607772e-112 | (0,0)         | 6.07452568318431e-07 | 1(0/1)       | 1066(624/442) | 190 | 1.094486e-05 | 3.523225e-05 | 11.42264024 | 10.25355 | blood cancer | OR &gt; 1  |\n",
       "| bone_cancer_self_report  | -0.0212954771491185 | 0.978929670483446    | (0.778,1.232) | 0.862154406803097    | 0(0/0)       | 1066(624/442) | 191 | 9.260177e-01 | 1.000000e+00 |  0.07686193 |  0.00000 | bone cancer  | OR &lt;= 1 |\n",
       "\n"
      ],
      "text/plain": [
       "  Outcome                  Coefficient         OR                  \n",
       "1 any_cancer_self_report   -0.308799362337741  0.734328089118022   \n",
       "2 any_diabetes             0.553348800236355   1.73906706559204    \n",
       "3 any_family_cad           -0.388745978948463  0.677906450653731   \n",
       "4 any_ht                   -0.176565382852684  0.838143977119463   \n",
       "5 blood_cancer_self_report -257.19716400911    1.9984390607772e-112\n",
       "6 bone_cancer_self_report  -0.0212954771491185 0.978929670483446   \n",
       "  CI            P-value              Outcome_Present Outcome_Negative\n",
       "1 (0.488,1.105) 0.188914293884901    103(69/34)      1066(624/442)   \n",
       "2 (0.972,3.113) 0.111784180755009    178(139/39)     1066(564/502)   \n",
       "3 (0.385,1.193) 0.226265485396931    154(80/74)      990(599/391)    \n",
       "4 (0.581,1.209) 0.38085501384654     473(308/165)    782(401/381)    \n",
       "5 (0,0)         6.07452568318431e-07 1(0/1)          1066(624/442)   \n",
       "6 (0.778,1.232) 0.862154406803097    0(0/0)          1066(624/442)   \n",
       "  NA_Patient padjustFdr   padjustBonferroni logfdr      logbonf  Label       \n",
       "1 88         4.763926e-01 1.000000e+00       0.74151304  0.00000 any cancer  \n",
       "2 13         3.087373e-01 1.000000e+00       1.17526465  0.00000 diabetes    \n",
       "3 113        5.468083e-01 1.000000e+00       0.60365707  0.00000 family CAD  \n",
       "4 2          7.495475e-01 1.000000e+00       0.28828560  0.00000 hypertension\n",
       "5 190        1.094486e-05 3.523225e-05      11.42264024 10.25355 blood cancer\n",
       "6 191        9.260177e-01 1.000000e+00       0.07686193  0.00000 bone cancer \n",
       "  Association\n",
       "1 OR <= 1    \n",
       "2 OR > 1     \n",
       "3 OR <= 1    \n",
       "4 OR <= 1    \n",
       "5 OR > 1     \n",
       "6 OR <= 1    "
      ]
     },
     "metadata": {},
     "output_type": "display_data"
    }
   ],
   "source": [
    "colnames( hei0506_result_OverweightObese) <- c(\"Outcome\", \"Coefficient\", \"OR\", \"CI\", \"P-value\", \"Outcome_Present\", \"Outcome_Negative\", \"NA_Patient\")\n",
    "\n",
    "hei0506_result_OverweightObese$padjustFdr <- p.adjust( as.numeric( hei0506_result_OverweightObese$`P-value`), method = \"fdr\")\n",
    "hei0506_result_OverweightObese$padjustBonferroni <- p.adjust( as.numeric( hei0506_result_OverweightObese$`P-value`), method = \"bonferroni\")\n",
    "\n",
    "\n",
    "hei0506_result_OverweightObese$logfdr <- -log( as.numeric(hei0506_result_OverweightObese$padjustFdr))\n",
    "hei0506_result_OverweightObese$logbonf <- -log( as.numeric(hei0506_result_OverweightObese$padjustBonferroni))\n",
    "\n",
    "hei0506_result_OverweightObese <- merge(hei0506_result_OverweightObese, Labels, by = \"Outcome\")\n",
    "\n",
    "hei0506_result_OverweightObese$Association <- as.factor(ifelse(hei0506_result_OverweightObese$OR > 1, \"OR > 1\", \"OR <= 1\"))\n",
    "\n",
    "\n",
    "head(hei0506_result_OverweightObese)"
   ]
  },
  {
   "cell_type": "code",
   "execution_count": 23,
   "metadata": {},
   "outputs": [
    {
     "ename": "ERROR",
     "evalue": "Error in parse(text = x, srcfile = src): <text>:1:7: unexpected symbol\n1: Using ggplot\n          ^\n",
     "output_type": "error",
     "traceback": [
      "Error in parse(text = x, srcfile = src): <text>:1:7: unexpected symbol\n1: Using ggplot\n          ^\nTraceback:\n"
     ]
    }
   ],
   "source": [
    "Using ggplot to create Manhatten plot for results"
   ]
  },
  {
   "cell_type": "code",
   "execution_count": 25,
   "metadata": {},
   "outputs": [
    {
     "data": {
      "image/png": "[encoded data removed]",
      "text/plain": [
       "plot without title"
      ]
     },
     "metadata": {},
     "output_type": "display_data"
    }
   ],
   "source": [
    "ggplot(hei0506_result_OverweightObese, aes(Outcome, logbonf))+ \n",
    "geom_point(aes(color = Association, fill = Association, shape = Association), size=3)+\n",
    "scale_shape_manual(values=c(25, 24))+\n",
    "scale_fill_manual(values=c(\"lightgray\",\"black\"))+\n",
    "scale_color_manual(values = c(\"lightgray\", \"black\"))+\n",
    "geom_text_repel(data = subset(hei0506_result_OverweightObese, logbonf > -log(0.05/nrow(hei0506_result_OverweightObese)) ),aes(label=Label))+\n",
    "geom_hline(yintercept= (-log(0.05/nrow(hei0506_result_OverweightObese))), linetype=\"dashed\", color = \"black\")+\n",
    "labs(title =\"Disease & Biomarker Outcome Significance \\n Comparing Highest and Lowest Quintiles of \\n the Healthy Eating Index Among Overweight and Obese Individuals \\n  BMI >= 25.0\",\n",
    "     subtitle = bquote(\"Adjusted for sex, age,\"~ age^2~\", race/ethnicity, smoking and BMI\"),\n",
    "     caption = \"Bonferroni adjusted p-values\")+\n",
    "ylab(\"-log p-value\")+\n",
    "xlab(\"Disease Outcomes\")+\n",
    "#ggtitle(\"Disease & Biomarker Outcome Significance \\n Comparing Highest and Lowest Quintiles of Healthy Eating Index\")+\n",
    "theme_bw()+\n",
    "theme(axis.text.x = element_blank(), \n",
    "      panel.grid.major = element_blank(), \n",
    "      panel.grid.minor = element_blank(), \n",
    "      plot.subtitle = element_text(face = \"italic\", hjust = 0.5),\n",
    "      plot.caption = element_text(face = \"italic\", hjust = 1),\n",
    "      axis.title.x = element_text(family=\"Helvetica\", face = \"bold\", size = 12, vjust = -2),\n",
    "      axis.title.y = element_text(family=\"Helvetica\", face = \"bold\", size = 12),\n",
    "      plot.title=element_text(family = \"Helvetica\", face = \"bold\", size = 14, hjust=0.5))"
   ]
  },
  {
   "cell_type": "markdown",
   "metadata": {},
   "source": [
    "Normalweight individuals"
   ]
  },
  {
   "cell_type": "markdown",
   "metadata": {},
   "source": [
    "Subset data and select disease variables "
   ]
  },
  {
   "cell_type": "code",
   "execution_count": 27,
   "metadata": {},
   "outputs": [],
   "source": [
    "MainTableNormal <- MainTable[ which(MainTable$RIDAGEYR >= 18 & MainTable$BMXBMI > 18.5 & MainTable$BMXBMI < 25),] \n",
    "\n",
    "MainTable_Health <- subset(MainTableNormal, select = c(\"SEQN\",\"SDMVPSU\", \"SDMVSTRA\", \"WTMEC2YR\",\"RIDAGEYR\",\"BMXBMI\", \"black\", \"mexican\", \"other_hispanic\", \"other_eth\", \"SMQ040\", \"male\", \"female\", \"any_diabetes\", \"any_ht\", \"cad\", \"bladder_cancer_self_report\", \"blood_cancer_self_report\", \"bone_cancer_self_report\", \"brain_cancer_self_report\", \"breast_cancer_self_report\", \"cervix_cacner_self_report\", \"colon_cancer_self_report\", \"esophagus_cancer_self_report\", \"gallbladder_cancer_self_report\", \"kidney_cancer_self_report\", \"larynx_cancer_self_report\", \"leukemia_self_report\", \"liver_cancer_self_report\", \"lung_cancer_self_report\", \"lymphoma_self_report\", \"melanoma_self_report\", \"mouth_cancer_self_report\", \"nervous_cancer_self_report\", \"ovarian_cancer_self_report\", \"pancreatic_cancer_self_report\", \"prostate_cancer_self_report\", \"rectum_cancer_self_report\", \"skin_cancer_self_report\", \"other_skin_cancer_self_report\", \"soft_cancer_self_report\", \"stomach_cancer_self_report\", \"testis_cancer_self_report\", \"thyroid_cancer_self_report\", \"uterine_cancer_self_report\", \"other_cancer_self_report\", \"any_cancer_self_report\", \"any_family_cad\", \"current_asthma\", \"ever_asthma\", \"ever_arthritis\", \"ever_rheumatoid_arthritis\", \"ever_osteo_arthritis\", \"LBXHBC\", \"LBDHBG\", \"LBDHCV\", \"LBDHD\", \"LBXHBS\", \"LBXHA\", \"LBDHI\"))\n",
    "\n",
    "Biomarkers_Threshold <- subset(MainTableNormal, select =c(\"LBXTC\", \"LBDLDL\", \"LBXTR\", \"LBXGH\", \"LBXGLU\", \"LBXVIA\", \"LBXVIC\", \"LBXVID\", \"LBXVIE\",  \"LBXB12\", \"LBXFOL\", \"LBXRBF\", \"LBXFER\", \"LBXHCY\"))\n",
    "\n",
    "\n",
    "#*************Threshold values*************************\n",
    "\n",
    "#Total cholesterol - Case <= 200\n",
    "Biomarkers_Threshold$LBXTC_TH <- ifelse(Biomarkers_Threshold$LBXTC <= 200, 1, 0)\n",
    "#LDL -  case < 100\n",
    "Biomarkers_Threshold$LBDLDL_TH <- ifelse(Biomarkers_Threshold$LBDLDL <= 100, 1, 0)\n",
    "#Triglycerides - case >= 150 \n",
    "Biomarkers_Threshold$LBXTR_TH <- ifelse(Biomarkers_Threshold$LBXTR <= 150, 1, 0)\n",
    "#Glycohemoglobin - case <= 5.7 \n",
    "Biomarkers_Threshold$LBXGH_TH <- ifelse(Biomarkers_Threshold$LBXGH <= 5.7, 1, 0)\n",
    "#Fasting Glucose -case <= 100\n",
    "Biomarkers_Threshold$LBXGLU_TH <- ifelse(Biomarkers_Threshold$LBXGLU <= 100, 1, 0)\n",
    "#Vitamin A - case >= 20 \n",
    "Biomarkers_Threshold$LBXVIA_TH <- ifelse(Biomarkers_Threshold$LBXVIA >= 20, 1, 0)\n",
    "#vitamin C - case >= 11.4\n",
    "Biomarkers_Threshold$LBXVIC_TH <- ifelse(Biomarkers_Threshold$LBXVIC >= 11.4, 1, 0)\n",
    "#vitamin D - case >= 20\n",
    "Biomarkers_Threshold$LBXVID_TH <- ifelse(Biomarkers_Threshold$LBXVID >= 20, 1, 0)\n",
    "#vitamin E - case >= 500\n",
    "Biomarkers_Threshold$LBXVIE_TH <- ifelse(Biomarkers_Threshold$LBXVIE >= 500, 1, 0)\n",
    "#vitamin B12 - case  >= 200\n",
    "Biomarkers_Threshold$LBXB12_TH <- ifelse(Biomarkers_Threshold$LBXB12 >= 200, 1, 0)\n",
    "#serum folate - case >= 2\n",
    "Biomarkers_Threshold$LBXFOL_TH <- ifelse(Biomarkers_Threshold$LBXFOL >= 2, 1, 0)\n",
    "#RBC FOLATE\n",
    "Biomarkers_Threshold$LBXRBF_TH <- ifelse(Biomarkers_Threshold$LBXRBF >= 95, 1, 0)\n",
    "#ferritin\n",
    "Biomarkers_Threshold$LBXFER_TH <- ifelse(Biomarkers_Threshold$LBXFER >= 15, 1, 0)\n",
    "#plasma homocysteine\n",
    "Biomarkers_Threshold$LBXHCY_TH <- ifelse(Biomarkers_Threshold$LBXHCY <= 13, 1, 0)\n",
    "\n",
    "Biomarkers_Threshold <- subset(Biomarkers_Threshold, select =c(\"LBXTC_TH\", \"LBDLDL_TH\", \"LBXTR_TH\", \"LBXGH_TH\", \"LBXGLU_TH\", \"LBXVIA_TH\", \"LBXVIC_TH\", \"LBXVID_TH\", \"LBXVIE_TH\",  \"LBXB12_TH\", \"LBXFOL_TH\", \"LBXRBF_TH\", \"LBXFER_TH\", \"LBXHCY_TH\"))\n",
    "\n",
    "Health_Biomarkers <- cbind(MainTable_Health, Biomarkers_Threshold)\n",
    "\n",
    "phenotypesheath_biomarkers <- c(\"any_diabetes\", \"any_ht\", \"cad\", \"bladder_cancer_self_report\", \"blood_cancer_self_report\", \"bone_cancer_self_report\", \"brain_cancer_self_report\", \"breast_cancer_self_report\", \"cervix_cacner_self_report\", \"colon_cancer_self_report\", \"esophagus_cancer_self_report\", \"gallbladder_cancer_self_report\", \"kidney_cancer_self_report\", \"larynx_cancer_self_report\", \"leukemia_self_report\", \"liver_cancer_self_report\", \"lung_cancer_self_report\", \"lymphoma_self_report\", \"melanoma_self_report\", \"mouth_cancer_self_report\", \"nervous_cancer_self_report\", \"ovarian_cancer_self_report\", \"pancreatic_cancer_self_report\", \"prostate_cancer_self_report\", \"rectum_cancer_self_report\", \"skin_cancer_self_report\", \"other_skin_cancer_self_report\", \"soft_cancer_self_report\", \"stomach_cancer_self_report\", \"testis_cancer_self_report\", \"thyroid_cancer_self_report\", \"uterine_cancer_self_report\", \"other_cancer_self_report\", \"any_cancer_self_report\", \"any_family_cad\", \"current_asthma\", \"ever_asthma\", \"ever_arthritis\", \"ever_rheumatoid_arthritis\", \"ever_osteo_arthritis\", \"LBXHBC\", \"LBDHBG\", \"LBDHCV\", \"LBDHD\", \"LBXHBS\", \"LBXHA\", \"LBDHI\", \"LBXTC_TH\", \"LBDLDL_TH\", \"LBXTR_TH\", \"LBXGH_TH\", \"LBXGLU_TH\", \"LBXVIA_TH\", \"LBXVIC_TH\", \"LBXVID_TH\", \"LBXVIE_TH\",  \"LBXB12_TH\", \"LBXFOL_TH\", \"LBXRBF_TH\", \"LBXFER_TH\", \"LBXHCY_TH\")"
   ]
  },
  {
   "cell_type": "markdown",
   "metadata": {},
   "source": [
    "Selecting dataframe, case, control and phenotype list"
   ]
  },
  {
   "cell_type": "code",
   "execution_count": 28,
   "metadata": {},
   "outputs": [],
   "source": [
    "dataframe <- Health_Biomarkers\n",
    "cut <- \"quintile\"\n",
    "case <- 5\n",
    "control <- 1\n",
    "phenotypes <- phenotypesheath_biomarkers"
   ]
  },
  {
   "cell_type": "markdown",
   "metadata": {},
   "source": [
    "Merging quintile values with working dataframe"
   ]
  },
  {
   "cell_type": "code",
   "execution_count": 29,
   "metadata": {},
   "outputs": [],
   "source": [
    "hei0506_subset <- subset(hei0506, select = c(\"SEQN\", cut))           #subset with grade or quintile and SEQN\n",
    "hei0506_subset$SEQN <- as.character( hei0506_subset$SEQN )          #change both 'SEQN' columns to characters for merging\n",
    "dataframe$SEQN <- as.character( dataframe$SEQN )\n",
    "\n",
    "hei0506_merged <- merge(dataframe, hei0506_subset, by=\"SEQN\")     #merging the grade or qunitile with dataframe\n",
    "\n",
    "hei0506_merged_cut <- hei0506_merged[hei0506_merged[,cut] %in% c(case, control),]   #selecting cases & control\n",
    "\n",
    "\n",
    "hei0506_casecontrol <- subset(hei0506_merged_cut, select=c(\"SEQN\", cut))#subsetting so we just have SEQN+cut \n",
    "\n",
    "hei0506_casecontrol[cut] <- ifelse(hei0506_casecontrol[cut]==case, 1, 0) #Converting case control to binary\n",
    "\n",
    "hei0506_final <- inner_join(hei0506_merged, hei0506_casecontrol, by = \"SEQN\")  #Merge phenotypes w/ binary input\n",
    "colNumber <- length(hei0506_final) - 1\n",
    "colnames(hei0506_final)[colNumber] <- \"casecontrol\"\n",
    "colNumber <- length(hei0506_final)\n",
    "colnames(hei0506_final)[colNumber] <- \"casevalue\"\n"
   ]
  },
  {
   "cell_type": "markdown",
   "metadata": {},
   "source": [
    "Setting survey design"
   ]
  },
  {
   "cell_type": "code",
   "execution_count": 30,
   "metadata": {},
   "outputs": [],
   "source": [
    "dsn <- svydesign(ids=~SDMVPSU, strata=~SDMVSTRA, weights=~WTMEC2YR, nest=T, data=hei0506_final, variables = NULL)"
   ]
  },
  {
   "cell_type": "markdown",
   "metadata": {},
   "source": [
    "Creating dataframe matrix for results"
   ]
  },
  {
   "cell_type": "code",
   "execution_count": 31,
   "metadata": {},
   "outputs": [],
   "source": [
    "hei0506_result_Normalweight <- as.data.frame(matrix(ncol =8))"
   ]
  },
  {
   "cell_type": "markdown",
   "metadata": {},
   "source": [
    "For loop to run all regressions"
   ]
  },
  {
   "cell_type": "code",
   "execution_count": 32,
   "metadata": {},
   "outputs": [
    {
     "name": "stdout",
     "output_type": "stream",
     "text": [
      "[1] 12\n"
     ]
    },
    {
     "name": "stderr",
     "output_type": "stream",
     "text": [
      "Warning message in eval(family$initialize):\n",
      "“non-integer #successes in a binomial glm!”Warning message:\n",
      "“glm.fit: algorithm did not converge”"
     ]
    },
    {
     "name": "stdout",
     "output_type": "stream",
     "text": [
      "[1] 13\n"
     ]
    },
    {
     "name": "stderr",
     "output_type": "stream",
     "text": [
      "Warning message in model.matrix.default(mt, mf, contrasts):\n",
      "“the response appeared on the right-hand side and was dropped”Warning message in model.matrix.default(mt, mf, contrasts):\n",
      "“problem with term 7 in model.matrix: no columns are assigned”Warning message in eval(family$initialize):\n",
      "“non-integer #successes in a binomial glm!”Warning message in model.matrix.default(glm.object, data = structure(list(female = c(0, :\n",
      "“the response appeared on the right-hand side and was dropped”Warning message in model.matrix.default(glm.object, data = structure(list(female = c(0, :\n",
      "“problem with term 7 in model.matrix: no columns are assigned”"
     ]
    },
    {
     "name": "stdout",
     "output_type": "stream",
     "text": [
      "[1] 14\n"
     ]
    },
    {
     "name": "stderr",
     "output_type": "stream",
     "text": [
      "Warning message in eval(family$initialize):\n",
      "“non-integer #successes in a binomial glm!”"
     ]
    },
    {
     "name": "stdout",
     "output_type": "stream",
     "text": [
      "[1] 15\n"
     ]
    },
    {
     "name": "stderr",
     "output_type": "stream",
     "text": [
      "Warning message in eval(family$initialize):\n",
      "“non-integer #successes in a binomial glm!”"
     ]
    },
    {
     "name": "stdout",
     "output_type": "stream",
     "text": [
      "[1] 16\n"
     ]
    },
    {
     "name": "stderr",
     "output_type": "stream",
     "text": [
      "Warning message in eval(family$initialize):\n",
      "“non-integer #successes in a binomial glm!”"
     ]
    },
    {
     "name": "stdout",
     "output_type": "stream",
     "text": [
      "[1] 17\n"
     ]
    },
    {
     "name": "stderr",
     "output_type": "stream",
     "text": [
      "Warning message in eval(family$initialize):\n",
      "“non-integer #successes in a binomial glm!”Warning message:\n",
      "“glm.fit: fitted probabilities numerically 0 or 1 occurred”"
     ]
    },
    {
     "name": "stdout",
     "output_type": "stream",
     "text": [
      "[1] 18\n"
     ]
    },
    {
     "name": "stderr",
     "output_type": "stream",
     "text": [
      "Warning message:\n",
      "“glm.fit: algorithm did not converge”"
     ]
    },
    {
     "name": "stdout",
     "output_type": "stream",
     "text": [
      "[1] 19\n"
     ]
    },
    {
     "name": "stderr",
     "output_type": "stream",
     "text": [
      "Warning message:\n",
      "“glm.fit: algorithm did not converge”"
     ]
    },
    {
     "name": "stdout",
     "output_type": "stream",
     "text": [
      "[1] 20\n"
     ]
    },
    {
     "name": "stderr",
     "output_type": "stream",
     "text": [
      "Warning message:\n",
      "“glm.fit: algorithm did not converge”"
     ]
    },
    {
     "name": "stdout",
     "output_type": "stream",
     "text": [
      "[1] 21\n"
     ]
    },
    {
     "name": "stderr",
     "output_type": "stream",
     "text": [
      "Warning message in eval(family$initialize):\n",
      "“non-integer #successes in a binomial glm!”Warning message:\n",
      "“glm.fit: fitted probabilities numerically 0 or 1 occurred”"
     ]
    },
    {
     "name": "stdout",
     "output_type": "stream",
     "text": [
      "[1] 22\n"
     ]
    },
    {
     "name": "stderr",
     "output_type": "stream",
     "text": [
      "Warning message in eval(family$initialize):\n",
      "“non-integer #successes in a binomial glm!”Warning message:\n",
      "“glm.fit: fitted probabilities numerically 0 or 1 occurred”"
     ]
    },
    {
     "name": "stdout",
     "output_type": "stream",
     "text": [
      "[1] 23\n"
     ]
    },
    {
     "name": "stderr",
     "output_type": "stream",
     "text": [
      "Warning message in eval(family$initialize):\n",
      "“non-integer #successes in a binomial glm!”Warning message:\n",
      "“glm.fit: fitted probabilities numerically 0 or 1 occurred”"
     ]
    },
    {
     "name": "stdout",
     "output_type": "stream",
     "text": [
      "[1] 24\n"
     ]
    },
    {
     "name": "stderr",
     "output_type": "stream",
     "text": [
      "Warning message:\n",
      "“glm.fit: algorithm did not converge”"
     ]
    },
    {
     "name": "stdout",
     "output_type": "stream",
     "text": [
      "[1] 25\n"
     ]
    },
    {
     "name": "stderr",
     "output_type": "stream",
     "text": [
      "Warning message:\n",
      "“glm.fit: algorithm did not converge”"
     ]
    },
    {
     "name": "stdout",
     "output_type": "stream",
     "text": [
      "[1] 26\n"
     ]
    },
    {
     "name": "stderr",
     "output_type": "stream",
     "text": [
      "Warning message in eval(family$initialize):\n",
      "“non-integer #successes in a binomial glm!”Warning message:\n",
      "“glm.fit: fitted probabilities numerically 0 or 1 occurred”"
     ]
    },
    {
     "name": "stdout",
     "output_type": "stream",
     "text": [
      "[1] 27\n"
     ]
    },
    {
     "name": "stderr",
     "output_type": "stream",
     "text": [
      "Warning message:\n",
      "“glm.fit: algorithm did not converge”"
     ]
    },
    {
     "name": "stdout",
     "output_type": "stream",
     "text": [
      "[1] 28\n"
     ]
    },
    {
     "name": "stderr",
     "output_type": "stream",
     "text": [
      "Warning message:\n",
      "“glm.fit: algorithm did not converge”"
     ]
    },
    {
     "name": "stdout",
     "output_type": "stream",
     "text": [
      "[1] 29\n"
     ]
    },
    {
     "name": "stderr",
     "output_type": "stream",
     "text": [
      "Warning message:\n",
      "“glm.fit: algorithm did not converge”"
     ]
    },
    {
     "name": "stdout",
     "output_type": "stream",
     "text": [
      "[1] 30\n"
     ]
    },
    {
     "name": "stderr",
     "output_type": "stream",
     "text": [
      "Warning message in eval(family$initialize):\n",
      "“non-integer #successes in a binomial glm!”Warning message:\n",
      "“glm.fit: fitted probabilities numerically 0 or 1 occurred”"
     ]
    },
    {
     "name": "stdout",
     "output_type": "stream",
     "text": [
      "[1] 31\n"
     ]
    },
    {
     "name": "stderr",
     "output_type": "stream",
     "text": [
      "Warning message in eval(family$initialize):\n",
      "“non-integer #successes in a binomial glm!”Warning message:\n",
      "“glm.fit: fitted probabilities numerically 0 or 1 occurred”"
     ]
    },
    {
     "name": "stdout",
     "output_type": "stream",
     "text": [
      "[1] 32\n"
     ]
    },
    {
     "name": "stderr",
     "output_type": "stream",
     "text": [
      "Warning message in eval(family$initialize):\n",
      "“non-integer #successes in a binomial glm!”Warning message:\n",
      "“glm.fit: fitted probabilities numerically 0 or 1 occurred”"
     ]
    },
    {
     "name": "stdout",
     "output_type": "stream",
     "text": [
      "[1] 33\n"
     ]
    },
    {
     "name": "stderr",
     "output_type": "stream",
     "text": [
      "Warning message:\n",
      "“glm.fit: algorithm did not converge”"
     ]
    },
    {
     "name": "stdout",
     "output_type": "stream",
     "text": [
      "[1] 34\n"
     ]
    },
    {
     "name": "stderr",
     "output_type": "stream",
     "text": [
      "Warning message:\n",
      "“glm.fit: algorithm did not converge”"
     ]
    },
    {
     "name": "stdout",
     "output_type": "stream",
     "text": [
      "[1] 35\n"
     ]
    },
    {
     "name": "stderr",
     "output_type": "stream",
     "text": [
      "Warning message:\n",
      "“glm.fit: algorithm did not converge”"
     ]
    },
    {
     "name": "stdout",
     "output_type": "stream",
     "text": [
      "[1] 36\n"
     ]
    },
    {
     "name": "stderr",
     "output_type": "stream",
     "text": [
      "Warning message:\n",
      "“glm.fit: algorithm did not converge”"
     ]
    },
    {
     "name": "stdout",
     "output_type": "stream",
     "text": [
      "[1] 37\n"
     ]
    },
    {
     "name": "stderr",
     "output_type": "stream",
     "text": [
      "Warning message in eval(family$initialize):\n",
      "“non-integer #successes in a binomial glm!”Warning message:\n",
      "“glm.fit: fitted probabilities numerically 0 or 1 occurred”"
     ]
    },
    {
     "name": "stdout",
     "output_type": "stream",
     "text": [
      "[1] 38\n"
     ]
    },
    {
     "name": "stderr",
     "output_type": "stream",
     "text": [
      "Warning message:\n",
      "“glm.fit: algorithm did not converge”"
     ]
    },
    {
     "name": "stdout",
     "output_type": "stream",
     "text": [
      "[1] 39\n"
     ]
    },
    {
     "name": "stderr",
     "output_type": "stream",
     "text": [
      "Warning message in eval(family$initialize):\n",
      "“non-integer #successes in a binomial glm!”Warning message:\n",
      "“glm.fit: fitted probabilities numerically 0 or 1 occurred”"
     ]
    },
    {
     "name": "stdout",
     "output_type": "stream",
     "text": [
      "[1] 40\n"
     ]
    },
    {
     "name": "stderr",
     "output_type": "stream",
     "text": [
      "Warning message in eval(family$initialize):\n",
      "“non-integer #successes in a binomial glm!”Warning message:\n",
      "“glm.fit: fitted probabilities numerically 0 or 1 occurred”"
     ]
    },
    {
     "name": "stdout",
     "output_type": "stream",
     "text": [
      "[1] 41\n"
     ]
    },
    {
     "name": "stderr",
     "output_type": "stream",
     "text": [
      "Warning message:\n",
      "“glm.fit: algorithm did not converge”"
     ]
    },
    {
     "name": "stdout",
     "output_type": "stream",
     "text": [
      "[1] 42\n"
     ]
    },
    {
     "name": "stderr",
     "output_type": "stream",
     "text": [
      "Warning message:\n",
      "“glm.fit: algorithm did not converge”"
     ]
    },
    {
     "name": "stdout",
     "output_type": "stream",
     "text": [
      "[1] 43\n"
     ]
    },
    {
     "name": "stderr",
     "output_type": "stream",
     "text": [
      "Warning message:\n",
      "“glm.fit: algorithm did not converge”"
     ]
    },
    {
     "name": "stdout",
     "output_type": "stream",
     "text": [
      "[1] 44\n"
     ]
    },
    {
     "name": "stderr",
     "output_type": "stream",
     "text": [
      "Warning message:\n",
      "“glm.fit: algorithm did not converge”"
     ]
    },
    {
     "name": "stdout",
     "output_type": "stream",
     "text": [
      "[1] 45\n"
     ]
    },
    {
     "name": "stderr",
     "output_type": "stream",
     "text": [
      "Warning message in eval(family$initialize):\n",
      "“non-integer #successes in a binomial glm!”Warning message:\n",
      "“glm.fit: fitted probabilities numerically 0 or 1 occurred”"
     ]
    },
    {
     "name": "stdout",
     "output_type": "stream",
     "text": [
      "[1] 46\n"
     ]
    },
    {
     "name": "stderr",
     "output_type": "stream",
     "text": [
      "Warning message in eval(family$initialize):\n",
      "“non-integer #successes in a binomial glm!”Warning message:\n",
      "“glm.fit: fitted probabilities numerically 0 or 1 occurred”"
     ]
    },
    {
     "name": "stdout",
     "output_type": "stream",
     "text": [
      "[1] 47\n"
     ]
    },
    {
     "name": "stderr",
     "output_type": "stream",
     "text": [
      "Warning message in eval(family$initialize):\n",
      "“non-integer #successes in a binomial glm!”"
     ]
    },
    {
     "name": "stdout",
     "output_type": "stream",
     "text": [
      "[1] 48\n"
     ]
    },
    {
     "name": "stderr",
     "output_type": "stream",
     "text": [
      "Warning message in eval(family$initialize):\n",
      "“non-integer #successes in a binomial glm!”"
     ]
    },
    {
     "name": "stdout",
     "output_type": "stream",
     "text": [
      "[1] 49\n"
     ]
    },
    {
     "name": "stderr",
     "output_type": "stream",
     "text": [
      "Warning message in eval(family$initialize):\n",
      "“non-integer #successes in a binomial glm!”"
     ]
    },
    {
     "name": "stdout",
     "output_type": "stream",
     "text": [
      "[1] 50\n"
     ]
    },
    {
     "name": "stderr",
     "output_type": "stream",
     "text": [
      "Warning message in eval(family$initialize):\n",
      "“non-integer #successes in a binomial glm!”"
     ]
    },
    {
     "name": "stdout",
     "output_type": "stream",
     "text": [
      "[1] 51\n"
     ]
    },
    {
     "name": "stderr",
     "output_type": "stream",
     "text": [
      "Warning message in eval(family$initialize):\n",
      "“non-integer #successes in a binomial glm!”"
     ]
    },
    {
     "name": "stdout",
     "output_type": "stream",
     "text": [
      "[1] 52\n"
     ]
    },
    {
     "name": "stderr",
     "output_type": "stream",
     "text": [
      "Warning message in eval(family$initialize):\n",
      "“non-integer #successes in a binomial glm!”"
     ]
    },
    {
     "name": "stdout",
     "output_type": "stream",
     "text": [
      "[1] 53\n"
     ]
    },
    {
     "name": "stderr",
     "output_type": "stream",
     "text": [
      "Warning message in eval(family$initialize):\n",
      "“non-integer #successes in a binomial glm!”"
     ]
    },
    {
     "name": "stdout",
     "output_type": "stream",
     "text": [
      "[1] 54\n"
     ]
    },
    {
     "name": "stderr",
     "output_type": "stream",
     "text": [
      "Warning message in eval(family$initialize):\n",
      "“non-integer #successes in a binomial glm!”"
     ]
    },
    {
     "name": "stdout",
     "output_type": "stream",
     "text": [
      "[1] 55\n"
     ]
    },
    {
     "name": "stderr",
     "output_type": "stream",
     "text": [
      "Warning message in eval(family$initialize):\n",
      "“non-integer #successes in a binomial glm!”"
     ]
    },
    {
     "name": "stdout",
     "output_type": "stream",
     "text": [
      "[1] 56\n"
     ]
    },
    {
     "name": "stderr",
     "output_type": "stream",
     "text": [
      "Warning message in eval(family$initialize):\n",
      "“non-integer #successes in a binomial glm!”"
     ]
    },
    {
     "name": "stdout",
     "output_type": "stream",
     "text": [
      "[1] 57\n"
     ]
    },
    {
     "name": "stderr",
     "output_type": "stream",
     "text": [
      "Warning message:\n",
      "“glm.fit: algorithm did not converge”"
     ]
    },
    {
     "name": "stdout",
     "output_type": "stream",
     "text": [
      "[1] 58\n"
     ]
    },
    {
     "name": "stderr",
     "output_type": "stream",
     "text": [
      "Warning message in eval(family$initialize):\n",
      "“non-integer #successes in a binomial glm!”"
     ]
    },
    {
     "name": "stdout",
     "output_type": "stream",
     "text": [
      "[1] 59\n"
     ]
    },
    {
     "name": "stderr",
     "output_type": "stream",
     "text": [
      "Warning message in eval(family$initialize):\n",
      "“non-integer #successes in a binomial glm!”"
     ]
    },
    {
     "name": "stdout",
     "output_type": "stream",
     "text": [
      "[1] 60\n"
     ]
    },
    {
     "name": "stderr",
     "output_type": "stream",
     "text": [
      "Warning message in eval(family$initialize):\n",
      "“non-integer #successes in a binomial glm!”Warning message:\n",
      "“glm.fit: fitted probabilities numerically 0 or 1 occurred”"
     ]
    },
    {
     "name": "stdout",
     "output_type": "stream",
     "text": [
      "[1] 61\n"
     ]
    },
    {
     "name": "stderr",
     "output_type": "stream",
     "text": [
      "Warning message in eval(family$initialize):\n",
      "“non-integer #successes in a binomial glm!”"
     ]
    },
    {
     "name": "stdout",
     "output_type": "stream",
     "text": [
      "[1] 62\n"
     ]
    },
    {
     "name": "stderr",
     "output_type": "stream",
     "text": [
      "Warning message in eval(family$initialize):\n",
      "“non-integer #successes in a binomial glm!”"
     ]
    },
    {
     "name": "stdout",
     "output_type": "stream",
     "text": [
      "[1] 63\n"
     ]
    },
    {
     "name": "stderr",
     "output_type": "stream",
     "text": [
      "Warning message in eval(family$initialize):\n",
      "“non-integer #successes in a binomial glm!”"
     ]
    },
    {
     "name": "stdout",
     "output_type": "stream",
     "text": [
      "[1] 64\n"
     ]
    },
    {
     "name": "stderr",
     "output_type": "stream",
     "text": [
      "Warning message in eval(family$initialize):\n",
      "“non-integer #successes in a binomial glm!”"
     ]
    },
    {
     "name": "stdout",
     "output_type": "stream",
     "text": [
      "[1] 65\n"
     ]
    },
    {
     "name": "stderr",
     "output_type": "stream",
     "text": [
      "Warning message in eval(family$initialize):\n",
      "“non-integer #successes in a binomial glm!”"
     ]
    },
    {
     "name": "stdout",
     "output_type": "stream",
     "text": [
      "[1] 66\n"
     ]
    },
    {
     "name": "stderr",
     "output_type": "stream",
     "text": [
      "Warning message in eval(family$initialize):\n",
      "“non-integer #successes in a binomial glm!”Warning message:\n",
      "“glm.fit: algorithm did not converge”"
     ]
    },
    {
     "name": "stdout",
     "output_type": "stream",
     "text": [
      "[1] 67\n"
     ]
    },
    {
     "name": "stderr",
     "output_type": "stream",
     "text": [
      "Warning message:\n",
      "“glm.fit: algorithm did not converge”"
     ]
    },
    {
     "name": "stdout",
     "output_type": "stream",
     "text": [
      "[1] 68\n"
     ]
    },
    {
     "name": "stderr",
     "output_type": "stream",
     "text": [
      "Warning message in eval(family$initialize):\n",
      "“non-integer #successes in a binomial glm!”"
     ]
    },
    {
     "name": "stdout",
     "output_type": "stream",
     "text": [
      "[1] 69\n"
     ]
    },
    {
     "name": "stderr",
     "output_type": "stream",
     "text": [
      "Warning message in eval(family$initialize):\n",
      "“non-integer #successes in a binomial glm!”Warning message:\n",
      "“glm.fit: fitted probabilities numerically 0 or 1 occurred”"
     ]
    },
    {
     "name": "stdout",
     "output_type": "stream",
     "text": [
      "[1] 70\n"
     ]
    },
    {
     "name": "stderr",
     "output_type": "stream",
     "text": [
      "Warning message in eval(family$initialize):\n",
      "“non-integer #successes in a binomial glm!”"
     ]
    },
    {
     "name": "stdout",
     "output_type": "stream",
     "text": [
      "[1] 71\n"
     ]
    },
    {
     "name": "stderr",
     "output_type": "stream",
     "text": [
      "Warning message in eval(family$initialize):\n",
      "“non-integer #successes in a binomial glm!”Warning message:\n",
      "“glm.fit: algorithm did not converge”"
     ]
    },
    {
     "name": "stdout",
     "output_type": "stream",
     "text": [
      "[1] 72\n"
     ]
    },
    {
     "name": "stderr",
     "output_type": "stream",
     "text": [
      "Warning message in eval(family$initialize):\n",
      "“non-integer #successes in a binomial glm!”Warning message:\n",
      "“glm.fit: algorithm did not converge”Warning message:\n",
      "“glm.fit: fitted probabilities numerically 0 or 1 occurred”"
     ]
    },
    {
     "name": "stdout",
     "output_type": "stream",
     "text": [
      "[1] 73\n"
     ]
    },
    {
     "name": "stderr",
     "output_type": "stream",
     "text": [
      "Warning message in eval(family$initialize):\n",
      "“non-integer #successes in a binomial glm!”"
     ]
    },
    {
     "name": "stdout",
     "output_type": "stream",
     "text": [
      "[1] 74\n"
     ]
    },
    {
     "name": "stderr",
     "output_type": "stream",
     "text": [
      "Warning message in eval(family$initialize):\n",
      "“non-integer #successes in a binomial glm!”"
     ]
    }
   ],
   "source": [
    "for(i in 14:ncol(hei0506_final)-2){\n",
    "                                                                                           #Writingglm\n",
    " print( i )\n",
    "\n",
    "myglm <- svyglm(as.formula(paste0(names(hei0506_final)[i], \"~ casevalue + black + mexican + other_hispanic + other_eth + SMQ040 + female+ RIDAGEYR + RIDAGEYR^2 + BMXBMI\")),design = dsn,\n",
    "                family = binomial(),\n",
    "                na.action = na.omit)\n",
    "\n",
    "#confidence interval\n",
    "ci <- exp(summary(myglm)$coefficients[\"casevalue\",1]+qnorm(c(0.025, 0.975)) * summary(myglm)$coefficients[\"casevalue\",2])\n",
    "\n",
    "\n",
    "excludedPatients <- sum(is.na(hei0506_final[, i ]))\n",
    "    casecontrol <-  hei0506_final[, c(names(hei0506_final)[i], \"SEQN\", \"casevalue\")]\n",
    "    casecontrol <- na.omit( casecontrol )\n",
    "    heihighpositive <- length(unique(casecontrol[casecontrol[,1]== 1 & casecontrol$casevalue== 1, \"SEQN\"]))\n",
    "    heihighnegative <- length(unique(casecontrol[casecontrol[,1]== 0 & casecontrol$casevalue== 1, \"SEQN\"]))\n",
    "    heilowpositive <- length(unique(casecontrol[casecontrol[,1]== 1 & casecontrol$casevalue== 0, \"SEQN\"]))\n",
    "    heilownegative <- length(unique(casecontrol[casecontrol[,1]== 0 & casecontrol$casevalue== 0, \"SEQN\"]))\n",
    " \n",
    "\n",
    "    \n",
    "newRow <- c (names(hei0506_final)[i], summary(myglm)$coefficients[2], exp(summary(myglm)$coefficients[2]), paste0(\"(\", round(ci[1][1],3), \",\", round(ci[2][1],3), \")\"),\n",
    "summary(myglm)$coefficients[2,4], paste0(heihighpositive+heilowpositive,\"(\",heihighpositive,\"/\",heilowpositive,\")\"), paste0(heihighnegative+heilownegative,\"(\",heihighnegative,\"/\",heilownegative,\")\"), excludedPatients\n",
    "                  )\n",
    "    \n",
    "hei0506_result_Normalweight <- rbind( newRow, hei0506_result_Normalweight ) \n",
    "\n",
    "\n",
    "}"
   ]
  },
  {
   "cell_type": "markdown",
   "metadata": {},
   "source": [
    "Renaming columns and adding columns with adjusted pvalues and OR designation"
   ]
  },
  {
   "cell_type": "code",
   "execution_count": 34,
   "metadata": {},
   "outputs": [
    {
     "name": "stderr",
     "output_type": "stream",
     "text": [
      "Warning message in merge.data.frame(hei0506_result_Normalweight, Labels, by = \"Outcome\"):\n",
      "“column names ‘NA’, ‘NA’, ‘NA’, ‘NA’ are duplicated in the result”"
     ]
    },
    {
     "data": {
      "text/html": [
       "<table>\n",
       "<caption>A data.frame: 6 × 19</caption>\n",
       "<thead>\n",
       "\t<tr><th scope=col>Outcome</th><th scope=col>Coefficient</th><th scope=col>OR</th><th scope=col>CI</th><th scope=col>P-value</th><th scope=col>Outcome_Present</th><th scope=col>Outcome_Negative</th><th scope=col>NA_Patient</th><th scope=col>NA</th><th scope=col>NA</th><th scope=col>NA</th><th scope=col>NA</th><th scope=col>NA</th><th scope=col>padjustFdr</th><th scope=col>padjustBonferroni</th><th scope=col>logfdr</th><th scope=col>logbonf</th><th scope=col>Association</th><th scope=col>Label</th></tr>\n",
       "\t<tr><th scope=col>&lt;chr&gt;</th><th scope=col>&lt;chr&gt;</th><th scope=col>&lt;chr&gt;</th><th scope=col>&lt;chr&gt;</th><th scope=col>&lt;chr&gt;</th><th scope=col>&lt;chr&gt;</th><th scope=col>&lt;chr&gt;</th><th scope=col>&lt;chr&gt;</th><th scope=col>&lt;dbl&gt;</th><th scope=col>&lt;dbl&gt;</th><th scope=col>&lt;dbl&gt;</th><th scope=col>&lt;dbl&gt;</th><th scope=col>&lt;fct&gt;</th><th scope=col>&lt;dbl&gt;</th><th scope=col>&lt;dbl&gt;</th><th scope=col>&lt;dbl&gt;</th><th scope=col>&lt;dbl&gt;</th><th scope=col>&lt;fct&gt;</th><th scope=col>&lt;fct&gt;</th></tr>\n",
       "</thead>\n",
       "<tbody>\n",
       "\t<tr><td><span style=white-space:pre-wrap>any_cancer_self_report  </span></td><td>-0.296136700992522 </td><td>0.743685758489865</td><td>(0.191,2.889)</td><td>0.683757078796119</td><td>53(43/10) </td><td>439(263/176)</td><td>102</td><td>0.9088222</td><td>1</td><td>0.09560581</td><td>0</td><td>OR &lt;= 1</td><td>0.9088222</td><td>1</td><td>0.09560581</td><td>0</td><td>OR &lt;= 1</td><td><span style=white-space:pre-wrap>any cancer  </span></td></tr>\n",
       "\t<tr><td><span style=white-space:pre-wrap>any_diabetes            </span></td><td><span style=white-space:pre-wrap>0.492089276844365  </span></td><td>1.63573014551238 </td><td>(0.325,8.237)</td><td>0.572563416139999</td><td><span style=white-space:pre-wrap>39(31/8)  </span></td><td>554(294/260)</td><td><span style=white-space:pre-wrap>1  </span></td><td>0.9088222</td><td>1</td><td>0.09560581</td><td>0</td><td>OR &gt; 1 </td><td>0.9088222</td><td>1</td><td>0.09560581</td><td>0</td><td>OR &gt; 1 </td><td><span style=white-space:pre-wrap>diabetes    </span></td></tr>\n",
       "\t<tr><td><span style=white-space:pre-wrap>any_family_cad          </span></td><td>-0.817826341415218 </td><td>0.441390043781014</td><td>(0.132,1.479)</td><td>0.233210247403309</td><td>55(30/25) </td><td>424(271/153)</td><td>115</td><td>0.7614307</td><td>1</td><td>0.27255610</td><td>0</td><td>OR &lt;= 1</td><td>0.7614307</td><td>1</td><td>0.27255610</td><td>0</td><td>OR &lt;= 1</td><td><span style=white-space:pre-wrap>family CAD  </span></td></tr>\n",
       "\t<tr><td><span style=white-space:pre-wrap>any_ht                  </span></td><td>-0.491395994941621 </td><td>0.611771767503084</td><td>(0.336,1.114)</td><td>0.159286860360258</td><td>122(86/36)</td><td>472(240/232)</td><td><span style=white-space:pre-wrap>0  </span></td><td>0.5575040</td><td>1</td><td>0.58428558</td><td>0</td><td>OR &lt;= 1</td><td>0.5575040</td><td>1</td><td>0.58428558</td><td>0</td><td>OR &lt;= 1</td><td>hypertension</td></tr>\n",
       "\t<tr><td>blood_cancer_self_report</td><td>-0.0278061311089209</td><td>0.972576900930478</td><td>(0.68,1.391) </td><td>0.883938807225875</td><td><span style=white-space:pre-wrap>1(0/1)    </span></td><td>439(263/176)</td><td>154</td><td>0.9088222</td><td>1</td><td>0.09560581</td><td>0</td><td>OR &lt;= 1</td><td>0.9088222</td><td>1</td><td>0.09560581</td><td>0</td><td>OR &lt;= 1</td><td>blood cancer</td></tr>\n",
       "\t<tr><td>bone_cancer_self_report </td><td>-0.0278061311089209</td><td>0.972576900930478</td><td>(0.68,1.391) </td><td>0.883938807225875</td><td><span style=white-space:pre-wrap>1(0/1)    </span></td><td>439(263/176)</td><td>154</td><td>0.9088222</td><td>1</td><td>0.09560581</td><td>0</td><td>OR &lt;= 1</td><td>0.9088222</td><td>1</td><td>0.09560581</td><td>0</td><td>OR &lt;= 1</td><td>bone cancer </td></tr>\n",
       "</tbody>\n",
       "</table>\n"
      ],
      "text/latex": [
       "A data.frame: 6 × 19\n",
       "\\begin{tabular}{r|lllllllllllllllllll}\n",
       " Outcome & Coefficient & OR & CI & P-value & Outcome\\_Present & Outcome\\_Negative & NA\\_Patient & NA & NA & NA & NA & NA & padjustFdr & padjustBonferroni & logfdr & logbonf & Association & Label\\\\\n",
       " <chr> & <chr> & <chr> & <chr> & <chr> & <chr> & <chr> & <chr> & <dbl> & <dbl> & <dbl> & <dbl> & <fct> & <dbl> & <dbl> & <dbl> & <dbl> & <fct> & <fct>\\\\\n",
       "\\hline\n",
       "\t any\\_cancer\\_self\\_report   & -0.296136700992522  & 0.743685758489865 & (0.191,2.889) & 0.683757078796119 & 53(43/10)  & 439(263/176) & 102 & 0.9088222 & 1 & 0.09560581 & 0 & OR <= 1 & 0.9088222 & 1 & 0.09560581 & 0 & OR <= 1 & any cancer  \\\\\n",
       "\t any\\_diabetes             & 0.492089276844365   & 1.63573014551238  & (0.325,8.237) & 0.572563416139999 & 39(31/8)   & 554(294/260) & 1   & 0.9088222 & 1 & 0.09560581 & 0 & OR > 1  & 0.9088222 & 1 & 0.09560581 & 0 & OR > 1  & diabetes    \\\\\n",
       "\t any\\_family\\_cad           & -0.817826341415218  & 0.441390043781014 & (0.132,1.479) & 0.233210247403309 & 55(30/25)  & 424(271/153) & 115 & 0.7614307 & 1 & 0.27255610 & 0 & OR <= 1 & 0.7614307 & 1 & 0.27255610 & 0 & OR <= 1 & family CAD  \\\\\n",
       "\t any\\_ht                   & -0.491395994941621  & 0.611771767503084 & (0.336,1.114) & 0.159286860360258 & 122(86/36) & 472(240/232) & 0   & 0.5575040 & 1 & 0.58428558 & 0 & OR <= 1 & 0.5575040 & 1 & 0.58428558 & 0 & OR <= 1 & hypertension\\\\\n",
       "\t blood\\_cancer\\_self\\_report & -0.0278061311089209 & 0.972576900930478 & (0.68,1.391)  & 0.883938807225875 & 1(0/1)     & 439(263/176) & 154 & 0.9088222 & 1 & 0.09560581 & 0 & OR <= 1 & 0.9088222 & 1 & 0.09560581 & 0 & OR <= 1 & blood cancer\\\\\n",
       "\t bone\\_cancer\\_self\\_report  & -0.0278061311089209 & 0.972576900930478 & (0.68,1.391)  & 0.883938807225875 & 1(0/1)     & 439(263/176) & 154 & 0.9088222 & 1 & 0.09560581 & 0 & OR <= 1 & 0.9088222 & 1 & 0.09560581 & 0 & OR <= 1 & bone cancer \\\\\n",
       "\\end{tabular}\n"
      ],
      "text/markdown": [
       "\n",
       "A data.frame: 6 × 19\n",
       "\n",
       "| Outcome &lt;chr&gt; | Coefficient &lt;chr&gt; | OR &lt;chr&gt; | CI &lt;chr&gt; | P-value &lt;chr&gt; | Outcome_Present &lt;chr&gt; | Outcome_Negative &lt;chr&gt; | NA_Patient &lt;chr&gt; | NA &lt;dbl&gt; | NA &lt;dbl&gt; | NA &lt;dbl&gt; | NA &lt;dbl&gt; | NA &lt;fct&gt; | padjustFdr &lt;dbl&gt; | padjustBonferroni &lt;dbl&gt; | logfdr &lt;dbl&gt; | logbonf &lt;dbl&gt; | Association &lt;fct&gt; | Label &lt;fct&gt; |\n",
       "|---|---|---|---|---|---|---|---|---|---|---|---|---|---|---|---|---|---|---|\n",
       "| any_cancer_self_report   | -0.296136700992522  | 0.743685758489865 | (0.191,2.889) | 0.683757078796119 | 53(43/10)  | 439(263/176) | 102 | 0.9088222 | 1 | 0.09560581 | 0 | OR &lt;= 1 | 0.9088222 | 1 | 0.09560581 | 0 | OR &lt;= 1 | any cancer   |\n",
       "| any_diabetes             | 0.492089276844365   | 1.63573014551238  | (0.325,8.237) | 0.572563416139999 | 39(31/8)   | 554(294/260) | 1   | 0.9088222 | 1 | 0.09560581 | 0 | OR &gt; 1  | 0.9088222 | 1 | 0.09560581 | 0 | OR &gt; 1  | diabetes     |\n",
       "| any_family_cad           | -0.817826341415218  | 0.441390043781014 | (0.132,1.479) | 0.233210247403309 | 55(30/25)  | 424(271/153) | 115 | 0.7614307 | 1 | 0.27255610 | 0 | OR &lt;= 1 | 0.7614307 | 1 | 0.27255610 | 0 | OR &lt;= 1 | family CAD   |\n",
       "| any_ht                   | -0.491395994941621  | 0.611771767503084 | (0.336,1.114) | 0.159286860360258 | 122(86/36) | 472(240/232) | 0   | 0.5575040 | 1 | 0.58428558 | 0 | OR &lt;= 1 | 0.5575040 | 1 | 0.58428558 | 0 | OR &lt;= 1 | hypertension |\n",
       "| blood_cancer_self_report | -0.0278061311089209 | 0.972576900930478 | (0.68,1.391)  | 0.883938807225875 | 1(0/1)     | 439(263/176) | 154 | 0.9088222 | 1 | 0.09560581 | 0 | OR &lt;= 1 | 0.9088222 | 1 | 0.09560581 | 0 | OR &lt;= 1 | blood cancer |\n",
       "| bone_cancer_self_report  | -0.0278061311089209 | 0.972576900930478 | (0.68,1.391)  | 0.883938807225875 | 1(0/1)     | 439(263/176) | 154 | 0.9088222 | 1 | 0.09560581 | 0 | OR &lt;= 1 | 0.9088222 | 1 | 0.09560581 | 0 | OR &lt;= 1 | bone cancer  |\n",
       "\n"
      ],
      "text/plain": [
       "  Outcome                  Coefficient         OR                CI           \n",
       "1 any_cancer_self_report   -0.296136700992522  0.743685758489865 (0.191,2.889)\n",
       "2 any_diabetes             0.492089276844365   1.63573014551238  (0.325,8.237)\n",
       "3 any_family_cad           -0.817826341415218  0.441390043781014 (0.132,1.479)\n",
       "4 any_ht                   -0.491395994941621  0.611771767503084 (0.336,1.114)\n",
       "5 blood_cancer_self_report -0.0278061311089209 0.972576900930478 (0.68,1.391) \n",
       "6 bone_cancer_self_report  -0.0278061311089209 0.972576900930478 (0.68,1.391) \n",
       "  P-value           Outcome_Present Outcome_Negative NA_Patient <NA>      <NA>\n",
       "1 0.683757078796119 53(43/10)       439(263/176)     102        0.9088222 1   \n",
       "2 0.572563416139999 39(31/8)        554(294/260)     1          0.9088222 1   \n",
       "3 0.233210247403309 55(30/25)       424(271/153)     115        0.7614307 1   \n",
       "4 0.159286860360258 122(86/36)      472(240/232)     0          0.5575040 1   \n",
       "5 0.883938807225875 1(0/1)          439(263/176)     154        0.9088222 1   \n",
       "6 0.883938807225875 1(0/1)          439(263/176)     154        0.9088222 1   \n",
       "  <NA>       <NA> <NA>    padjustFdr padjustBonferroni logfdr     logbonf\n",
       "1 0.09560581 0    OR <= 1 0.9088222  1                 0.09560581 0      \n",
       "2 0.09560581 0    OR > 1  0.9088222  1                 0.09560581 0      \n",
       "3 0.27255610 0    OR <= 1 0.7614307  1                 0.27255610 0      \n",
       "4 0.58428558 0    OR <= 1 0.5575040  1                 0.58428558 0      \n",
       "5 0.09560581 0    OR <= 1 0.9088222  1                 0.09560581 0      \n",
       "6 0.09560581 0    OR <= 1 0.9088222  1                 0.09560581 0      \n",
       "  Association Label       \n",
       "1 OR <= 1     any cancer  \n",
       "2 OR > 1      diabetes    \n",
       "3 OR <= 1     family CAD  \n",
       "4 OR <= 1     hypertension\n",
       "5 OR <= 1     blood cancer\n",
       "6 OR <= 1     bone cancer "
      ]
     },
     "metadata": {},
     "output_type": "display_data"
    }
   ],
   "source": [
    "colnames( hei0506_result_Normalweight) <- c(\"Outcome\", \"Coefficient\", \"OR\", \"CI\", \"P-value\", \"Outcome_Present\", \"Outcome_Negative\", \"NA_Patient\")\n",
    "\n",
    "hei0506_result_Normalweight$padjustFdr <- p.adjust( as.numeric( hei0506_result_Normalweight$`P-value`), method = \"fdr\")\n",
    "hei0506_result_Normalweight$padjustBonferroni <- p.adjust( as.numeric( hei0506_result_Normalweight$`P-value`), method = \"bonferroni\")\n",
    "\n",
    "hei0506_result_Normalweight$logfdr <- -log( as.numeric(hei0506_result_Normalweight$padjustFdr))\n",
    "hei0506_result_Normalweight$logbonf <- -log( as.numeric(hei0506_result_Normalweight$padjustBonferroni))\n",
    "\n",
    "hei0506_result_Normalweight$Association <- as.factor(ifelse(hei0506_result_Normalweight$OR > 1, \"OR > 1\", \"OR <= 1\"))\n",
    "\n",
    "hei0506_result_Normalweight <- merge(hei0506_result_Normalweight, Labels, by = \"Outcome\")\n",
    "\n",
    "head(hei0506_result_Normalweight)\n",
    "\n"
   ]
  },
  {
   "cell_type": "markdown",
   "metadata": {},
   "source": [
    "Using ggplot to produce Manhatten plot for results"
   ]
  },
  {
   "cell_type": "code",
   "execution_count": 35,
   "metadata": {},
   "outputs": [
    {
     "data": {
      "image/png": "[encoded data removed]",
      "text/plain": [
       "plot without title"
      ]
     },
     "metadata": {},
     "output_type": "display_data"
    }
   ],
   "source": [
    "ggplot(hei0506_result_Normalweight, aes(Outcome, logbonf))+ \n",
    "geom_point(aes(color = Association, fill = Association, shape = Association), size=3)+\n",
    "scale_shape_manual(values=c(25, 24))+\n",
    "scale_fill_manual(values=c(\"lightgray\",\"black\"))+\n",
    "scale_color_manual(values = c(\"lightgray\", \"black\"))+\n",
    "geom_text_repel(data = subset(hei0506_result_Normalweight, logbonf > -log(0.05/nrow(hei0506_result_Normalweight)) ),aes(label=Label))+\n",
    "geom_hline(yintercept= (-log(0.05/nrow(hei0506_result_Normalweight))), linetype=\"dashed\", color = \"black\")+\n",
    "labs(title =\"Disease & Biomarker Outcome Significance \\n Comparing Highest and Lowest Quintiles of \\n the Healthy Eating Index Among Normal Weight Individuals \\n 18 < BMI < 24.9\",\n",
    "     subtitle = bquote(\"Adjusted for sex, age,\"~ age^2~\", race/ethnicity, and smoking and BMI\"),\n",
    "     caption = \"Bonferroni adjusted p-values\")+\n",
    "ylab(\"-log p-value\")+\n",
    "xlab(\"Disease Outcomes\")+\n",
    "#ggtitle(\"Disease & Biomarker Outcome Significance \\n Comparing Highest and Lowest Quintiles of Healthy Eating Index\")+\n",
    "theme_bw()+\n",
    "theme(axis.text.x = element_blank(), \n",
    "      panel.grid.major = element_blank(), \n",
    "      panel.grid.minor = element_blank(), \n",
    "      plot.subtitle = element_text(face = \"italic\", hjust = 0.5),\n",
    "      plot.caption = element_text(face = \"italic\", hjust = 1),\n",
    "      axis.title.x = element_text(family=\"Helvetica\", face = \"bold\", size = 12, vjust = -2),\n",
    "      axis.title.y = element_text(family=\"Helvetica\", face = \"bold\", size = 12),\n",
    "      plot.title=element_text(family = \"Helvetica\", face = \"bold\", size = 14, hjust=0.5))"
   ]
  },
  {
   "cell_type": "code",
   "execution_count": null,
   "metadata": {},
   "outputs": [],
   "source": []
  }
 ],
 "metadata": {
  "kernelspec": {
   "display_name": "R",
   "language": "R",
   "name": "ir"
  },
  "language_info": {
   "codemirror_mode": "r",
   "file_extension": ".r",
   "mimetype": "text/x-r-source",
   "name": "R",
   "pygments_lexer": "r",
   "version": "3.5.0"
  }
 },
 "nbformat": 4,
 "nbformat_minor": 2
}
