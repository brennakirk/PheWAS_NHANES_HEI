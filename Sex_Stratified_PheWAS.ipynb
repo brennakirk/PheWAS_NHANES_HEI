{
 "cells": [
  {
   "cell_type": "markdown",
   "metadata": {},
   "source": [
    "Male sratified analysis"
   ]
  },
  {
   "cell_type": "markdown",
   "metadata": {},
   "source": [
    "Load and subset data"
   ]
  },
  {
   "cell_type": "code",
   "execution_count": 1,
   "metadata": {},
   "outputs": [],
   "source": [
    "Labels <- read.csv(\"Outcome_Label.csv\")\n",
    "nahnes9906 <- load(\"nh_99-06.Rdata\")\n",
    "\n",
    "MainTable <- MainTable[ which(MainTable$SDDSRVYR=='4'),]\n",
    "\n",
    "#Subset males only\n",
    "MainTableMale <- MainTable[ which(MainTable$RIDAGEYR >= 18 & MainTable$male==1),] \n",
    "\n",
    "MainTable_Health <- subset(MainTableMale, select = c(\"SEQN\", \"SDMVPSU\", \"SDMVSTRA\", \"WTMEC2YR\",\"RIDAGEYR\",\"BMXBMI\", \"black\",  \"mexican\", \"other_hispanic\", \"other_eth\", \"SMQ040\", \"male\", \"female\", \"any_diabetes\", \"any_ht\", \"cad\", \"bladder_cancer_self_report\", \"blood_cancer_self_report\", \"bone_cancer_self_report\", \"brain_cancer_self_report\", \"colon_cancer_self_report\", \"esophagus_cancer_self_report\", \"gallbladder_cancer_self_report\", \"kidney_cancer_self_report\", \"larynx_cancer_self_report\", \"leukemia_self_report\", \"liver_cancer_self_report\", \"lung_cancer_self_report\", \"lymphoma_self_report\", \"melanoma_self_report\", \"mouth_cancer_self_report\", \"nervous_cancer_self_report\", \"pancreatic_cancer_self_report\", \"prostate_cancer_self_report\", \"rectum_cancer_self_report\", \"skin_cancer_self_report\", \"other_skin_cancer_self_report\", \"soft_cancer_self_report\", \"stomach_cancer_self_report\", \"testis_cancer_self_report\", \"thyroid_cancer_self_report\", \"uterine_cancer_self_report\", \"other_cancer_self_report\", \"any_cancer_self_report\", \"any_family_cad\", \"current_asthma\", \"ever_asthma\", \"ever_arthritis\", \"ever_rheumatoid_arthritis\", \"ever_osteo_arthritis\", \"LBXHBC\", \"LBDHBG\", \"LBDHCV\", \"LBDHD\", \"LBXHBS\", \"LBXHA\", \"LBDHI\"))\n",
    "\n",
    "Biomarkers_Threshold <- subset(MainTableMale, select =c(\"LBXTC\", \"LBDLDL\", \"LBXTR\", \"LBXGH\", \"LBXGLU\", \"LBXVIA\", \"LBXVIC\", \"LBXVID\", \"LBXVIE\",  \"LBXB12\", \"LBXFOL\", \"LBXRBF\", \"LBXHCY\"))\n",
    "\n",
    "#*************Threshold values*************************\n",
    "#Total cholesterol - Case <= 200\n",
    "Biomarkers_Threshold$LBXTC_TH <- ifelse(Biomarkers_Threshold$LBXTC <= 200, 1, 0)\n",
    "#LDL -  case < 100\n",
    "Biomarkers_Threshold$LBDLDL_TH <- ifelse(Biomarkers_Threshold$LBDLDL <= 100, 1, 0)\n",
    "#Triglycerides - case >= 150 \n",
    "Biomarkers_Threshold$LBXTR_TH <- ifelse(Biomarkers_Threshold$LBXTR <= 150, 1, 0)\n",
    "#Glycohemoglobin - case <= 5.7 \n",
    "Biomarkers_Threshold$LBXGH_TH <- ifelse(Biomarkers_Threshold$LBXGH <= 5.7, 1, 0)\n",
    "#Fasting Glucose -case <= 100\n",
    "Biomarkers_Threshold$LBXGLU_TH <- ifelse(Biomarkers_Threshold$LBXGLU <= 100, 1, 0)\n",
    "#Vitamin A - case >= 20 \n",
    "Biomarkers_Threshold$LBXVIA_TH <- ifelse(Biomarkers_Threshold$LBXVIA >= 20, 1, 0)\n",
    "#vitamin C - case >= 11.4\n",
    "Biomarkers_Threshold$LBXVIC_TH <- ifelse(Biomarkers_Threshold$LBXVIC >= 11.4, 1, 0)\n",
    "#vitamin D - case >= 20\n",
    "Biomarkers_Threshold$LBXVID_TH <- ifelse(Biomarkers_Threshold$LBXVID >= 20, 1, 0)\n",
    "#vitamin E - case >= 500\n",
    "Biomarkers_Threshold$LBXVIE_TH <- ifelse(Biomarkers_Threshold$LBXVIE >= 500, 1, 0)\n",
    "#vitamin B12 - case  >= 200\n",
    "Biomarkers_Threshold$LBXB12_TH <- ifelse(Biomarkers_Threshold$LBXB12 >= 200, 1, 0)\n",
    "#serum folate - case >= 2\n",
    "Biomarkers_Threshold$LBXFOL_TH <- ifelse(Biomarkers_Threshold$LBXFOL >= 2, 1, 0)\n",
    "#RBC FOLATE\n",
    "Biomarkers_Threshold$LBXRBF_TH <- ifelse(Biomarkers_Threshold$LBXRBF >= 95, 1, 0)\n",
    "#plasma homocysteine\n",
    "Biomarkers_Threshold$LBXHCY_TH <- ifelse(Biomarkers_Threshold$LBXHCY <= 13, 1, 0)\n",
    "Biomarkers_Threshold <- subset(Biomarkers_Threshold, select =c(\"LBXTC_TH\", \"LBDLDL_TH\", \"LBXTR_TH\", \"LBXGH_TH\", \"LBXGLU_TH\", \"LBXVIA_TH\", \"LBXVIC_TH\", \"LBXVID_TH\", \"LBXVIE_TH\",  \"LBXB12_TH\", \"LBXFOL_TH\", \"LBXRBF_TH\", \"LBXHCY_TH\"))\n",
    "Health_Biomarkers <- cbind(MainTable_Health, Biomarkers_Threshold)\n",
    "phenotypesheath_biomarkers <- c(\"any_diabetes\", \"any_ht\", \"cad\", \"bladder_cancer_self_report\", \"blood_cancer_self_report\", \"bone_cancer_self_report\", \"brain_cancer_self_report\", \"colon_cancer_self_report\", \"esophagus_cancer_self_report\", \"gallbladder_cancer_self_report\", \"kidney_cancer_self_report\", \"larynx_cancer_self_report\", \"leukemia_self_report\", \"liver_cancer_self_report\", \"lung_cancer_self_report\", \"lymphoma_self_report\", \"melanoma_self_report\", \"mouth_cancer_self_report\", \"nervous_cancer_self_report\", \"pancreatic_cancer_self_report\", \"prostate_cancer_self_report\", \"rectum_cancer_self_report\", \"skin_cancer_self_report\", \"other_skin_cancer_self_report\", \"soft_cancer_self_report\", \"stomach_cancer_self_report\", \"testis_cancer_self_report\", \"thyroid_cancer_self_report\", \"uterine_cancer_self_report\", \"other_cancer_self_report\", \"any_cancer_self_report\", \"any_family_cad\", \"current_asthma\", \"ever_asthma\", \"ever_arthritis\", \"ever_rheumatoid_arthritis\", \"ever_osteo_arthritis\", \"LBXHBC\", \"LBDHBG\", \"LBDHCV\", \"LBDHD\", \"LBXHBS\", \"LBXHA\", \"LBDHI\", \"LBXTC_TH\", \"LBDLDL_TH\", \"LBXTR_TH\", \"LBXGH_TH\", \"LBXGLU_TH\", \"LBXVIA_TH\", \"LBXVIC_TH\", \"LBXVID_TH\", \"LBXVIE_TH\",  \"LBXB12_TH\", \"LBXFOL_TH\", \"LBXRBF_TH\", \"LBXHCY_TH\")"
   ]
  },
  {
   "cell_type": "markdown",
   "metadata": {},
   "source": [
    "Using hei R library to derive HEI scores for participants in data subset"
   ]
  },
  {
   "cell_type": "code",
   "execution_count": 2,
   "metadata": {},
   "outputs": [
    {
     "ename": "ERROR",
     "evalue": "Error in get_demo(\"2005/2006\"): could not find function \"get_demo\"\n",
     "output_type": "error",
     "traceback": [
      "Error in get_demo(\"2005/2006\"): could not find function \"get_demo\"\nTraceback:\n"
     ]
    }
   ],
   "source": [
    "demo0506 <- get_demo(\"2005/2006\")             #demographic variables for 2005/2006 survey\n",
    "diet0506 <- get_diet(\"2005/2006\", \"both\")     #get dietary variablesfor 2005/2006 survey\n",
    "fped0506 <- get_fped(\"2005/2006\", \"both\")     #get nutrient equivalent for 2005/2006 survey\n",
    "hei0506 <- hei(fped0506, diet0506, demo0506)  #get HEI scores for NHANES\n",
    "hei0506 <- subset(hei0506, select = c(SEQN,HEI))   #subset so we have SEQN and HEI variables only\n",
    "hei0506 <- hei0506 %>% mutate(quintile=ntile(HEI,5))  #make quintile column to derive quintiles of HEI"
   ]
  },
  {
   "cell_type": "markdown",
   "metadata": {},
   "source": [
    "Setting values for dataframe, cut, case, control and phenotypes"
   ]
  },
  {
   "cell_type": "code",
   "execution_count": null,
   "metadata": {},
   "outputs": [],
   "source": [
    "dataframe <- Health_Biomarkers\n",
    "cut <- \"quintile\"\n",
    "case <- 5   #cases are those in the top quintile of HEI\n",
    "control <- 1  #controls are those in the bottom quintile of HEI\n",
    "phenotypes <- phenotypesheath_biomarkers"
   ]
  },
  {
   "cell_type": "markdown",
   "metadata": {},
   "source": [
    "Adding quintile column to working dataframe"
   ]
  },
  {
   "cell_type": "code",
   "execution_count": null,
   "metadata": {},
   "outputs": [],
   "source": [
    "hei0506_subset <- subset(hei0506, select = c(\"SEQN\", cut))  #subset with grade or quintile and SEQN\n",
    "hei0506_subset$SEQN <- as.character( hei0506_subset$SEQN )  #change both 'SEQN' columns to characters for merging\n",
    "dataframe$SEQN <- as.character( dataframe$SEQN )\n",
    "\n",
    "hei0506_merged <- merge(dataframe, hei0506_subset, by=\"SEQN\")     #merging the grade or qunitile with dataframe\n",
    "\n",
    "hei0506_merged_cut <- hei0506_merged[hei0506_merged[,cut] %in% c(case, control),]   #selecting cases & control\n",
    "\n",
    "\n",
    "hei0506_casecontrol <- subset(hei0506_merged_cut, select=c(\"SEQN\", cut))#subsetting so we just have SEQN+cut \n",
    "\n",
    "hei0506_casecontrol[cut] <- ifelse(hei0506_casecontrol[cut]==case, 1, 0) #Converting case control to binary\n",
    "\n",
    "hei0506_final <- inner_join(hei0506_merged, hei0506_casecontrol, by = \"SEQN\")  #Merge phenotypes w/ binary input\n",
    "colNumber <- length(hei0506_final) - 1\n",
    "colnames(hei0506_final)[colNumber] <- \"casecontrol\"\n",
    "colNumber <- length(hei0506_final)\n",
    "colnames(hei0506_final)[colNumber] <- \"casevalue\"\n"
   ]
  },
  {
   "cell_type": "markdown",
   "metadata": {},
   "source": [
    "Setting survey design for survey weighted glm"
   ]
  },
  {
   "cell_type": "code",
   "execution_count": null,
   "metadata": {},
   "outputs": [],
   "source": [
    "dsn <- svydesign(ids=~SDMVPSU, strata=~SDMVSTRA, weights=~WTMEC2YR, nest=T, data=hei0506_final, variables = NULL)"
   ]
  },
  {
   "cell_type": "markdown",
   "metadata": {},
   "source": [
    "Creating dataframe for results"
   ]
  },
  {
   "cell_type": "code",
   "execution_count": null,
   "metadata": {},
   "outputs": [],
   "source": [
    "hei0506_result_male <- as.data.frame(matrix(ncol =8))"
   ]
  },
  {
   "cell_type": "code",
   "execution_count": null,
   "metadata": {},
   "outputs": [],
   "source": [
    "For loop to run logistic regression on each disease outcome"
   ]
  },
  {
   "cell_type": "code",
   "execution_count": null,
   "metadata": {},
   "outputs": [],
   "source": [
    "for(i in 14:ncol(hei0506_final)-2){\n",
    "                                                                                           #Writingglm\n",
    " print( i )\n",
    "\n",
    "myglm <- svyglm(as.formula(paste0(names(hei0506_final)[i], \"~ casevalue + black + mexican + other_hispanic + other_eth + BMXBMI+SMQ040 + RIDAGEYR+ RIDAGEYR^2\")),design = dsn,\n",
    "                family = binomial(),\n",
    "                na.action = na.omit)\n",
    "\n",
    "#confidence interval\n",
    "ci <- exp(summary(myglm)$coefficients[\"casevalue\",1]+qnorm(c(0.025, 0.975)) * summary(myglm)$coefficients[\"casevalue\",2])\n",
    "\n",
    "\n",
    "excludedPatients <- sum(is.na(hei0506_final[, i ]))\n",
    "    casecontrol <-  hei0506_final[, c(names(hei0506_final)[i], \"SEQN\", \"casevalue\")]\n",
    "    casecontrol <- na.omit( casecontrol )\n",
    "    heihighpositive <- length(unique(casecontrol[casecontrol[,1]== 1 & casecontrol$casevalue== 1, \"SEQN\"]))\n",
    "    heihighnegative <- length(unique(casecontrol[casecontrol[,1]== 0 & casecontrol$casevalue== 1, \"SEQN\"]))\n",
    "    heilowpositive <- length(unique(casecontrol[casecontrol[,1]== 1 & casecontrol$casevalue== 0, \"SEQN\"]))\n",
    "    heilownegative <- length(unique(casecontrol[casecontrol[,1]== 0 & casecontrol$casevalue== 0, \"SEQN\"]))\n",
    " \n",
    "\n",
    "    \n",
    "newRow <- c (names(hei0506_final)[i], summary(myglm)$coefficients[2], exp(summary(myglm)$coefficients[2]), paste0(\"(\", round(ci[1][1],3), \",\", round(ci[2][1],3), \")\"),\n",
    "summary(myglm)$coefficients[2,4], paste0(heihighpositive+heilowpositive,\"(\",heihighpositive,\"/\",heilowpositive,\")\"), paste0(heihighnegative+heilownegative,\"(\",heihighnegative,\"/\",heilownegative,\")\"), excludedPatients\n",
    "                  )\n",
    "    \n",
    "hei0506_result_male <- rbind( newRow, hei0506_result ) \n",
    "\n",
    "\n",
    "}"
   ]
  },
  {
   "cell_type": "markdown",
   "metadata": {},
   "source": [
    "Changing column names and adding columns for use in Manhatten plot"
   ]
  },
  {
   "cell_type": "code",
   "execution_count": null,
   "metadata": {},
   "outputs": [],
   "source": [
    "colnames( hei0506_result_male) <- c(\"Outcome\", \"Coefficient\", \"OR\", \"CI\", \"P-value\", \"Outcome_Present\", \"Outcome_Negative\", \"NA_Patient\")\n",
    "\n",
    "hei0506_result_male$padjustFdr <- p.adjust( as.numeric( hei0506_result_male$`P-value`), method = \"fdr\")\n",
    "hei0506_result_male$padjustBonferroni <- p.adjust( as.numeric( hei0506_result_male$`P-value`), method = \"bonferroni\")\n",
    "\n",
    "\n",
    "hei0506_result_male$logfdr <- -log( as.numeric(hei0506_result_male$padjustFdr))\n",
    "hei0506_result_male$logbonf <- -log( as.numeric(hei0506_result_male$padjustBonferroni))\n",
    "\n",
    "hei0506_result_male <- merge(hei0506_result_male, Labels, by = \"Outcome\")\n",
    "\n",
    "hei0506_result_male$Association <- as.factor(ifelse(hei0506_result_male$OR >= 1, \"OR >= 1\", \"OR < 1\"))\n",
    "\n",
    "head(hei0506_result_male)\n",
    "\n"
   ]
  },
  {
   "cell_type": "markdown",
   "metadata": {},
   "source": [
    "Creating Manhatten plot using ggplot"
   ]
  },
  {
   "cell_type": "code",
   "execution_count": null,
   "metadata": {},
   "outputs": [],
   "source": [
    "ggplot(hei0506_result_male, aes(Outcome, logbonf))+ \n",
    "geom_point(aes(color = Association, fill = Association, shape = Association), size=3)+\n",
    "scale_shape_manual(values=c(25, 24))+\n",
    "scale_fill_manual(values=c(\"lightgray\",\"black\"))+\n",
    "scale_color_manual(values = c(\"lightgray\", \"black\"))+\n",
    "geom_text_repel(data = subset(hei0506_result_male, logbonf > -log(0.05/nrow(hei0506_result_male)) ),aes(label=Label))+\n",
    "geom_hline(yintercept= (-log(0.05/nrow(hei0506_result_male))), linetype=\"dashed\", color = \"black\")+\n",
    "labs(title =\"Disease & Biomarker Outcome Significance \\n Comparing Highest and Lowest Quintiles of \\n the Healthy Eating Index Among Males\",\n",
    "     subtitle = bquote(\"Adjusted for age,\"~ age^2~\", race/ethnicity, BMI, and smoking\"),\n",
    "     caption = \"Bonferroni adjusted p-values\")+\n",
    "ylab(\"-log p-value\")+\n",
    "xlab(\"Disease Outcomes\")+\n",
    "#ggtitle(\"Disease & Biomarker Outcome Significance \\n Comparing Highest and Lowest Quintiles of Healthy Eating Index\")+\n",
    "theme_bw()+\n",
    "theme(axis.text.x = element_blank(), \n",
    "      panel.grid.major = element_blank(), \n",
    "      panel.grid.minor = element_blank(), \n",
    "      plot.subtitle = element_text(face = \"italic\", hjust = 0.5),\n",
    "      plot.caption = element_text(face = \"italic\", hjust = 1),\n",
    "      axis.title.x = element_text(family=\"Helvetica\", face = \"bold\", size = 12, vjust = -2),\n",
    "      axis.title.y = element_text(family=\"Helvetica\", face = \"bold\", size = 12),\n",
    "      plot.title=element_text(family = \"Helvetica\", face = \"bold\", size = 14, hjust=0.5))"
   ]
  },
  {
   "cell_type": "markdown",
   "metadata": {},
   "source": [
    "Female stratified analysis"
   ]
  },
  {
   "cell_type": "markdown",
   "metadata": {},
   "source": [
    "Subsetting data and selecting variables"
   ]
  },
  {
   "cell_type": "code",
   "execution_count": null,
   "metadata": {},
   "outputs": [],
   "source": [
    "MainTableFemale <- MainTable1[ which(MainTable$RIDAGEYR >= 18 & MainTable$female==1),] \n",
    "\n",
    "MainTable_Health <- subset(MainTableFemale, select = c(\"SEQN\",\"SDMVPSU\", \"SDMVSTRA\", \"WTMEC2YR\", \"RIDAGEYR\",\"BMXBMI\", \"black\", \"mexican\", \"other_hispanic\", \"other_eth\", \"SMQ040\", \"male\", \"female\", \"any_diabetes\", \"any_ht\", \"cad\", \"bladder_cancer_self_report\", \"blood_cancer_self_report\", \"bone_cancer_self_report\", \"brain_cancer_self_report\", \"breast_cancer_self_report\", \"cervix_cacner_self_report\", \"colon_cancer_self_report\", \"esophagus_cancer_self_report\", \"gallbladder_cancer_self_report\", \"kidney_cancer_self_report\", \"larynx_cancer_self_report\", \"leukemia_self_report\", \"liver_cancer_self_report\", \"lung_cancer_self_report\", \"lymphoma_self_report\", \"melanoma_self_report\", \"mouth_cancer_self_report\", \"nervous_cancer_self_report\", \"ovarian_cancer_self_report\", \"pancreatic_cancer_self_report\", \"prostate_cancer_self_report\", \"rectum_cancer_self_report\", \"skin_cancer_self_report\", \"other_skin_cancer_self_report\", \"soft_cancer_self_report\", \"stomach_cancer_self_report\", \"testis_cancer_self_report\", \"thyroid_cancer_self_report\", \"uterine_cancer_self_report\", \"other_cancer_self_report\", \"any_cancer_self_report\", \"any_family_cad\", \"current_asthma\", \"ever_asthma\", \"ever_arthritis\", \"ever_rheumatoid_arthritis\", \"ever_osteo_arthritis\", \"LBXHBC\", \"LBDHBG\", \"LBDHCV\", \"LBDHD\", \"LBXHBS\", \"LBXHA\", \"LBDHI\"))\n",
    "\n",
    "Biomarkers_Threshold <- subset(MainTableFemale, select =c(\"LBXTC\", \"LBDLDL\", \"LBXTR\", \"LBXGH\", \"LBXGLU\", \"LBXVIA\", \"LBXVIC\", \"LBXVID\", \"LBXVIE\",  \"LBXB12\", \"LBXFOL\", \"LBXRBF\", \"LBXFER\", \"LBXHCY\"))\n",
    "\n",
    "#Total cholesterol - Case <= 200\n",
    "Biomarkers_Threshold$LBXTC_TH <- ifelse(Biomarkers_Threshold$LBXTC <= 200, 1, 0)\n",
    "#LDL -  case < 100\n",
    "Biomarkers_Threshold$LBDLDL_TH <- ifelse(Biomarkers_Threshold$LBDLDL <= 100, 1, 0)\n",
    "#Triglycerides - case >= 150 \n",
    "Biomarkers_Threshold$LBXTR_TH <- ifelse(Biomarkers_Threshold$LBXTR <= 150, 1, 0)\n",
    "#Glycohemoglobin - case <= 5.7 \n",
    "Biomarkers_Threshold$LBXGH_TH <- ifelse(Biomarkers_Threshold$LBXGH <= 5.7, 1, 0)\n",
    "#Fasting Glucose -case <= 100\n",
    "Biomarkers_Threshold$LBXGLU_TH <- ifelse(Biomarkers_Threshold$LBXGLU <= 100, 1, 0)\n",
    "#Vitamin A - case >= 20 \n",
    "Biomarkers_Threshold$LBXVIA_TH <- ifelse(Biomarkers_Threshold$LBXVIA >= 20, 1, 0)\n",
    "#vitamin C - case >= 11.4\n",
    "Biomarkers_Threshold$LBXVIC_TH <- ifelse(Biomarkers_Threshold$LBXVIC >= 11.4, 1, 0)\n",
    "#vitamin D - case >= 20\n",
    "Biomarkers_Threshold$LBXVID_TH <- ifelse(Biomarkers_Threshold$LBXVID >= 20, 1, 0)\n",
    "#vitamin E - case >= 500\n",
    "Biomarkers_Threshold$LBXVIE_TH <- ifelse(Biomarkers_Threshold$LBXVIE >= 500, 1, 0)\n",
    "#vitamin B12 - case  >= 200\n",
    "Biomarkers_Threshold$LBXB12_TH <- ifelse(Biomarkers_Threshold$LBXB12 >= 200, 1, 0)\n",
    "#serum folate - case >= 2\n",
    "Biomarkers_Threshold$LBXFOL_TH <- ifelse(Biomarkers_Threshold$LBXFOL >= 2, 1, 0)\n",
    "#RBC FOLATE\n",
    "Biomarkers_Threshold$LBXRBF_TH <- ifelse(Biomarkers_Threshold$LBXRBF >= 95, 1, 0)\n",
    "#ferritin\n",
    "Biomarkers_Threshold$LBXFER_TH <- ifelse(Biomarkers_Threshold$LBXFER >= 15, 1, 0)\n",
    "#plasma homocysteine\n",
    "Biomarkers_Threshold$LBXHCY_TH <- ifelse(Biomarkers_Threshold$LBXHCY <= 13, 1, 0)\n",
    "\n",
    "  \n",
    "Biomarkers_Threshold <- subset(Biomarkers_Threshold, select =c(\"LBXTC_TH\", \"LBDLDL_TH\", \"LBXTR_TH\", \"LBXGH_TH\", \"LBXGLU_TH\", \"LBXVIA_TH\", \"LBXVIC_TH\", \"LBXVID_TH\", \"LBXVIE_TH\",  \"LBXB12_TH\", \"LBXFOL_TH\", \"LBXRBF_TH\", \"LBXFER_TH\", \"LBXHCY_TH\"))\n",
    "Health_Biomarkers <- cbind(MainTable_Health, Biomarkers_Threshold)\n",
    "phenotypesheath_biomarkers <- c(\"any_diabetes\", \"any_ht\", \"cad\", \"bladder_cancer_self_report\", \"blood_cancer_self_report\", \"bone_cancer_self_report\", \"brain_cancer_self_report\", \"breast_cancer_self_report\", \"cervix_cacner_self_report\", \"colon_cancer_self_report\", \"esophagus_cancer_self_report\", \"gallbladder_cancer_self_report\", \"kidney_cancer_self_report\", \"larynx_cancer_self_report\", \"leukemia_self_report\", \"liver_cancer_self_report\", \"lung_cancer_self_report\", \"lymphoma_self_report\", \"melanoma_self_report\", \"mouth_cancer_self_report\", \"nervous_cancer_self_report\", \"ovarian_cancer_self_report\", \"pancreatic_cancer_self_report\", \"prostate_cancer_self_report\", \"rectum_cancer_self_report\", \"skin_cancer_self_report\", \"other_skin_cancer_self_report\", \"soft_cancer_self_report\", \"stomach_cancer_self_report\", \"testis_cancer_self_report\", \"thyroid_cancer_self_report\", \"uterine_cancer_self_report\", \"other_cancer_self_report\", \"any_cancer_self_report\", \"any_family_cad\", \"current_asthma\", \"ever_asthma\", \"ever_arthritis\", \"ever_rheumatoid_arthritis\", \"ever_osteo_arthritis\", \"LBXHBC\", \"LBDHBG\", \"LBDHCV\", \"LBDHD\", \"LBXHBS\", \"LBXHA\", \"LBDHI\", \"LBXTC_TH\", \"LBDLDL_TH\", \"LBXTR_TH\", \"LBXGH_TH\", \"LBXGLU_TH\", \"LBXVIA_TH\", \"LBXVIC_TH\", \"LBXVID_TH\", \"LBXVIE_TH\",  \"LBXB12_TH\", \"LBXFOL_TH\", \"LBXRBF_TH\", \"LBXFER_TH\", \"LBXHCY_TH\")"
   ]
  },
  {
   "cell_type": "markdown",
   "metadata": {},
   "source": [
    "Selecting datafeame, case, control and phenotype tables"
   ]
  },
  {
   "cell_type": "code",
   "execution_count": null,
   "metadata": {},
   "outputs": [],
   "source": [
    "dataframe <- Health_Biomarkers\n",
    "cut <- \"quintile\"\n",
    "case <- 5\n",
    "control <- 1\n",
    "phenotypes <- phenotypesheath_biomarkers"
   ]
  },
  {
   "cell_type": "markdown",
   "metadata": {},
   "source": [
    "Adding quintile column, merging healthy eating index values to working dataframe"
   ]
  },
  {
   "cell_type": "code",
   "execution_count": null,
   "metadata": {},
   "outputs": [],
   "source": [
    "hei0506 <- hei0506 %>% mutate(quintile=ntile(HEI,5))\n",
    "\n",
    "hei0506_subset <- subset(hei0506, select = c(\"SEQN\", cut))           #subset with grade or quintile and SEQN\n",
    "hei0506_subset$SEQN <- as.character( hei0506_subset$SEQN )          #change both 'SEQN' columns to characters for merging\n",
    "dataframe$SEQN <- as.character( dataframe$SEQN )\n",
    "\n",
    "hei0506_merged <- merge(dataframe, hei0506_subset, by=\"SEQN\")     #merging the grade or qunitile with dataframe\n",
    "\n",
    "hei0506_merged_cut <- hei0506_merged[hei0506_merged[,cut] %in% c(case, control),]   #selecting cases & control\n",
    "\n",
    "hei0506_casecontrol <- subset(hei0506_merged_cut, select=c(\"SEQN\", cut))#subsetting so we just have SEQN+cut \n",
    "\n",
    "hei0506_casecontrol[cut] <- ifelse(hei0506_casecontrol[cut]==case, 1, 0) #Converting case control to binary\n",
    "\n",
    "hei0506_final <- inner_join(hei0506_merged, hei0506_casecontrol, by = \"SEQN\")  #Merge phenotypes w/ binary input\n",
    "colNumber <- length(hei0506_final) - 1\n",
    "colnames(hei0506_final)[colNumber] <- \"casecontrol\"\n",
    "colNumber <- length(hei0506_final)\n",
    "colnames(hei0506_final)[colNumber] <- \"casevalue\""
   ]
  },
  {
   "cell_type": "markdown",
   "metadata": {},
   "source": [
    "Setting survey design"
   ]
  },
  {
   "cell_type": "code",
   "execution_count": null,
   "metadata": {},
   "outputs": [],
   "source": [
    "dsn <- svydesign(ids=~SDMVPSU, strata=~SDMVSTRA, weights=~WTMEC2YR, nest=T, data=hei0506_final, variables = NULL)"
   ]
  },
  {
   "cell_type": "markdown",
   "metadata": {},
   "source": [
    "Creating dataframe for logistic regreaaion results"
   ]
  },
  {
   "cell_type": "code",
   "execution_count": null,
   "metadata": {},
   "outputs": [],
   "source": [
    "hei0506_result_female <- as.data.frame(matrix(ncol =8))"
   ]
  },
  {
   "cell_type": "markdown",
   "metadata": {},
   "source": [
    "For loop to run logistic regressions on all disease outcomes"
   ]
  },
  {
   "cell_type": "code",
   "execution_count": null,
   "metadata": {},
   "outputs": [],
   "source": [
    "for(i in 14:ncol(hei0506_final)-2){\n",
    "                                                                                           #Writingglm\n",
    " print( i )\n",
    "\n",
    "myglm <- svyglm(as.formula(paste0(names(hei0506_final)[i], \"~ casevalue + black + mexican + other_hispanic + other_eth + BMXBMI+SMQ040 + RIDAGEYR +  RIDAGEYR^2\")),design = dsn,\n",
    "                family = binomial(),\n",
    "                na.action = na.omit)\n",
    "\n",
    "#confidence interval\n",
    "ci <- exp(summary(myglm)$coefficients[\"casevalue\",1]+qnorm(c(0.025, 0.975)) * summary(myglm)$coefficients[\"casevalue\",2])\n",
    "\n",
    "\n",
    "excludedPatients <- sum(is.na(hei0506_final[, i ]))\n",
    "    casecontrol <-  hei0506_final[, c(names(hei0506_final)[i], \"SEQN\", \"casevalue\")]\n",
    "    casecontrol <- na.omit( casecontrol )\n",
    "    heihighpositive <- length(unique(casecontrol[casecontrol[,1]== 1 & casecontrol$casevalue== 1, \"SEQN\"]))\n",
    "    heihighnegative <- length(unique(casecontrol[casecontrol[,1]== 0 & casecontrol$casevalue== 1, \"SEQN\"]))\n",
    "    heilowpositive <- length(unique(casecontrol[casecontrol[,1]== 1 & casecontrol$casevalue== 0, \"SEQN\"]))\n",
    "    heilownegative <- length(unique(casecontrol[casecontrol[,1]== 0 & casecontrol$casevalue== 0, \"SEQN\"]))\n",
    " \n",
    "\n",
    "    \n",
    "newRow <- c (names(hei0506_final)[i], summary(myglm)$coefficients[2], exp(summary(myglm)$coefficients[2]), paste0(\"(\", round(ci[1][1],3), \",\", round(ci[2][1],3), \")\"),\n",
    "summary(myglm)$coefficients[2,4], paste0(heihighpositive+heilowpositive,\"(\",heihighpositive,\"/\",heilowpositive,\")\"), paste0(heihighnegative+heilownegative,\"(\",heihighnegative,\"/\",heilownegative,\")\"), excludedPatients\n",
    "                  )\n",
    "    \n",
    "hei0506_result_female <- rbind( newRow, hei0506_result ) \n",
    "\n",
    "\n",
    "}"
   ]
  },
  {
   "cell_type": "markdown",
   "metadata": {},
   "source": [
    "Changing column names for results column and adding values to use for Manhatten plot"
   ]
  },
  {
   "cell_type": "code",
   "execution_count": null,
   "metadata": {},
   "outputs": [],
   "source": [
    "colnames( hei0506_result_female) <- c(\"Outcome\", \"Coefficient\", \"OR\", \"CI\", \"P-value\", \"Outcome_Present\", \"Outcome_Negative\", \"NA_Patient\")\n",
    "\n",
    "hei0506_result_female$padjustFdr <- p.adjust( as.numeric( hei0506_result_female$`P-value`), method = \"fdr\")\n",
    "hei0506_result_female$padjustBonferroni <- p.adjust( as.numeric( hei0506_result_female$`P-value`), method = \"bonferroni\")\n",
    "\n",
    "\n",
    "hei0506_result_female$logfdr <- -log( as.numeric(hei0506_result_female$padjustFdr))\n",
    "hei0506_result_female$logbonf <- -log( as.numeric(hei0506_result_female$padjustBonferroni))\n",
    "\n",
    "hei0506_result_female <- merge(hei0506_result_female, Labels, by = \"Outcome\")\n",
    "\n",
    "head(hei0506_result_female)\n"
   ]
  },
  {
   "cell_type": "raw",
   "metadata": {},
   "source": [
    "Creating Manhatten plot using ggplot"
   ]
  },
  {
   "cell_type": "code",
   "execution_count": null,
   "metadata": {},
   "outputs": [],
   "source": [
    "ggplot(hei0506_result_female, aes(Outcome, logbonf))+ \n",
    "geom_point(aes(color = Association, fill = Association, shape = Association), size=3)+\n",
    "scale_shape_manual(values=c(25, 24))+\n",
    "scale_fill_manual(values=c(\"lightgray\",\"black\"))+\n",
    "scale_color_manual(values = c(\"lightgray\", \"black\"))+\n",
    "geom_text_repel(data = subset(hei0506_result_female, logbonf > -log(0.05/nrow(hei0506_result_female)) ),aes(label=Label))+\n",
    "geom_hline(yintercept= (-log(0.05/nrow(hei0506_result_female))), linetype=\"dashed\", color = \"black\")+\n",
    "labs(title =\"Disease & Biomarker Outcome Significance \\n Comparing Highest and Lowest Quintiles of \\n the Healthy Eating Index Among Females\",\n",
    "     subtitle = bquote(\"Adjusted for age,\"~ age^2~\", race/ethnicity, BMI, and smoking\"),\n",
    "     caption = \"Bonferroni adjusted p-values\")+\n",
    "ylab(\"-log p-value\")+\n",
    "xlab(\"Disease Outcomes\")+\n",
    "#ggtitle(\"Disease & Biomarker Outcome Significance \\n Comparing Highest and Lowest Quintiles of Healthy Eating Index\")+\n",
    "theme_bw()+\n",
    "theme(axis.text.x = element_blank(), \n",
    "      panel.grid.major = element_blank(), \n",
    "      panel.grid.minor = element_blank(), \n",
    "      plot.subtitle = element_text(face = \"italic\", hjust = 0.5),\n",
    "      plot.caption = element_text(face = \"italic\", hjust = 1),\n",
    "      axis.title.x = element_text(family=\"Helvetica\", face = \"bold\", size = 12, vjust = -2),\n",
    "      axis.title.y = element_text(family=\"Helvetica\", face = \"bold\", size = 12),\n",
    "      plot.title=element_text(family = \"Helvetica\", face = \"bold\", size = 14, hjust=0.5))\n",
    " "
   ]
  }
 ],
 "metadata": {
  "kernelspec": {
   "display_name": "R",
   "language": "R",
   "name": "ir"
  },
  "language_info": {
   "codemirror_mode": "r",
   "file_extension": ".r",
   "mimetype": "text/x-r-source",
   "name": "R",
   "pygments_lexer": "r",
   "version": "3.5.0"
  }
 },
 "nbformat": 4,
 "nbformat_minor": 2
}
