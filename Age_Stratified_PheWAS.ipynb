{
 "cells": [
  {
   "cell_type": "markdown",
   "metadata": {},
   "source": [
    "Age Stratified Analysis"
   ]
  },
  {
   "cell_type": "code",
   "execution_count": 1,
   "metadata": {},
   "outputs": [
    {
     "name": "stderr",
     "output_type": "stream",
     "text": [
      "Warning message:\n",
      "“package ‘dplyr’ was built under R version 3.5.1”\n",
      "Attaching package: ‘dplyr’\n",
      "\n",
      "The following objects are masked from ‘package:stats’:\n",
      "\n",
      "    filter, lag\n",
      "\n",
      "The following objects are masked from ‘package:base’:\n",
      "\n",
      "    intersect, setdiff, setequal, union\n",
      "\n",
      "Warning message:\n",
      "“package ‘survey’ was built under R version 3.5.2”Loading required package: grid\n",
      "Loading required package: Matrix\n",
      "Loading required package: survival\n",
      "\n",
      "Attaching package: ‘survey’\n",
      "\n",
      "The following object is masked from ‘package:graphics’:\n",
      "\n",
      "    dotchart\n",
      "\n"
     ]
    }
   ],
   "source": [
    "library(hei)\n",
    "library(ggplot2)\n",
    "library(dplyr)\n",
    "library(ggrepel)\n",
    "library(survey)"
   ]
  },
  {
   "cell_type": "markdown",
   "metadata": {},
   "source": [
    "Ages 18-39 as 'AgeCat1'"
   ]
  },
  {
   "cell_type": "markdown",
   "metadata": {},
   "source": [
    "Import and subset data"
   ]
  },
  {
   "cell_type": "code",
   "execution_count": 6,
   "metadata": {},
   "outputs": [],
   "source": [
    "nahnes9906 <- load(\"nh_99-06.Rdata\")\n",
    "Labels <- read.csv(\"Outcome_Label.csv\")\n",
    "#Subset data (desired survey year coded as '4')\n",
    "MainTable <- MainTable[ which(MainTable$SDDSRVYR=='4'),]\n",
    "MainTableAgeCat1 <- MainTable[ which(MainTable$RIDAGEYR >= 18 & MainTable$RIDAGEYR < 40),] \n",
    "\n",
    "#Select disease outcome variables\n",
    "MainTable_Health <- subset(MainTableAgeCat1, select = c(\"SEQN\", \"SDMVPSU\", \"SDMVSTRA\", \"WTMEC2YR\", \n",
    "\"RIDAGEYR\",\"BMXBMI\", \"black\", \"mexican\", \"other_hispanic\", \"other_eth\", \"SMQ040\", \"male\", \n",
    "\"female\", \"any_diabetes\", \"any_ht\", \"cad\", \"bladder_cancer_self_report\", \"blood_cancer_self_report\", \n",
    "\"bone_cancer_self_report\", \"brain_cancer_self_report\", \"breast_cancer_self_report\", \n",
    "\"cervix_cacner_self_report\", \"colon_cancer_self_report\", \"esophagus_cancer_self_report\", \n",
    "\"gallbladder_cancer_self_report\", \"kidney_cancer_self_report\", \"larynx_cancer_self_report\", \n",
    "\"leukemia_self_report\", \"liver_cancer_self_report\", \"lung_cancer_self_report\", \"lymphoma_self_report\", \n",
    "\"melanoma_self_report\", \"mouth_cancer_self_report\", \"nervous_cancer_self_report\", \n",
    "\"ovarian_cancer_self_report\", \"pancreatic_cancer_self_report\", \"prostate_cancer_self_report\", \n",
    "\"rectum_cancer_self_report\", \"skin_cancer_self_report\", \"other_skin_cancer_self_report\", \n",
    "\"soft_cancer_self_report\", \"stomach_cancer_self_report\", \"testis_cancer_self_report\", \n",
    "\"thyroid_cancer_self_report\", \"uterine_cancer_self_report\", \"other_cancer_self_report\", \n",
    "\"any_cancer_self_report\", \"any_family_cad\", \"current_asthma\", \"ever_asthma\", \"ever_arthritis\", \n",
    "\"ever_rheumatoid_arthritis\", \"ever_osteo_arthritis\", \"LBXHBC\", \"LBDHCV\", \"LBDHD\", \"LBXHA\", \"LBDHI\"))\n",
    "\n",
    "#Selecting biomarker variables\n",
    "Biomarkers_Threshold <- subset(MainTableAgeCat1, select =c(\"LBXTC\", \"LBDLDL\", \"LBXTR\", \"LBXGH\", \"LBXGLU\", \n",
    "\"LBXVIA\", \"LBXVIC\", \"LBXVID\", \"LBXVIE\",  \"LBXB12\", \"LBXFOL\", \"LBXRBF\", \"LBXFER\", \"LBXHCY\"))\n",
    "\n",
    "#Dichotomize biomarker variables based on cited clinical values\n",
    "#Total cholesterol - Case <= 200\n",
    "Biomarkers_Threshold$LBXTC_TH <- ifelse(Biomarkers_Threshold$LBXTC <= 200, 1, 0)\n",
    "#LDL -  case < 100\n",
    "Biomarkers_Threshold$LBDLDL_TH <- ifelse(Biomarkers_Threshold$LBDLDL <= 100, 1, 0)\n",
    "#Triglycerides - case >= 150 \n",
    "Biomarkers_Threshold$LBXTR_TH <- ifelse(Biomarkers_Threshold$LBXTR <= 150, 1, 0)\n",
    "#Glycohemoglobin - case <= 5.7 \n",
    "Biomarkers_Threshold$LBXGH_TH <- ifelse(Biomarkers_Threshold$LBXGH <= 5.7, 1, 0)\n",
    "#Fasting Glucose -case <= 100\n",
    "Biomarkers_Threshold$LBXGLU_TH <- ifelse(Biomarkers_Threshold$LBXGLU <= 100, 1, 0)\n",
    "#Vitamin A - case >= 20 \n",
    "Biomarkers_Threshold$LBXVIA_TH <- ifelse(Biomarkers_Threshold$LBXVIA >= 20, 1, 0)\n",
    "#vitamin C - case >= 11.4\n",
    "Biomarkers_Threshold$LBXVIC_TH <- ifelse(Biomarkers_Threshold$LBXVIC >= 11.4, 1, 0)\n",
    "#vitamin D - case >= 20\n",
    "Biomarkers_Threshold$LBXVID_TH <- ifelse(Biomarkers_Threshold$LBXVID >= 20, 1, 0)\n",
    "#vitamin E - case >= 500\n",
    "Biomarkers_Threshold$LBXVIE_TH <- ifelse(Biomarkers_Threshold$LBXVIE >= 500, 1, 0)\n",
    "#vitamin B12 - case  >= 200\n",
    "Biomarkers_Threshold$LBXB12_TH <- ifelse(Biomarkers_Threshold$LBXB12 >= 200, 1, 0)\n",
    "#serum folate - case >= 2\n",
    "Biomarkers_Threshold$LBXFOL_TH <- ifelse(Biomarkers_Threshold$LBXFOL >= 2, 1, 0)\n",
    "#RBC FOLATE\n",
    "Biomarkers_Threshold$LBXRBF_TH <- ifelse(Biomarkers_Threshold$LBXRBF >= 95, 1, 0)\n",
    "#ferritin\n",
    "Biomarkers_Threshold$LBXFER_TH <- ifelse(Biomarkers_Threshold$LBXFER >= 15, 1, 0)\n",
    "#plasma homocysteine\n",
    "Biomarkers_Threshold$LBXHCY_TH <- ifelse(Biomarkers_Threshold$LBXHCY <= 13, 1, 0)\n",
    "\n",
    "#Subset with only dichotomized values\n",
    "Biomarkers_Threshold <- subset(Biomarkers_Threshold, select =c(\"LBXTC_TH\", \n",
    "\"LBDLDL_TH\", \"LBXTR_TH\", \"LBXGH_TH\", \"LBXGLU_TH\", \"LBXVIA_TH\", \"LBXVIC_TH\", \n",
    "\"LBXVID_TH\", \"LBXVIE_TH\",  \"LBXB12_TH\", \"LBXFOL_TH\", \"LBXRBF_TH\", \"LBXFER_TH\", \"LBXHCY_TH\"))\n",
    "\n",
    "#Merge biomarker variables with other disease variables\n",
    "Health_Biomarkers <- cbind(MainTable_Health, Biomarkers_Threshold)\n",
    "\n",
    "#phenotypes to include in PheWAS\n",
    "phenotypesheath_biomarkers <- c(\"any_diabetes\", \"any_ht\", \"cad\", \"bladder_cancer_self_report\", \n",
    "\"blood_cancer_self_report\", \"bone_cancer_self_report\", \"brain_cancer_self_report\", \n",
    "\"breast_cancer_self_report\", \"cervix_cacner_self_report\", \"colon_cancer_self_report\", \n",
    "\"esophagus_cancer_self_report\", \"gallbladder_cancer_self_report\", \"kidney_cancer_self_report\", \n",
    "\"larynx_cancer_self_report\", \"leukemia_self_report\", \"liver_cancer_self_report\", \n",
    "\"lung_cancer_self_report\", \"lymphoma_self_report\", \"melanoma_self_report\", \n",
    "\"mouth_cancer_self_report\", \"nervous_cancer_self_report\", \"ovarian_cancer_self_report\", \n",
    "\"pancreatic_cancer_self_report\", \"prostate_cancer_self_report\", \"rectum_cancer_self_report\", \n",
    "\"skin_cancer_self_report\", \"other_skin_cancer_self_report\", \"soft_cancer_self_report\", \n",
    "\"stomach_cancer_self_report\", \"testis_cancer_self_report\", \"thyroid_cancer_self_report\", \n",
    "\"uterine_cancer_self_report\", \"other_cancer_self_report\", \"any_cancer_self_report\", \n",
    "\"any_family_cad\", \"current_asthma\", \"ever_asthma\", \"ever_arthritis\", \"ever_rheumatoid_arthritis\", \n",
    "\"ever_osteo_arthritis\", \"LBXHBC\", \"LBDHCV\", \"LBDHD\", \"LBXHA\", \"LBDHI\", \"LBXTC_TH\", \"LBDLDL_TH\", \n",
    "\"LBXTR_TH\", \"LBXGH_TH\", \"LBXGLU_TH\", \"LBXVIA_TH\", \"LBXVIC_TH\", \"LBXVID_TH\", \"LBXVIE_TH\",  \n",
    "\"LBXB12_TH\", \"LBXFOL_TH\", \"LBXRBF_TH\", \"LBXFER_TH\", \"LBXHCY_TH\")"
   ]
  },
  {
   "cell_type": "markdown",
   "metadata": {},
   "source": [
    "using hei package to derive hei values for all individuals in subset"
   ]
  },
  {
   "cell_type": "code",
   "execution_count": 10,
   "metadata": {},
   "outputs": [
    {
     "name": "stdout",
     "output_type": "stream",
     "text": [
      "Processing SAS dataset DEMO_D \t ..\n",
      "Processing SAS dataset DR1TOT_D \t ..\n",
      "Processing SAS dataset DR2TOT_D \t ..\n"
     ]
    }
   ],
   "source": [
    "demo0506 <- get_demo(\"2005/2006\")\n",
    "diet0506 <- get_diet(\"2005/2006\", \"both\")\n",
    "fped0506 <- get_fped(\"2005/2006\", \"both\")\n",
    "hei0506 <- hei(fped0506, diet0506, demo0506)\n",
    "hei0506 <- subset(hei0506, select = c(SEQN,HEI))\n",
    "\n",
    "hei0506 <- hei0506 %>% mutate(quintile=ntile(HEI,5))"
   ]
  },
  {
   "cell_type": "markdown",
   "metadata": {},
   "source": [
    "Setting dataframe, cut, case, control and phenotype variables values - Can edit code if different dataframes, cuts or case control values desired to alternative analyses"
   ]
  },
  {
   "cell_type": "code",
   "execution_count": 11,
   "metadata": {},
   "outputs": [],
   "source": [
    "dataframe <- Health_Biomarkers\n",
    "cut <- \"quintile\"\n",
    "case <- 5\n",
    "control <- 1\n",
    "phenotypes <- phenotypesheath_biomarkers"
   ]
  },
  {
   "cell_type": "code",
   "execution_count": null,
   "metadata": {},
   "outputs": [],
   "source": []
  },
  {
   "cell_type": "markdown",
   "metadata": {},
   "source": [
    "Merging quintile values to working data frame"
   ]
  },
  {
   "cell_type": "code",
   "execution_count": 12,
   "metadata": {},
   "outputs": [],
   "source": [
    "\n",
    "hei0506_subset <- subset(hei0506, select = c(\"SEQN\", cut))   #subset with cut (quintile) and SEQN\n",
    "hei0506_subset$SEQN <- as.character( hei0506_subset$SEQN )    #change both 'SEQN' columns to characters for merging\n",
    "dataframe$SEQN <- as.character( dataframe$SEQN )\n",
    "hei0506_merged <- merge(dataframe, hei0506_subset, by=\"SEQN\") "
   ]
  },
  {
   "cell_type": "markdown",
   "metadata": {},
   "source": [
    "Selecting cases and controls so that our subset consists of those in the top & bottom quintiles of the healthy eating index"
   ]
  },
  {
   "cell_type": "code",
   "execution_count": 13,
   "metadata": {},
   "outputs": [],
   "source": [
    "hei0506_subset <- subset(hei0506, select = c(\"SEQN\", cut))           #subset with quintile and SEQN\n",
    "hei0506_subset$SEQN <- as.character( hei0506_subset$SEQN )          #change both 'SEQN' columns to characters for merging\n",
    "dataframe$SEQN <- as.character( dataframe$SEQN )\n",
    "\n",
    "hei0506_merged <- merge(dataframe, hei0506_subset, by=\"SEQN\")     #merging qunitile with dataframe\n",
    "\n",
    "hei0506_merged_cut <- hei0506_merged[hei0506_merged[,cut] %in% c(case, control),]   #selecting cases & control\n",
    "\n",
    "\n",
    "hei0506_casecontrol <- subset(hei0506_merged_cut, select=c(\"SEQN\", cut))#subsetting so we just have SEQN+cut \n",
    "\n",
    "hei0506_casecontrol[cut] <- ifelse(hei0506_casecontrol[cut]==case, 1, 0) #Converting case control to binary\n",
    "\n",
    "hei0506_final <- inner_join(hei0506_merged, hei0506_casecontrol, by = \"SEQN\")  #Merge phenotypes w/ binary input\n",
    "colNumber <- length(hei0506_final) - 1\n",
    "colnames(hei0506_final)[colNumber] <- \"casecontrol\"\n",
    "colNumber <- length(hei0506_final)\n",
    "colnames(hei0506_final)[colNumber] <- \"casevalue\""
   ]
  },
  {
   "cell_type": "markdown",
   "metadata": {},
   "source": [
    "Setting survey design for use for survey weighted glm in the logistic regression"
   ]
  },
  {
   "cell_type": "code",
   "execution_count": 14,
   "metadata": {},
   "outputs": [],
   "source": [
    "dsn <- svydesign(ids=~SDMVPSU, strata=~SDMVSTRA, weights=~WTMEC2YR, nest=T, data=hei0506_final, variables = NULL)"
   ]
  },
  {
   "cell_type": "markdown",
   "metadata": {},
   "source": [
    "Creating dataframe for results"
   ]
  },
  {
   "cell_type": "code",
   "execution_count": 15,
   "metadata": {},
   "outputs": [],
   "source": [
    "hei0506_result_AgeCat1 <- as.data.frame(matrix(ncol =8))"
   ]
  },
  {
   "cell_type": "markdown",
   "metadata": {},
   "source": [
    "For loop to run logistic regression on each disease outcome"
   ]
  },
  {
   "cell_type": "code",
   "execution_count": 18,
   "metadata": {},
   "outputs": [
    {
     "name": "stdout",
     "output_type": "stream",
     "text": [
      "[1] 12\n"
     ]
    },
    {
     "name": "stderr",
     "output_type": "stream",
     "text": [
      "Warning message in eval(family$initialize):\n",
      "“non-integer #successes in a binomial glm!”Warning message:\n",
      "“glm.fit: algorithm did not converge”"
     ]
    },
    {
     "name": "stdout",
     "output_type": "stream",
     "text": [
      "[1] 13\n"
     ]
    },
    {
     "name": "stderr",
     "output_type": "stream",
     "text": [
      "Warning message in model.matrix.default(mt, mf, contrasts):\n",
      "“the response appeared on the right-hand side and was dropped”Warning message in model.matrix.default(mt, mf, contrasts):\n",
      "“problem with term 8 in model.matrix: no columns are assigned”Warning message in eval(family$initialize):\n",
      "“non-integer #successes in a binomial glm!”Warning message in model.matrix.default(glm.object, data = structure(list(female = c(0, :\n",
      "“the response appeared on the right-hand side and was dropped”Warning message in model.matrix.default(glm.object, data = structure(list(female = c(0, :\n",
      "“problem with term 8 in model.matrix: no columns are assigned”"
     ]
    },
    {
     "name": "stdout",
     "output_type": "stream",
     "text": [
      "[1] 14\n"
     ]
    },
    {
     "name": "stderr",
     "output_type": "stream",
     "text": [
      "Warning message in eval(family$initialize):\n",
      "“non-integer #successes in a binomial glm!”"
     ]
    },
    {
     "name": "stdout",
     "output_type": "stream",
     "text": [
      "[1] 15\n"
     ]
    },
    {
     "name": "stderr",
     "output_type": "stream",
     "text": [
      "Warning message in eval(family$initialize):\n",
      "“non-integer #successes in a binomial glm!”"
     ]
    },
    {
     "name": "stdout",
     "output_type": "stream",
     "text": [
      "[1] 16\n"
     ]
    },
    {
     "name": "stderr",
     "output_type": "stream",
     "text": [
      "Warning message in eval(family$initialize):\n",
      "“non-integer #successes in a binomial glm!”Warning message:\n",
      "“glm.fit: fitted probabilities numerically 0 or 1 occurred”"
     ]
    },
    {
     "name": "stdout",
     "output_type": "stream",
     "text": [
      "[1] 17\n"
     ]
    },
    {
     "name": "stderr",
     "output_type": "stream",
     "text": [
      "Warning message:\n",
      "“glm.fit: algorithm did not converge”"
     ]
    },
    {
     "name": "stdout",
     "output_type": "stream",
     "text": [
      "[1] 18\n"
     ]
    },
    {
     "name": "stderr",
     "output_type": "stream",
     "text": [
      "Warning message:\n",
      "“glm.fit: algorithm did not converge”"
     ]
    },
    {
     "name": "stdout",
     "output_type": "stream",
     "text": [
      "[1] 19\n"
     ]
    },
    {
     "name": "stderr",
     "output_type": "stream",
     "text": [
      "Warning message:\n",
      "“glm.fit: algorithm did not converge”"
     ]
    },
    {
     "name": "stdout",
     "output_type": "stream",
     "text": [
      "[1] 20\n"
     ]
    },
    {
     "name": "stderr",
     "output_type": "stream",
     "text": [
      "Warning message:\n",
      "“glm.fit: algorithm did not converge”"
     ]
    },
    {
     "name": "stdout",
     "output_type": "stream",
     "text": [
      "[1] 21\n"
     ]
    },
    {
     "name": "stderr",
     "output_type": "stream",
     "text": [
      "Warning message:\n",
      "“glm.fit: algorithm did not converge”"
     ]
    },
    {
     "name": "stdout",
     "output_type": "stream",
     "text": [
      "[1] 22\n"
     ]
    },
    {
     "name": "stderr",
     "output_type": "stream",
     "text": [
      "Warning message in eval(family$initialize):\n",
      "“non-integer #successes in a binomial glm!”Warning message:\n",
      "“glm.fit: fitted probabilities numerically 0 or 1 occurred”"
     ]
    },
    {
     "name": "stdout",
     "output_type": "stream",
     "text": [
      "[1] 23\n"
     ]
    },
    {
     "name": "stderr",
     "output_type": "stream",
     "text": [
      "Warning message:\n",
      "“glm.fit: algorithm did not converge”"
     ]
    },
    {
     "name": "stdout",
     "output_type": "stream",
     "text": [
      "[1] 24\n"
     ]
    },
    {
     "name": "stderr",
     "output_type": "stream",
     "text": [
      "Warning message:\n",
      "“glm.fit: algorithm did not converge”"
     ]
    },
    {
     "name": "stdout",
     "output_type": "stream",
     "text": [
      "[1] 25\n"
     ]
    },
    {
     "name": "stderr",
     "output_type": "stream",
     "text": [
      "Warning message:\n",
      "“glm.fit: algorithm did not converge”"
     ]
    },
    {
     "name": "stdout",
     "output_type": "stream",
     "text": [
      "[1] 26\n"
     ]
    },
    {
     "name": "stderr",
     "output_type": "stream",
     "text": [
      "Warning message:\n",
      "“glm.fit: algorithm did not converge”"
     ]
    },
    {
     "name": "stdout",
     "output_type": "stream",
     "text": [
      "[1] 27\n"
     ]
    },
    {
     "name": "stderr",
     "output_type": "stream",
     "text": [
      "Warning message:\n",
      "“glm.fit: algorithm did not converge”"
     ]
    },
    {
     "name": "stdout",
     "output_type": "stream",
     "text": [
      "[1] 28\n"
     ]
    },
    {
     "name": "stderr",
     "output_type": "stream",
     "text": [
      "Warning message:\n",
      "“glm.fit: algorithm did not converge”"
     ]
    },
    {
     "name": "stdout",
     "output_type": "stream",
     "text": [
      "[1] 29\n"
     ]
    },
    {
     "name": "stderr",
     "output_type": "stream",
     "text": [
      "Warning message:\n",
      "“glm.fit: algorithm did not converge”"
     ]
    },
    {
     "name": "stdout",
     "output_type": "stream",
     "text": [
      "[1] 30\n"
     ]
    },
    {
     "name": "stderr",
     "output_type": "stream",
     "text": [
      "Warning message:\n",
      "“glm.fit: algorithm did not converge”"
     ]
    },
    {
     "name": "stdout",
     "output_type": "stream",
     "text": [
      "[1] 31\n"
     ]
    },
    {
     "name": "stderr",
     "output_type": "stream",
     "text": [
      "Warning message:\n",
      "“glm.fit: algorithm did not converge”"
     ]
    },
    {
     "name": "stdout",
     "output_type": "stream",
     "text": [
      "[1] 32\n"
     ]
    },
    {
     "name": "stderr",
     "output_type": "stream",
     "text": [
      "Warning message:\n",
      "“glm.fit: algorithm did not converge”"
     ]
    },
    {
     "name": "stdout",
     "output_type": "stream",
     "text": [
      "[1] 33\n"
     ]
    },
    {
     "name": "stderr",
     "output_type": "stream",
     "text": [
      "Warning message:\n",
      "“glm.fit: algorithm did not converge”"
     ]
    },
    {
     "name": "stdout",
     "output_type": "stream",
     "text": [
      "[1] 34\n"
     ]
    },
    {
     "name": "stderr",
     "output_type": "stream",
     "text": [
      "Warning message:\n",
      "“glm.fit: algorithm did not converge”"
     ]
    },
    {
     "name": "stdout",
     "output_type": "stream",
     "text": [
      "[1] 35\n"
     ]
    },
    {
     "name": "stderr",
     "output_type": "stream",
     "text": [
      "Warning message:\n",
      "“glm.fit: algorithm did not converge”"
     ]
    },
    {
     "name": "stdout",
     "output_type": "stream",
     "text": [
      "[1] 36\n"
     ]
    },
    {
     "name": "stderr",
     "output_type": "stream",
     "text": [
      "Warning message:\n",
      "“glm.fit: algorithm did not converge”"
     ]
    },
    {
     "name": "stdout",
     "output_type": "stream",
     "text": [
      "[1] 37\n"
     ]
    },
    {
     "name": "stderr",
     "output_type": "stream",
     "text": [
      "Warning message:\n",
      "“glm.fit: algorithm did not converge”"
     ]
    },
    {
     "name": "stdout",
     "output_type": "stream",
     "text": [
      "[1] 38\n"
     ]
    },
    {
     "name": "stderr",
     "output_type": "stream",
     "text": [
      "Warning message:\n",
      "“glm.fit: algorithm did not converge”"
     ]
    },
    {
     "name": "stdout",
     "output_type": "stream",
     "text": [
      "[1] 39\n"
     ]
    },
    {
     "name": "stderr",
     "output_type": "stream",
     "text": [
      "Warning message in eval(family$initialize):\n",
      "“non-integer #successes in a binomial glm!”Warning message:\n",
      "“glm.fit: algorithm did not converge”Warning message:\n",
      "“glm.fit: fitted probabilities numerically 0 or 1 occurred”"
     ]
    },
    {
     "name": "stdout",
     "output_type": "stream",
     "text": [
      "[1] 40\n"
     ]
    },
    {
     "name": "stderr",
     "output_type": "stream",
     "text": [
      "Warning message:\n",
      "“glm.fit: algorithm did not converge”"
     ]
    },
    {
     "name": "stdout",
     "output_type": "stream",
     "text": [
      "[1] 41\n"
     ]
    },
    {
     "name": "stderr",
     "output_type": "stream",
     "text": [
      "Warning message:\n",
      "“glm.fit: algorithm did not converge”"
     ]
    },
    {
     "name": "stdout",
     "output_type": "stream",
     "text": [
      "[1] 42\n"
     ]
    },
    {
     "name": "stderr",
     "output_type": "stream",
     "text": [
      "Warning message:\n",
      "“glm.fit: algorithm did not converge”"
     ]
    },
    {
     "name": "stdout",
     "output_type": "stream",
     "text": [
      "[1] 43\n"
     ]
    },
    {
     "name": "stderr",
     "output_type": "stream",
     "text": [
      "Warning message:\n",
      "“glm.fit: algorithm did not converge”"
     ]
    },
    {
     "name": "stdout",
     "output_type": "stream",
     "text": [
      "[1] 44\n"
     ]
    },
    {
     "name": "stderr",
     "output_type": "stream",
     "text": [
      "Warning message:\n",
      "“glm.fit: algorithm did not converge”"
     ]
    },
    {
     "name": "stdout",
     "output_type": "stream",
     "text": [
      "[1] 45\n"
     ]
    },
    {
     "name": "stderr",
     "output_type": "stream",
     "text": [
      "Warning message:\n",
      "“glm.fit: algorithm did not converge”"
     ]
    },
    {
     "name": "stdout",
     "output_type": "stream",
     "text": [
      "[1] 46\n"
     ]
    },
    {
     "name": "stderr",
     "output_type": "stream",
     "text": [
      "Warning message:\n",
      "“glm.fit: algorithm did not converge”"
     ]
    },
    {
     "name": "stdout",
     "output_type": "stream",
     "text": [
      "[1] 47\n"
     ]
    },
    {
     "name": "stderr",
     "output_type": "stream",
     "text": [
      "Warning message in eval(family$initialize):\n",
      "“non-integer #successes in a binomial glm!”Warning message:\n",
      "“glm.fit: fitted probabilities numerically 0 or 1 occurred”"
     ]
    },
    {
     "name": "stdout",
     "output_type": "stream",
     "text": [
      "[1] 48\n"
     ]
    },
    {
     "name": "stderr",
     "output_type": "stream",
     "text": [
      "Warning message in eval(family$initialize):\n",
      "“non-integer #successes in a binomial glm!”"
     ]
    },
    {
     "name": "stdout",
     "output_type": "stream",
     "text": [
      "[1] 49\n"
     ]
    },
    {
     "name": "stderr",
     "output_type": "stream",
     "text": [
      "Warning message in eval(family$initialize):\n",
      "“non-integer #successes in a binomial glm!”"
     ]
    },
    {
     "name": "stdout",
     "output_type": "stream",
     "text": [
      "[1] 50\n"
     ]
    },
    {
     "name": "stderr",
     "output_type": "stream",
     "text": [
      "Warning message in eval(family$initialize):\n",
      "“non-integer #successes in a binomial glm!”"
     ]
    },
    {
     "name": "stdout",
     "output_type": "stream",
     "text": [
      "[1] 51\n"
     ]
    },
    {
     "name": "stderr",
     "output_type": "stream",
     "text": [
      "Warning message in eval(family$initialize):\n",
      "“non-integer #successes in a binomial glm!”"
     ]
    },
    {
     "name": "stdout",
     "output_type": "stream",
     "text": [
      "[1] 52\n"
     ]
    },
    {
     "name": "stderr",
     "output_type": "stream",
     "text": [
      "Warning message in eval(family$initialize):\n",
      "“non-integer #successes in a binomial glm!”"
     ]
    },
    {
     "name": "stdout",
     "output_type": "stream",
     "text": [
      "[1] 53\n"
     ]
    },
    {
     "name": "stderr",
     "output_type": "stream",
     "text": [
      "Warning message in eval(family$initialize):\n",
      "“non-integer #successes in a binomial glm!”"
     ]
    },
    {
     "name": "stdout",
     "output_type": "stream",
     "text": [
      "[1] 54\n"
     ]
    },
    {
     "name": "stderr",
     "output_type": "stream",
     "text": [
      "Warning message in eval(family$initialize):\n",
      "“non-integer #successes in a binomial glm!”"
     ]
    },
    {
     "name": "stdout",
     "output_type": "stream",
     "text": [
      "[1] 55\n"
     ]
    },
    {
     "name": "stderr",
     "output_type": "stream",
     "text": [
      "Warning message in eval(family$initialize):\n",
      "“non-integer #successes in a binomial glm!”Warning message:\n",
      "“glm.fit: fitted probabilities numerically 0 or 1 occurred”"
     ]
    },
    {
     "name": "stdout",
     "output_type": "stream",
     "text": [
      "[1] 56\n"
     ]
    },
    {
     "name": "stderr",
     "output_type": "stream",
     "text": [
      "Warning message:\n",
      "“glm.fit: algorithm did not converge”"
     ]
    },
    {
     "name": "stdout",
     "output_type": "stream",
     "text": [
      "[1] 57\n"
     ]
    },
    {
     "name": "stderr",
     "output_type": "stream",
     "text": [
      "Warning message in eval(family$initialize):\n",
      "“non-integer #successes in a binomial glm!”"
     ]
    },
    {
     "name": "stdout",
     "output_type": "stream",
     "text": [
      "[1] 58\n"
     ]
    },
    {
     "name": "stderr",
     "output_type": "stream",
     "text": [
      "Warning message:\n",
      "“glm.fit: algorithm did not converge”"
     ]
    },
    {
     "name": "stdout",
     "output_type": "stream",
     "text": [
      "[1] 59\n"
     ]
    },
    {
     "name": "stderr",
     "output_type": "stream",
     "text": [
      "Warning message in eval(family$initialize):\n",
      "“non-integer #successes in a binomial glm!”"
     ]
    },
    {
     "name": "stdout",
     "output_type": "stream",
     "text": [
      "[1] 60\n"
     ]
    },
    {
     "name": "stderr",
     "output_type": "stream",
     "text": [
      "Warning message in eval(family$initialize):\n",
      "“non-integer #successes in a binomial glm!”"
     ]
    },
    {
     "name": "stdout",
     "output_type": "stream",
     "text": [
      "[1] 61\n"
     ]
    },
    {
     "name": "stderr",
     "output_type": "stream",
     "text": [
      "Warning message in eval(family$initialize):\n",
      "“non-integer #successes in a binomial glm!”"
     ]
    },
    {
     "name": "stdout",
     "output_type": "stream",
     "text": [
      "[1] 62\n"
     ]
    },
    {
     "name": "stderr",
     "output_type": "stream",
     "text": [
      "Warning message in eval(family$initialize):\n",
      "“non-integer #successes in a binomial glm!”"
     ]
    },
    {
     "name": "stdout",
     "output_type": "stream",
     "text": [
      "[1] 63\n"
     ]
    },
    {
     "name": "stderr",
     "output_type": "stream",
     "text": [
      "Warning message in eval(family$initialize):\n",
      "“non-integer #successes in a binomial glm!”"
     ]
    },
    {
     "name": "stdout",
     "output_type": "stream",
     "text": [
      "[1] 64\n"
     ]
    },
    {
     "name": "stderr",
     "output_type": "stream",
     "text": [
      "Warning message in eval(family$initialize):\n",
      "“non-integer #successes in a binomial glm!”Warning message:\n",
      "“glm.fit: algorithm did not converge”"
     ]
    },
    {
     "name": "stdout",
     "output_type": "stream",
     "text": [
      "[1] 65\n"
     ]
    },
    {
     "name": "stderr",
     "output_type": "stream",
     "text": [
      "Warning message:\n",
      "“glm.fit: algorithm did not converge”"
     ]
    },
    {
     "name": "stdout",
     "output_type": "stream",
     "text": [
      "[1] 66\n"
     ]
    },
    {
     "name": "stderr",
     "output_type": "stream",
     "text": [
      "Warning message in eval(family$initialize):\n",
      "“non-integer #successes in a binomial glm!”"
     ]
    },
    {
     "name": "stdout",
     "output_type": "stream",
     "text": [
      "[1] 67\n"
     ]
    },
    {
     "name": "stderr",
     "output_type": "stream",
     "text": [
      "Warning message in eval(family$initialize):\n",
      "“non-integer #successes in a binomial glm!”Warning message:\n",
      "“glm.fit: fitted probabilities numerically 0 or 1 occurred”"
     ]
    },
    {
     "name": "stdout",
     "output_type": "stream",
     "text": [
      "[1] 68\n"
     ]
    },
    {
     "name": "stderr",
     "output_type": "stream",
     "text": [
      "Warning message in eval(family$initialize):\n",
      "“non-integer #successes in a binomial glm!”"
     ]
    },
    {
     "name": "stdout",
     "output_type": "stream",
     "text": [
      "[1] 69\n"
     ]
    },
    {
     "name": "stderr",
     "output_type": "stream",
     "text": [
      "Warning message in eval(family$initialize):\n",
      "“non-integer #successes in a binomial glm!”Warning message:\n",
      "“glm.fit: algorithm did not converge”"
     ]
    },
    {
     "name": "stdout",
     "output_type": "stream",
     "text": [
      "[1] 70\n"
     ]
    },
    {
     "name": "stderr",
     "output_type": "stream",
     "text": [
      "Warning message in eval(family$initialize):\n",
      "“non-integer #successes in a binomial glm!”Warning message:\n",
      "“glm.fit: fitted probabilities numerically 0 or 1 occurred”"
     ]
    },
    {
     "name": "stdout",
     "output_type": "stream",
     "text": [
      "[1] 71\n"
     ]
    },
    {
     "name": "stderr",
     "output_type": "stream",
     "text": [
      "Warning message in eval(family$initialize):\n",
      "“non-integer #successes in a binomial glm!”"
     ]
    },
    {
     "name": "stdout",
     "output_type": "stream",
     "text": [
      "[1] 72\n"
     ]
    },
    {
     "name": "stderr",
     "output_type": "stream",
     "text": [
      "Warning message in eval(family$initialize):\n",
      "“non-integer #successes in a binomial glm!”"
     ]
    }
   ],
   "source": [
    "for(i in 14:ncol(hei0506_final)-2){\n",
    "                                                                                           #Writingglm\n",
    " print( i )\n",
    "\n",
    "myglm <- svyglm(as.formula(paste0(names(hei0506_final)[i], \"~ casevalue + black + mexican + other_hispanic + other_eth + BMXBMI+SMQ040 + female + RIDAGEYR + RIDAGEYR^2\")),design = dsn,\n",
    "                family = binomial(),\n",
    "                na.action = na.omit)\n",
    "\n",
    "#confidence interval\n",
    "ci <- exp(summary(myglm)$coefficients[\"casevalue\",1]+qnorm(c(0.025, 0.975)) * summary(myglm)$coefficients[\"casevalue\",2])\n",
    "\n",
    "\n",
    "excludedPatients <- sum(is.na(hei0506_final[, i ]))\n",
    "    casecontrol <-  hei0506_final[, c(names(hei0506_final)[i], \"SEQN\", \"casevalue\")]\n",
    "    casecontrol <- na.omit( casecontrol )\n",
    "    heihighpositive <- length(unique(casecontrol[casecontrol[,1]== 1 & casecontrol$casevalue== 1, \"SEQN\"]))\n",
    "    heihighnegative <- length(unique(casecontrol[casecontrol[,1]== 0 & casecontrol$casevalue== 1, \"SEQN\"]))\n",
    "    heilowpositive <- length(unique(casecontrol[casecontrol[,1]== 1 & casecontrol$casevalue== 0, \"SEQN\"]))\n",
    "    heilownegative <- length(unique(casecontrol[casecontrol[,1]== 0 & casecontrol$casevalue== 0, \"SEQN\"]))\n",
    " \n",
    "\n",
    "    \n",
    "newRow <- c (names(hei0506_final)[i], summary(myglm)$coefficients[2], exp(summary(myglm)$coefficients[2]), paste0(\"(\", round(ci[1][1],3), \",\", round(ci[2][1],3), \")\"),\n",
    "summary(myglm)$coefficients[2,4], paste0(heihighpositive+heilowpositive,\"(\",heihighpositive,\"/\",heilowpositive,\")\"), paste0(heihighnegative+heilownegative,\"(\",heihighnegative,\"/\",heilownegative,\")\"), excludedPatients\n",
    "                  )\n",
    "    \n",
    "hei0506_result_AgeCat1 <- rbind( newRow, hei0506_result_AgeCat1 ) \n",
    "\n",
    "\n",
    "}"
   ]
  },
  {
   "cell_type": "markdown",
   "metadata": {},
   "source": [
    "Changing column name and adding columns for adjusted p-values"
   ]
  },
  {
   "cell_type": "code",
   "execution_count": 25,
   "metadata": {},
   "outputs": [
    {
     "data": {
      "text/html": [
       "<table>\n",
       "<caption>A data.frame: 6 × 14</caption>\n",
       "<thead>\n",
       "\t<tr><th scope=col>Outcome</th><th scope=col>Coefficient</th><th scope=col>OR</th><th scope=col>CI</th><th scope=col>P-value</th><th scope=col>Outcome_Present</th><th scope=col>Outcome_Negative</th><th scope=col>NA_Patient</th><th scope=col>padjustFdr</th><th scope=col>padjustBonferroni</th><th scope=col>logfdr</th><th scope=col>logbonf</th><th scope=col>Label</th><th scope=col>Association</th></tr>\n",
       "\t<tr><th scope=col>&lt;chr&gt;</th><th scope=col>&lt;chr&gt;</th><th scope=col>&lt;chr&gt;</th><th scope=col>&lt;chr&gt;</th><th scope=col>&lt;chr&gt;</th><th scope=col>&lt;chr&gt;</th><th scope=col>&lt;chr&gt;</th><th scope=col>&lt;chr&gt;</th><th scope=col>&lt;dbl&gt;</th><th scope=col>&lt;dbl&gt;</th><th scope=col>&lt;dbl&gt;</th><th scope=col>&lt;dbl&gt;</th><th scope=col>&lt;fct&gt;</th><th scope=col>&lt;fct&gt;</th></tr>\n",
       "</thead>\n",
       "<tbody>\n",
       "\t<tr><td><span style=white-space:pre-wrap>any_cancer_self_report  </span></td><td><span style=white-space:pre-wrap>-18.0829941652956  </span></td><td>1.40170111150631e-08</td><td><span style=white-space:pre-wrap>(0,0)         </span></td><td>5.45888741667015e-07</td><td><span style=white-space:pre-wrap>7(2/5)   </span></td><td>594(244/350)</td><td>200</td><td>0.000011785</td><td>3.329921e-05</td><td>11.34868316</td><td>10.30998</td><td><span style=white-space:pre-wrap>any cancer  </span></td><td>OR &gt; 1 </td></tr>\n",
       "\t<tr><td><span style=white-space:pre-wrap>any_diabetes            </span></td><td><span style=white-space:pre-wrap>1.35028735482147   </span></td><td><span style=white-space:pre-wrap>3.85853413979613    </span></td><td>(0.469,31.712)</td><td><span style=white-space:pre-wrap>0.255666959528695   </span></td><td><span style=white-space:pre-wrap>13(6/7)  </span></td><td>785(273/512)</td><td><span style=white-space:pre-wrap>3  </span></td><td>0.970503911</td><td>1.000000e+00</td><td> 0.02993985</td><td> 0.00000</td><td><span style=white-space:pre-wrap>diabetes    </span></td><td>OR &gt; 1 </td></tr>\n",
       "\t<tr><td><span style=white-space:pre-wrap>any_family_cad          </span></td><td>-0.0502211189736727</td><td><span style=white-space:pre-wrap>0.951019112879443   </span></td><td>(0.479,1.886) </td><td><span style=white-space:pre-wrap>0.89042339284154    </span></td><td>57(19/38)</td><td>533(227/306)</td><td>211</td><td>0.970503911</td><td>1.000000e+00</td><td> 0.02993985</td><td> 0.00000</td><td><span style=white-space:pre-wrap>family CAD  </span></td><td>OR &lt;= 1</td></tr>\n",
       "\t<tr><td><span style=white-space:pre-wrap>any_ht                  </span></td><td><span style=white-space:pre-wrap>0.293332313357955  </span></td><td><span style=white-space:pre-wrap>1.34088831149872    </span></td><td><span style=white-space:pre-wrap>(0.36,4.999)  </span></td><td><span style=white-space:pre-wrap>0.677471777953554   </span></td><td>68(21/47)</td><td>733(260/473)</td><td><span style=white-space:pre-wrap>0  </span></td><td>0.970503911</td><td>1.000000e+00</td><td> 0.02993985</td><td> 0.00000</td><td>hypertension</td><td>OR &gt; 1 </td></tr>\n",
       "\t<tr><td>blood_cancer_self_report</td><td>-0.0100643039248949</td><td><span style=white-space:pre-wrap>0.989986171705898   </span></td><td><span style=white-space:pre-wrap>(0.71,1.38)   </span></td><td><span style=white-space:pre-wrap>0.954594011264897   </span></td><td><span style=white-space:pre-wrap>0(0/0)   </span></td><td>594(244/350)</td><td>207</td><td>0.970503911</td><td>1.000000e+00</td><td> 0.02993985</td><td> 0.00000</td><td>blood cancer</td><td>OR &lt;= 1</td></tr>\n",
       "\t<tr><td>bone_cancer_self_report </td><td>-0.0100643039248949</td><td><span style=white-space:pre-wrap>0.989986171705898   </span></td><td><span style=white-space:pre-wrap>(0.71,1.38)   </span></td><td><span style=white-space:pre-wrap>0.954594011264897   </span></td><td><span style=white-space:pre-wrap>0(0/0)   </span></td><td>594(244/350)</td><td>207</td><td>0.970503911</td><td>1.000000e+00</td><td> 0.02993985</td><td> 0.00000</td><td>bone cancer </td><td>OR &lt;= 1</td></tr>\n",
       "</tbody>\n",
       "</table>\n"
      ],
      "text/latex": [
       "A data.frame: 6 × 14\n",
       "\\begin{tabular}{r|llllllllllllll}\n",
       " Outcome & Coefficient & OR & CI & P-value & Outcome\\_Present & Outcome\\_Negative & NA\\_Patient & padjustFdr & padjustBonferroni & logfdr & logbonf & Label & Association\\\\\n",
       " <chr> & <chr> & <chr> & <chr> & <chr> & <chr> & <chr> & <chr> & <dbl> & <dbl> & <dbl> & <dbl> & <fct> & <fct>\\\\\n",
       "\\hline\n",
       "\t any\\_cancer\\_self\\_report   & -18.0829941652956   & 1.40170111150631e-08 & (0,0)          & 5.45888741667015e-07 & 7(2/5)    & 594(244/350) & 200 & 0.000011785 & 3.329921e-05 & 11.34868316 & 10.30998 & any cancer   & OR > 1 \\\\\n",
       "\t any\\_diabetes             & 1.35028735482147    & 3.85853413979613     & (0.469,31.712) & 0.255666959528695    & 13(6/7)   & 785(273/512) & 3   & 0.970503911 & 1.000000e+00 &  0.02993985 &  0.00000 & diabetes     & OR > 1 \\\\\n",
       "\t any\\_family\\_cad           & -0.0502211189736727 & 0.951019112879443    & (0.479,1.886)  & 0.89042339284154     & 57(19/38) & 533(227/306) & 211 & 0.970503911 & 1.000000e+00 &  0.02993985 &  0.00000 & family CAD   & OR <= 1\\\\\n",
       "\t any\\_ht                   & 0.293332313357955   & 1.34088831149872     & (0.36,4.999)   & 0.677471777953554    & 68(21/47) & 733(260/473) & 0   & 0.970503911 & 1.000000e+00 &  0.02993985 &  0.00000 & hypertension & OR > 1 \\\\\n",
       "\t blood\\_cancer\\_self\\_report & -0.0100643039248949 & 0.989986171705898    & (0.71,1.38)    & 0.954594011264897    & 0(0/0)    & 594(244/350) & 207 & 0.970503911 & 1.000000e+00 &  0.02993985 &  0.00000 & blood cancer & OR <= 1\\\\\n",
       "\t bone\\_cancer\\_self\\_report  & -0.0100643039248949 & 0.989986171705898    & (0.71,1.38)    & 0.954594011264897    & 0(0/0)    & 594(244/350) & 207 & 0.970503911 & 1.000000e+00 &  0.02993985 &  0.00000 & bone cancer  & OR <= 1\\\\\n",
       "\\end{tabular}\n"
      ],
      "text/markdown": [
       "\n",
       "A data.frame: 6 × 14\n",
       "\n",
       "| Outcome &lt;chr&gt; | Coefficient &lt;chr&gt; | OR &lt;chr&gt; | CI &lt;chr&gt; | P-value &lt;chr&gt; | Outcome_Present &lt;chr&gt; | Outcome_Negative &lt;chr&gt; | NA_Patient &lt;chr&gt; | padjustFdr &lt;dbl&gt; | padjustBonferroni &lt;dbl&gt; | logfdr &lt;dbl&gt; | logbonf &lt;dbl&gt; | Label &lt;fct&gt; | Association &lt;fct&gt; |\n",
       "|---|---|---|---|---|---|---|---|---|---|---|---|---|---|\n",
       "| any_cancer_self_report   | -18.0829941652956   | 1.40170111150631e-08 | (0,0)          | 5.45888741667015e-07 | 7(2/5)    | 594(244/350) | 200 | 0.000011785 | 3.329921e-05 | 11.34868316 | 10.30998 | any cancer   | OR &gt; 1  |\n",
       "| any_diabetes             | 1.35028735482147    | 3.85853413979613     | (0.469,31.712) | 0.255666959528695    | 13(6/7)   | 785(273/512) | 3   | 0.970503911 | 1.000000e+00 |  0.02993985 |  0.00000 | diabetes     | OR &gt; 1  |\n",
       "| any_family_cad           | -0.0502211189736727 | 0.951019112879443    | (0.479,1.886)  | 0.89042339284154     | 57(19/38) | 533(227/306) | 211 | 0.970503911 | 1.000000e+00 |  0.02993985 |  0.00000 | family CAD   | OR &lt;= 1 |\n",
       "| any_ht                   | 0.293332313357955   | 1.34088831149872     | (0.36,4.999)   | 0.677471777953554    | 68(21/47) | 733(260/473) | 0   | 0.970503911 | 1.000000e+00 |  0.02993985 |  0.00000 | hypertension | OR &gt; 1  |\n",
       "| blood_cancer_self_report | -0.0100643039248949 | 0.989986171705898    | (0.71,1.38)    | 0.954594011264897    | 0(0/0)    | 594(244/350) | 207 | 0.970503911 | 1.000000e+00 |  0.02993985 |  0.00000 | blood cancer | OR &lt;= 1 |\n",
       "| bone_cancer_self_report  | -0.0100643039248949 | 0.989986171705898    | (0.71,1.38)    | 0.954594011264897    | 0(0/0)    | 594(244/350) | 207 | 0.970503911 | 1.000000e+00 |  0.02993985 |  0.00000 | bone cancer  | OR &lt;= 1 |\n",
       "\n"
      ],
      "text/plain": [
       "  Outcome                  Coefficient         OR                  \n",
       "1 any_cancer_self_report   -18.0829941652956   1.40170111150631e-08\n",
       "2 any_diabetes             1.35028735482147    3.85853413979613    \n",
       "3 any_family_cad           -0.0502211189736727 0.951019112879443   \n",
       "4 any_ht                   0.293332313357955   1.34088831149872    \n",
       "5 blood_cancer_self_report -0.0100643039248949 0.989986171705898   \n",
       "6 bone_cancer_self_report  -0.0100643039248949 0.989986171705898   \n",
       "  CI             P-value              Outcome_Present Outcome_Negative\n",
       "1 (0,0)          5.45888741667015e-07 7(2/5)          594(244/350)    \n",
       "2 (0.469,31.712) 0.255666959528695    13(6/7)         785(273/512)    \n",
       "3 (0.479,1.886)  0.89042339284154     57(19/38)       533(227/306)    \n",
       "4 (0.36,4.999)   0.677471777953554    68(21/47)       733(260/473)    \n",
       "5 (0.71,1.38)    0.954594011264897    0(0/0)          594(244/350)    \n",
       "6 (0.71,1.38)    0.954594011264897    0(0/0)          594(244/350)    \n",
       "  NA_Patient padjustFdr  padjustBonferroni logfdr      logbonf  Label       \n",
       "1 200        0.000011785 3.329921e-05      11.34868316 10.30998 any cancer  \n",
       "2 3          0.970503911 1.000000e+00       0.02993985  0.00000 diabetes    \n",
       "3 211        0.970503911 1.000000e+00       0.02993985  0.00000 family CAD  \n",
       "4 0          0.970503911 1.000000e+00       0.02993985  0.00000 hypertension\n",
       "5 207        0.970503911 1.000000e+00       0.02993985  0.00000 blood cancer\n",
       "6 207        0.970503911 1.000000e+00       0.02993985  0.00000 bone cancer \n",
       "  Association\n",
       "1 OR > 1     \n",
       "2 OR > 1     \n",
       "3 OR <= 1    \n",
       "4 OR > 1     \n",
       "5 OR <= 1    \n",
       "6 OR <= 1    "
      ]
     },
     "metadata": {},
     "output_type": "display_data"
    }
   ],
   "source": [
    "colnames( hei0506_result_AgeCat1) <- c(\"Outcome\", \"Coefficient\", \"OR\", \"CI\", \"P-value\", \"Outcome_Present\", \"Outcome_Negative\", \"NA_Patient\")\n",
    "\n",
    "hei0506_result_AgeCat1$padjustFdr <- p.adjust( as.numeric( hei0506_result_AgeCat1$`P-value`), method = \"fdr\")\n",
    "hei0506_result_AgeCat1$padjustBonferroni <- p.adjust( as.numeric( hei0506_result_AgeCat1$`P-value`), method = \"bonferroni\")\n",
    "\n",
    "\n",
    "hei0506_result_AgeCat1$logfdr <- -log( as.numeric(hei0506_result_AgeCat1$padjustFdr))\n",
    "hei0506_result_AgeCat1$logbonf <- -log( as.numeric(hei0506_result_AgeCat1$padjustBonferroni))\n",
    "\n",
    "hei0506_result_AgeCat1 <- merge(hei0506_result_AgeCat1, Labels, by = \"Outcome\")\n",
    "\n",
    "hei0506_result_AgeCat1$Association <- as.factor(ifelse(hei0506_result_AgeCat1$OR >= 1, \"OR > 1\", \"OR <= 1\"))\n",
    "\n",
    "head(hei0506_result_AgeCat1)"
   ]
  },
  {
   "cell_type": "code",
   "execution_count": 26,
   "metadata": {},
   "outputs": [
    {
     "data": {
      "image/png": "[encoded data removed]",
      "text/plain": [
       "plot without title"
      ]
     },
     "metadata": {},
     "output_type": "display_data"
    }
   ],
   "source": [
    "ggplot(hei0506_result_AgeCat1, aes(Outcome, logbonf))+ \n",
    "geom_point(aes(color = Association, fill = Association, shape = Association), size=3)+\n",
    "scale_shape_manual(values=c(25, 24))+\n",
    "scale_fill_manual(values=c(\"lightgray\",\"black\"))+\n",
    "scale_color_manual(values = c(\"lightgray\", \"black\"))+\n",
    "geom_text_repel(data = subset(hei0506_result_AgeCat1, logbonf > -log(0.05/nrow(hei0506_result_AgeCat1)) ),aes(label=Label))+\n",
    "geom_hline(yintercept= (-log(0.05/nrow(hei0506_result_AgeCat1))), linetype=\"dashed\", color = \"black\")+\n",
    "labs(title =\"Among Those 18 to Less Than 40 Years of Age\",\n",
    "     subtitle = bquote(\"Adjusted for sex, age,\"~ age^2~\", race/ethnicity, BMI, and smoking\"),\n",
    "     caption = \"Bonferroni adjusted p-values\")+\n",
    "ylab(\"-log p-value\")+\n",
    "xlab(\"Disease Outcomes\")+\n",
    "#ggtitle(\"Disease & Biomarker Outcome Significance \\n Comparing Highest and Lowest Quintiles of Healthy Eating Index\")+\n",
    "theme_bw()+\n",
    "theme(axis.text.x = element_blank(), \n",
    "      panel.grid.major = element_blank(), \n",
    "      panel.grid.minor = element_blank(), \n",
    "      plot.subtitle = element_text(face = \"italic\", hjust = 0.5),\n",
    "      plot.caption = element_text(face = \"italic\", hjust = 1),\n",
    "      axis.title.x = element_text(family=\"Helvetica\", face = \"bold\", size = 12, vjust = -2),\n",
    "      axis.title.y = element_text(family=\"Helvetica\", face = \"bold\", size = 12),\n",
    "      plot.title=element_text(family = \"Helvetica\", face = \"bold\", size = 14, hjust=0.5))"
   ]
  },
  {
   "cell_type": "markdown",
   "metadata": {},
   "source": [
    "Ages 40 to 59 as 'AgeCat2'"
   ]
  },
  {
   "cell_type": "markdown",
   "metadata": {},
   "source": [
    "Subset data "
   ]
  },
  {
   "cell_type": "code",
   "execution_count": null,
   "metadata": {},
   "outputs": [],
   "source": [
    "MainTableAgeCat2 <- MainTable1[ which(MainTable1$RIDAGEYR >= 40 & MainTable1$RIDAGEYR  < 60),] \n",
    "MainTable_Health <- subset(MainTableAgeCat2, select = c(\"SEQN\",\"SDMVPSU\", \"SDMVSTRA\", \"WTMEC2YR\",\"RIDAGEYR\",\"BMXBMI\", \"black\", \"mexican\", \"other_hispanic\", \"other_eth\", \"SMQ040\", \"male\", \"female\", \"any_diabetes\", \"any_ht\", \"cad\", \"bladder_cancer_self_report\", \"blood_cancer_self_report\", \"bone_cancer_self_report\", \"brain_cancer_self_report\", \"breast_cancer_self_report\", \"cervix_cacner_self_report\", \"colon_cancer_self_report\", \"esophagus_cancer_self_report\", \"gallbladder_cancer_self_report\", \"kidney_cancer_self_report\", \"larynx_cancer_self_report\", \"leukemia_self_report\", \"liver_cancer_self_report\", \"lung_cancer_self_report\", \"lymphoma_self_report\", \"melanoma_self_report\", \"mouth_cancer_self_report\", \"nervous_cancer_self_report\", \"ovarian_cancer_self_report\", \"pancreatic_cancer_self_report\", \"prostate_cancer_self_report\", \"rectum_cancer_self_report\", \"skin_cancer_self_report\", \"other_skin_cancer_self_report\", \"soft_cancer_self_report\", \"stomach_cancer_self_report\", \"testis_cancer_self_report\", \"thyroid_cancer_self_report\", \"uterine_cancer_self_report\", \"other_cancer_self_report\", \"any_cancer_self_report\", \"any_family_cad\", \"current_asthma\", \"ever_asthma\", \"ever_arthritis\", \"ever_rheumatoid_arthritis\", \"ever_osteo_arthritis\", \"LBXHBC\", \"LBDHBG\", \"LBDHCV\", \"LBDHD\", \"LBXHBS\", \"LBXHA\", \"LBDHI\"))\n",
    "\n",
    "Biomarkers_Threshold <- subset(MainTableAgeCat2, select =c(\"LBXTC\", \"LBDLDL\", \"LBXTR\", \"LBXGH\", \"LBXGLU\", \"LBXVIA\", \"LBXVIC\", \"LBXVID\", \"LBXVIE\",  \"LBXB12\", \"LBXFOL\", \"LBXRBF\", \"LBXFER\", \"LBXHCY\"))\n",
    "\n",
    "\n",
    "#*************Threshold values*************************\n",
    "\n",
    "#Total cholesterol - Case <= 200\n",
    "Biomarkers_Threshold$LBXTC_TH <- ifelse(Biomarkers_Threshold$LBXTC <= 200, 1, 0)\n",
    "#LDL -  case < 100\n",
    "Biomarkers_Threshold$LBDLDL_TH <- ifelse(Biomarkers_Threshold$LBDLDL <= 100, 1, 0)\n",
    "#Triglycerides - case >= 150 \n",
    "Biomarkers_Threshold$LBXTR_TH <- ifelse(Biomarkers_Threshold$LBXTR <= 150, 1, 0)\n",
    "#Glycohemoglobin - case <= 5.7 \n",
    "Biomarkers_Threshold$LBXGH_TH <- ifelse(Biomarkers_Threshold$LBXGH <= 5.7, 1, 0)\n",
    "#Fasting Glucose -case <= 100\n",
    "Biomarkers_Threshold$LBXGLU_TH <- ifelse(Biomarkers_Threshold$LBXGLU <= 100, 1, 0)\n",
    "#Vitamin A - case >= 20 \n",
    "Biomarkers_Threshold$LBXVIA_TH <- ifelse(Biomarkers_Threshold$LBXVIA >= 20, 1, 0)\n",
    "#vitamin C - case >= 11.4\n",
    "Biomarkers_Threshold$LBXVIC_TH <- ifelse(Biomarkers_Threshold$LBXVIC >= 11.4, 1, 0)\n",
    "#vitamin D - case >= 20\n",
    "Biomarkers_Threshold$LBXVID_TH <- ifelse(Biomarkers_Threshold$LBXVID >= 20, 1, 0)\n",
    "#vitamin E - case >= 500\n",
    "Biomarkers_Threshold$LBXVIE_TH <- ifelse(Biomarkers_Threshold$LBXVIE >= 500, 1, 0)\n",
    "#vitamin B12 - case  >= 200\n",
    "Biomarkers_Threshold$LBXB12_TH <- ifelse(Biomarkers_Threshold$LBXB12 >= 200, 1, 0)\n",
    "#serum folate - case >= 2\n",
    "Biomarkers_Threshold$LBXFOL_TH <- ifelse(Biomarkers_Threshold$LBXFOL >= 2, 1, 0)\n",
    "#RBC FOLATE\n",
    "Biomarkers_Threshold$LBXRBF_TH <- ifelse(Biomarkers_Threshold$LBXRBF >= 95, 1, 0)\n",
    "#ferritin\n",
    "Biomarkers_Threshold$LBXFER_TH <- ifelse(Biomarkers_Threshold$LBXFER >= 15, 1, 0)\n",
    "#plasma homocysteine\n",
    "Biomarkers_Threshold$LBXHCY_TH <- ifelse(Biomarkers_Threshold$LBXHCY <= 13, 1, 0)\n",
    "Biomarkers_Threshold <- subset(Biomarkers_Threshold, select =c(\"LBXTC_TH\", \"LBDLDL_TH\", \"LBXTR_TH\", \"LBXGH_TH\", \"LBXGLU_TH\", \"LBXVIA_TH\", \"LBXVIC_TH\", \"LBXVID_TH\", \"LBXVIE_TH\",  \"LBXB12_TH\", \"LBXFOL_TH\", \"LBXRBF_TH\", \"LBXFER_TH\", \"LBXHCY_TH\"))\n",
    "Health_Biomarkers <- cbind(MainTable_Health, Biomarkers_Threshold)\n",
    "phenotypesheath_biomarkers <- c(\"any_diabetes\", \"any_ht\", \"cad\", \"bladder_cancer_self_report\", \"blood_cancer_self_report\", \"bone_cancer_self_report\", \"brain_cancer_self_report\", \"breast_cancer_self_report\", \"cervix_cacner_self_report\", \"colon_cancer_self_report\", \"esophagus_cancer_self_report\", \"gallbladder_cancer_self_report\", \"kidney_cancer_self_report\", \"larynx_cancer_self_report\", \"leukemia_self_report\", \"liver_cancer_self_report\", \"lung_cancer_self_report\", \"lymphoma_self_report\", \"melanoma_self_report\", \"mouth_cancer_self_report\", \"nervous_cancer_self_report\", \"ovarian_cancer_self_report\", \"pancreatic_cancer_self_report\", \"prostate_cancer_self_report\", \"rectum_cancer_self_report\", \"skin_cancer_self_report\", \"other_skin_cancer_self_report\", \"soft_cancer_self_report\", \"stomach_cancer_self_report\", \"testis_cancer_self_report\", \"thyroid_cancer_self_report\", \"uterine_cancer_self_report\", \"other_cancer_self_report\", \"any_cancer_self_report\", \"any_family_cad\", \"current_asthma\", \"ever_asthma\", \"ever_arthritis\", \"ever_rheumatoid_arthritis\", \"ever_osteo_arthritis\", \"LBXHBC\", \"LBDHBG\", \"LBDHCV\", \"LBDHD\", \"LBXHBS\", \"LBXHA\", \"LBDHI\", \"LBXTC_TH\", \"LBDLDL_TH\", \"LBXTR_TH\", \"LBXGH_TH\", \"LBXGLU_TH\", \"LBXVIA_TH\", \"LBXVIC_TH\", \"LBXVID_TH\", \"LBXVIE_TH\",  \"LBXB12_TH\", \"LBXFOL_TH\", \"LBXRBF_TH\", \"LBXFER_TH\", \"LBXHCY_TH\")"
   ]
  },
  {
   "cell_type": "markdown",
   "metadata": {},
   "source": [
    "Selecting dataframe, case, control and phenotype list"
   ]
  },
  {
   "cell_type": "code",
   "execution_count": null,
   "metadata": {},
   "outputs": [],
   "source": [
    "dataframe <- Health_Biomarkers\n",
    "cut <- \"quintile\"\n",
    "case <- 5\n",
    "control <- 1\n",
    "phenotypes <- phenotypesheath_biomarkers"
   ]
  },
  {
   "cell_type": "markdown",
   "metadata": {},
   "source": [
    "Merging quintile values with working dataframe"
   ]
  },
  {
   "cell_type": "code",
   "execution_count": null,
   "metadata": {},
   "outputs": [],
   "source": [
    "hei0506_subset <- subset(hei0506, select = c(\"SEQN\", cut))           #subset with grade or quintile and SEQN\n",
    "hei0506_subset$SEQN <- as.character( hei0506_subset$SEQN )          #change both 'SEQN' columns to characters for merging\n",
    "dataframe$SEQN <- as.character( dataframe$SEQN )\n",
    "\n",
    "hei0506_merged <- merge(dataframe, hei0506_subset, by=\"SEQN\")     #merging the grade or qunitile with dataframe\n",
    "\n",
    "hei0506_merged_cut <- hei0506_merged[hei0506_merged[,cut] %in% c(case, control),]   #selecting cases & control\n",
    "\n",
    "\n",
    "hei0506_casecontrol <- subset(hei0506_merged_cut, select=c(\"SEQN\", cut))#subsetting so we just have SEQN+cut \n",
    "\n",
    "hei0506_casecontrol[cut] <- ifelse(hei0506_casecontrol[cut]==case, 1, 0) #Converting case control to binary\n",
    "\n",
    "hei0506_final <- inner_join(hei0506_merged, hei0506_casecontrol, by = \"SEQN\")  #Merge phenotypes w/ binary input\n",
    "colNumber <- length(hei0506_final) - 1\n",
    "colnames(hei0506_final)[colNumber] <- \"casecontrol\"\n",
    "colNumber <- length(hei0506_final)\n",
    "colnames(hei0506_final)[colNumber] <- \"casevalue\"\n"
   ]
  },
  {
   "cell_type": "markdown",
   "metadata": {},
   "source": [
    "Setting survey design"
   ]
  },
  {
   "cell_type": "code",
   "execution_count": null,
   "metadata": {},
   "outputs": [],
   "source": [
    "dsn <- svydesign(ids=~SDMVPSU, strata=~SDMVSTRA, weights=~WTMEC2YR, nest=T, data=hei0506_final, variables = NULL)"
   ]
  },
  {
   "cell_type": "markdown",
   "metadata": {},
   "source": [
    "Creating dataframe matrix for results"
   ]
  },
  {
   "cell_type": "markdown",
   "metadata": {},
   "source": [
    "hei0506_result_AgeCat2 <- as.data.frame(matrix(ncol =8))"
   ]
  },
  {
   "cell_type": "markdown",
   "metadata": {},
   "source": [
    "Running for loop for logistic regressions for all disease outcomes"
   ]
  },
  {
   "cell_type": "code",
   "execution_count": null,
   "metadata": {},
   "outputs": [],
   "source": [
    "for(i in 14:ncol(hei0506_final)-2){\n",
    "                                                                                        \n",
    " print( i )\n",
    "\n",
    "myglm <- svyglm(as.formula(paste0(names(hei0506_final)[i], \"~ casevalue + black + mexican + other_hispanic + other_eth + RIDAGEYR + RIDAGEYR^2 + female + BMXBMI\")),design = dsn,\n",
    "                family = binomial(),\n",
    "                na.action = na.omit)\n",
    "\n",
    "#confidence interval\n",
    "ci <- exp(summary(myglm)$coefficients[\"casevalue\",1]+qnorm(c(0.025, 0.975)) * summary(myglm)$coefficients[\"casevalue\",2])\n",
    "\n",
    "\n",
    "excludedPatients <- sum(is.na(hei0506_final[, i ]))\n",
    "    casecontrol <-  hei0506_final[, c(names(hei0506_final)[i], \"SEQN\", \"casevalue\")]\n",
    "    casecontrol <- na.omit( casecontrol )\n",
    "    heihighpositive <- length(unique(casecontrol[casecontrol[,1]== 1 & casecontrol$casevalue== 1, \"SEQN\"]))\n",
    "    heihighnegative <- length(unique(casecontrol[casecontrol[,1]== 0 & casecontrol$casevalue== 1, \"SEQN\"]))\n",
    "    heilowpositive <- length(unique(casecontrol[casecontrol[,1]== 1 & casecontrol$casevalue== 0, \"SEQN\"]))\n",
    "    heilownegative <- length(unique(casecontrol[casecontrol[,1]== 0 & casecontrol$casevalue== 0, \"SEQN\"]))\n",
    " \n",
    "\n",
    "    \n",
    "newRow <- c (names(hei0506_final)[i], summary(myglm)$coefficients[2], exp(summary(myglm)$coefficients[2]), paste0(\"(\", round(ci[1][1],3), \",\", round(ci[2][1],3), \")\"),\n",
    "summary(myglm)$coefficients[2,4], paste0(heihighpositive+heilowpositive,\"(\",heihighpositive,\"/\",heilowpositive,\")\"), paste0(heihighnegative+heilownegative,\"(\",heihighnegative,\"/\",heilownegative,\")\"), excludedPatients\n",
    "                  )\n",
    "    \n",
    "hei0506_result_AgeCat2 <- rbind( newRow, hei0506_AgeCat2 ) \n",
    "\n",
    "\n",
    "}\n"
   ]
  },
  {
   "cell_type": "markdown",
   "metadata": {},
   "source": [
    "Renaming columns and adding columns with adjusted pvalues and OR designation"
   ]
  },
  {
   "cell_type": "code",
   "execution_count": null,
   "metadata": {},
   "outputs": [],
   "source": [
    "colnames( hei0506_result_AgeCat2) <- c(\"Outcome\", \"Coefficient\", \"OR\", \"CI\", \"P-value\", \"Outcome_Present\", \"Outcome_Negative\", \"NA_Patient\")\n",
    "\n",
    "hei0506_result_AgeCat2$padjustFdr <- p.adjust( as.numeric( hei0506_result_AgeCat2$`P-value`), method = \"fdr\")\n",
    "hei0506_result_AgeCat2_AgeCat2$padjustBonferroni <- p.adjust( as.numeric( hei0506_result_AgeCat2$`P-value`), method = \"bonferroni\")\n",
    "\n",
    "\n",
    "hei0506_result_AgeCat2$logfdr <- -log( as.numeric(hei0506_result_AgeCat2$padjustFdr))\n",
    "hei0506_result_AgeCat2$logbonf <- -log( as.numeric(hei0506_result_AgeCat2$padjustBonferroni))\n",
    "\n",
    "hei0506_result_AgeCat2 <- merge(hei0506_result_AgeCat2, Labels, by = \"Outcome\")\n",
    "\n",
    " hei0506_result_AgeCat2$Association <- as.factor(ifelse(hei0506_result_AgeCat2$OR > 1, \"OR > 1\", \"OR <= 1\"))\n",
    " head(hei0506_result_AgeCat2)"
   ]
  },
  {
   "cell_type": "markdown",
   "metadata": {},
   "source": [
    "Creating Manhatten plot in ggplot"
   ]
  },
  {
   "cell_type": "code",
   "execution_count": null,
   "metadata": {},
   "outputs": [],
   "source": [
    "ggplot(hei0506_result_AgeCat2, aes(Outcome, logbonf))+ \n",
    "geom_point(aes(color = Association, fill = Association, shape = Association), size=3)+\n",
    "scale_shape_manual(values=c(25, 24))+\n",
    "scale_fill_manual(values=c(\"lightgray\",\"black\"))+\n",
    "scale_color_manual(values = c(\"lightgray\", \"black\"))+\n",
    "geom_text_repel(data = subset(hei0506_result_AgeCat2, logbonf > -log(0.05/nrow(hei0506_result_AgeCat2)) ),aes(label=Label))+\n",
    "geom_hline(yintercept= (-log(0.05/nrow(hei0506_result_AgeCat2))), linetype=\"dashed\", color = \"black\")+\n",
    "labs(title =\"Among Those 40 to 59 Years Old\",\n",
    "     subtitle = bquote(\"Adjusted for sex, age,\"~ age^2~\", race/ethnicity, BMI, and smoking\"),\n",
    "     caption = \"Bonferroni adjusted p-values\")+\n",
    "ylab(\"-log p-value\")+\n",
    "xlab(\"Disease Outcomes\")+\n",
    "#ggtitle(\"Disease & Biomarker Outcome Significance \\n Comparing Highest and Lowest Quintiles of Healthy Eating Index\")+\n",
    "theme_bw()+\n",
    "theme(axis.text.x = element_blank(), \n",
    "      panel.grid.major = element_blank(), \n",
    "      panel.grid.minor = element_blank(), \n",
    "      plot.subtitle = element_text(face = \"italic\", hjust = 0.5),\n",
    "      plot.caption = element_text(face = \"italic\", hjust = 1),\n",
    "      axis.title.x = element_text(family=\"Helvetica\", face = \"bold\", size = 12, vjust = -2),\n",
    "      axis.title.y = element_text(family=\"Helvetica\", face = \"bold\", size = 12),\n",
    "      plot.title=element_text(family = \"Helvetica\", face = \"bold\", size = 14, hjust=0.5))"
   ]
  },
  {
   "cell_type": "markdown",
   "metadata": {},
   "source": [
    "Ages 60+ as AgeCat3"
   ]
  },
  {
   "cell_type": "code",
   "execution_count": null,
   "metadata": {},
   "outputs": [],
   "source": [
    "Subsetting data"
   ]
  },
  {
   "cell_type": "code",
   "execution_count": null,
   "metadata": {},
   "outputs": [],
   "source": [
    "MainTableAgeCat3 <- MainTable1[ which(MainTable1$RIDAGEYR > 59 ),] \n",
    "\n",
    "MainTable_Health <- subset(MainTableAgeCat3, select = c(\"SEQN\", \"SDMVPSU\", \"SDMVSTRA\", \"WTMEC2YR\",\"RIDAGEYR\",\"BMXBMI\", \"black\", \"mexican\", \"other_hispanic\", \"other_eth\", \"SMQ040\", \"male\", \"female\", \"any_diabetes\", \"any_ht\", \"cad\", \"bladder_cancer_self_report\", \"blood_cancer_self_report\", \"bone_cancer_self_report\", \"brain_cancer_self_report\", \"breast_cancer_self_report\", \"cervix_cacner_self_report\", \"colon_cancer_self_report\", \"esophagus_cancer_self_report\", \"gallbladder_cancer_self_report\", \"kidney_cancer_self_report\", \"larynx_cancer_self_report\", \"leukemia_self_report\", \"liver_cancer_self_report\", \"lung_cancer_self_report\", \"lymphoma_self_report\", \"melanoma_self_report\", \"mouth_cancer_self_report\", \"nervous_cancer_self_report\", \"ovarian_cancer_self_report\", \"pancreatic_cancer_self_report\", \"prostate_cancer_self_report\", \"rectum_cancer_self_report\", \"skin_cancer_self_report\", \"other_skin_cancer_self_report\", \"soft_cancer_self_report\", \"stomach_cancer_self_report\", \"testis_cancer_self_report\", \"thyroid_cancer_self_report\", \"uterine_cancer_self_report\", \"other_cancer_self_report\", \"any_cancer_self_report\", \"any_family_cad\", \"current_asthma\", \"ever_asthma\", \"ever_arthritis\", \"ever_rheumatoid_arthritis\", \"ever_osteo_arthritis\",\"LBXHA\" ))\n",
    "\n",
    "#\"LBDHBG\", \"LBDHCV\", \"LBXHBS\", \"LBXHBC\", \"LBDHI\"\n",
    "Biomarkers_Threshold <- subset(MainTableAgeCat3, select =c(\"LBXTC\", \"LBDLDL\", \"LBXTR\", \"LBXGH\", \"LBXGLU\", \"LBXVIA\", \"LBXVIC\", \"LBXB12\", \"LBXFOL\", \"LBXRBF\"))\n",
    "\n",
    "\n",
    "#Total cholesterol - Case <= 200\n",
    "Biomarkers_Threshold$LBXTC_TH <- ifelse(Biomarkers_Threshold$LBXTC <= 200, 1, 0)\n",
    "#LDL -  case < 100\n",
    "Biomarkers_Threshold$LBDLDL_TH <- ifelse(Biomarkers_Threshold$LBDLDL <= 100, 1, 0)\n",
    "#Triglycerides - case >= 150 \n",
    "Biomarkers_Threshold$LBXTR_TH <- ifelse(Biomarkers_Threshold$LBXTR <= 150, 1, 0)\n",
    "#Glycohemoglobin - case <= 5.7 \n",
    "Biomarkers_Threshold$LBXGH_TH <- ifelse(Biomarkers_Threshold$LBXGH <= 5.7, 1, 0)\n",
    "#Fasting Glucose -case <= 100\n",
    "Biomarkers_Threshold$LBXGLU_TH <- ifelse(Biomarkers_Threshold$LBXGLU <= 100, 1, 0)\n",
    "#Vitamin A - case >= 20 \n",
    "Biomarkers_Threshold$LBXVIA_TH <- ifelse(Biomarkers_Threshold$LBXVIA >= 20, 1, 0)\n",
    "#vitamin C - case >= 11.4\n",
    "Biomarkers_Threshold$LBXVIC_TH <- ifelse(Biomarkers_Threshold$LBXVIC >= 11.4, 1, 0)\n",
    "#vitamin B12 - case  >= 200\n",
    "Biomarkers_Threshold$LBXB12_TH <- ifelse(Biomarkers_Threshold$LBXB12 >= 200, 1, 0)\n",
    "#serum folate - case >= 2\n",
    "Biomarkers_Threshold$LBXFOL_TH <- ifelse(Biomarkers_Threshold$LBXFOL >= 2, 1, 0)\n",
    "#RBC FOLATE\n",
    "Biomarkers_Threshold$LBXRBF_TH <- ifelse(Biomarkers_Threshold$LBXRBF >= 95, 1, 0)\n",
    "\n",
    "Biomarkers_Threshold <- subset(Biomarkers_Threshold, select =c(\"LBXTC_TH\", \"LBDLDL_TH\", \"LBXTR_TH\", \"LBXGH_TH\", \"LBXGLU_TH\", \"LBXVIA_TH\", \"LBXVIC_TH\", \"LBXB12_TH\", \"LBXFOL_TH\", \"LBXRBF_TH\" )) \n",
    "\n",
    "Health_Biomarkers <- cbind(MainTable_Health, Biomarkers_Threshold)\n",
    "\n",
    "phenotypesheath_biomarkers <- c(\"any_diabetes\", \"any_ht\", \"cad\", \"bladder_cancer_self_report\", \"blood_cancer_self_report\", \"bone_cancer_self_report\", \"brain_cancer_self_report\", \"breast_cancer_self_report\", \"cervix_cacner_self_report\", \"colon_cancer_self_report\", \"esophagus_cancer_self_report\", \"gallbladder_cancer_self_report\", \"kidney_cancer_self_report\", \"larynx_cancer_self_report\", \"leukemia_self_report\", \"liver_cancer_self_report\", \"lung_cancer_self_report\", \"lymphoma_self_report\", \"melanoma_self_report\", \"mouth_cancer_self_report\", \"nervous_cancer_self_report\", \"ovarian_cancer_self_report\", \"pancreatic_cancer_self_report\", \"prostate_cancer_self_report\", \"rectum_cancer_self_report\", \"skin_cancer_self_report\", \"other_skin_cancer_self_report\", \"soft_cancer_self_report\", \"stomach_cancer_self_report\", \"testis_cancer_self_report\", \"thyroid_cancer_self_report\", \"uterine_cancer_self_report\", \"other_cancer_self_report\", \"any_cancer_self_report\", \"any_family_cad\", \"current_asthma\", \"ever_asthma\", \"ever_arthritis\", \"ever_rheumatoid_arthritis\", \"ever_osteo_arthritis\", \"LBXHA\", \"LBXTC_TH\", \"LBDLDL_TH\", \"LBXTR_TH\", \"LBXGH_TH\", \"LBXGLU_TH\",\"LBXVIA_TH\", \"LBXVIC_TH\", \"LBXB12_TH\", \"LBXFOL_TH\", \"LBXRBF_TH\" )"
   ]
  },
  {
   "cell_type": "markdown",
   "metadata": {},
   "source": [
    "Selecting dataframe, case, control, and phenotype"
   ]
  },
  {
   "cell_type": "code",
   "execution_count": null,
   "metadata": {},
   "outputs": [],
   "source": [
    "dataframe <- Health_Biomarkers\n",
    "cut <- \"quintile\"\n",
    "case <- 5\n",
    "control <- 1\n",
    "phenotypes <- phenotypesheath_biomarkers"
   ]
  },
  {
   "cell_type": "markdown",
   "metadata": {},
   "source": [
    "Merging quintile values with working dataframe"
   ]
  },
  {
   "cell_type": "code",
   "execution_count": null,
   "metadata": {},
   "outputs": [],
   "source": [
    "hei0506_subset <- subset(hei0506, select = c(\"SEQN\", cut))  #subset with quintile and SEQN\n",
    "hei0506_subset$SEQN <- as.character( hei0506_subset$SEQN )  #change both 'SEQN' columns to characters for merging\n",
    "dataframe$SEQN <- as.character( dataframe$SEQN )\n",
    "\n",
    "hei0506_merged <- merge(dataframe, hei0506_subset, by=\"SEQN\")     #merging the grade or qunitile with dataframe\n",
    "\n",
    "hei0506_merged_cut <- hei0506_merged[hei0506_merged[,cut] %in% c(case, control),]   #selecting cases & control\n",
    "\n",
    "\n",
    "hei0506_casecontrol <- subset(hei0506_merged_cut, select=c(\"SEQN\", cut))#subsetting so we just have SEQN+cut \n",
    "\n",
    "hei0506_casecontrol[cut] <- ifelse(hei0506_casecontrol[cut]==case, 1, 0) #Converting case control to binary\n",
    "\n",
    "hei0506_final <- inner_join(hei0506_merged, hei0506_casecontrol, by = \"SEQN\")  #Merge phenotypes w/ binary input\n",
    "colNumber <- length(hei0506_final) - 1\n",
    "colnames(hei0506_final)[colNumber] <- \"casecontrol\"\n",
    "colNumber <- length(hei0506_final)\n",
    "colnames(hei0506_final)[colNumber] <- \"casevalue\""
   ]
  },
  {
   "cell_type": "markdown",
   "metadata": {},
   "source": [
    "Setting survey weight design for survey weighted logistic regression"
   ]
  },
  {
   "cell_type": "code",
   "execution_count": null,
   "metadata": {},
   "outputs": [],
   "source": [
    "dsn <- svydesign(ids=~SDMVPSU, strata=~SDMVSTRA, weights=~WTMEC2YR, nest=T, data=hei0506_final, variables = NULL)"
   ]
  },
  {
   "cell_type": "markdown",
   "metadata": {},
   "source": [
    "Create dataframe to populate with results from logistic regressions"
   ]
  },
  {
   "cell_type": "code",
   "execution_count": null,
   "metadata": {},
   "outputs": [],
   "source": [
    "hei0506_result_AgeCat3 <- as.data.frame(matrix(ncol =8))"
   ]
  },
  {
   "cell_type": "markdown",
   "metadata": {},
   "source": [
    "For loop to run logistic regressions on all disease outcomes"
   ]
  },
  {
   "cell_type": "code",
   "execution_count": null,
   "metadata": {},
   "outputs": [],
   "source": [
    "for(i in 14:ncol(hei0506_final)-2){\n",
    "                                                                                           #Writingglm\n",
    " print( i )\n",
    "\n",
    "myglm <- svyglm(as.formula(paste0(names(hei0506_final)[i], \"~ casevalue + black + mexican + other_hispanic + other_eth + BMXBMI+SMQ040 + female + RIDAGEYR + RIDAGEYR^2\")),design = dsn,\n",
    "                family = binomial(),\n",
    "                na.action = na.omit)\n",
    "\n",
    "#confidence interval\n",
    "ci <- exp(summary(myglm)$coefficients[\"casevalue\",1]+qnorm(c(0.025, 0.975)) * summary(myglm)$coefficients[\"casevalue\",2])\n",
    "\n",
    "\n",
    "excludedPatients <- sum(is.na(hei0506_final[, i ]))\n",
    "    casecontrol <-  hei0506_final[, c(names(hei0506_final)[i], \"SEQN\", \"casevalue\")]\n",
    "    casecontrol <- na.omit( casecontrol )\n",
    "    heihighpositive <- length(unique(casecontrol[casecontrol[,1]== 1 & casecontrol$casevalue== 1, \"SEQN\"]))\n",
    "    heihighnegative <- length(unique(casecontrol[casecontrol[,1]== 0 & casecontrol$casevalue== 1, \"SEQN\"]))\n",
    "    heilowpositive <- length(unique(casecontrol[casecontrol[,1]== 1 & casecontrol$casevalue== 0, \"SEQN\"]))\n",
    "    heilownegative <- length(unique(casecontrol[casecontrol[,1]== 0 & casecontrol$casevalue== 0, \"SEQN\"]))\n",
    " \n",
    "\n",
    "    \n",
    "newRow <- c (names(hei0506_final)[i], summary(myglm)$coefficients[2], exp(summary(myglm)$coefficients[2]), paste0(\"(\", round(ci[1][1],3), \",\", round(ci[2][1],3), \")\"),\n",
    "summary(myglm)$coefficients[2,4], paste0(heihighpositive+heilowpositive,\"(\",heihighpositive,\"/\",heilowpositive,\")\"), paste0(heihighnegative+heilownegative,\"(\",heihighnegative,\"/\",heilownegative,\")\"), excludedPatients\n",
    "                  )\n",
    "    \n",
    "hei0506_result_AgeCat3 <- rbind( newRow, hei0506_result ) \n",
    "\n",
    "\n",
    "}"
   ]
  },
  {
   "cell_type": "markdown",
   "metadata": {},
   "source": [
    "chaning column names and adding columns for adjusted pvalues and odds ratio "
   ]
  },
  {
   "cell_type": "code",
   "execution_count": null,
   "metadata": {},
   "outputs": [],
   "source": [
    "colnames( hei0506_result_AgeCat3) <- c(\"Outcome\", \"Coefficient\", \"OR\", \"CI\", \"P-value\", \"Outcome_Present\", \"Outcome_Negative\", \"NA_Patient\")\n",
    "\n",
    "hei0506_result_AgeCat3$padjustFdr <- p.adjust( as.numeric( hei0506_result_AgeCat3$`P-value`), method = \"fdr\")\n",
    "hei0506_result_AgeCat3$padjustBonferroni <- p.adjust( as.numeric( hei0506_result_AgeCat3$`P-value`), method = \"bonferroni\")\n",
    "\n",
    "hei0506_result_AgeCat3$logfdr <- -log( as.numeric(hei0506_result_AgeCat3$padjustFdr))\n",
    "hei0506_result_AgeCat3$logbonf <- -log( as.numeric(hei0506_result_AgeCat3$padjustBonferroni))\n",
    "\n",
    "hei0506_result_AgeCat3 <- merge(hei0506_result_AgeCat3, Labels, by = \"Outcome\")\n",
    "\n",
    "hei0506_result_AgeCat3$Association <- as.factor(ifelse(hei0506_result_AgeCat3$OR > 1, \"OR > 1\", \"OR <= 1\"))\n",
    "\n",
    "head(hei0506_result_AgeCat3)"
   ]
  },
  {
   "cell_type": "markdown",
   "metadata": {},
   "source": [
    "Using ggplot for Manhatten plot"
   ]
  },
  {
   "cell_type": "code",
   "execution_count": null,
   "metadata": {},
   "outputs": [],
   "source": [
    "ggplot(hei0506_result_AgeCat3, aes(Outcome, logbonf))+ \n",
    "geom_point(aes(color = Association, fill = Association, shape = Association), size=3)+\n",
    "scale_shape_manual(values=c(25, 24))+\n",
    "scale_fill_manual(values=c(\"lightgray\",\"black\"))+\n",
    "scale_color_manual(values = c(\"lightgray\", \"black\"))+\n",
    "geom_text_repel(data = subset(hei0506_result_AgeCat3, logbonf > -log(0.05/nrow(hei0506_result_AgeCat3)) ),aes(label=Label))+\n",
    "geom_hline(yintercept= (-log(0.05/nrow(hei0506_result_AgeCat3))), linetype=\"dashed\", color = \"black\")+\n",
    "labs(title =\"Among Those 60 Years of Age and Older\",\n",
    "     subtitle = bquote(\"Adjusted for sex, age,\"~ age^2~\", race/ethnicity, BMI, and smoking\"),\n",
    "     caption = \"Bonferroni adjusted p-values\")+\n",
    "ylab(\"-log p-value\")+\n",
    "xlab(\"Disease Outcomes\")+\n",
    "#ggtitle(\"Disease & Biomarker Outcome Significance \\n Comparing Highest and Lowest Quintiles of Healthy Eating Index\")+\n",
    "theme_bw()+\n",
    "theme(axis.text.x = element_blank(), \n",
    "      panel.grid.major = element_blank(), \n",
    "      panel.grid.minor = element_blank(), \n",
    "      plot.subtitle = element_text(face = \"italic\", hjust = 0.5),\n",
    "      plot.caption = element_text(face = \"italic\", hjust = 1),\n",
    "      axis.title.x = element_text(family=\"Helvetica\", face = \"bold\", size = 12, vjust = -2),\n",
    "      axis.title.y = element_text(family=\"Helvetica\", face = \"bold\", size = 12),\n",
    "      plot.title=element_text(family = \"Helvetica\", face = \"bold\", size = 14, hjust=0.5))"
   ]
  }
 ],
 "metadata": {
  "kernelspec": {
   "display_name": "R",
   "language": "R",
   "name": "ir"
  },
  "language_info": {
   "codemirror_mode": "r",
   "file_extension": ".r",
   "mimetype": "text/x-r-source",
   "name": "R",
   "pygments_lexer": "r",
   "version": "3.5.0"
  }
 },
 "nbformat": 4,
 "nbformat_minor": 2
}
