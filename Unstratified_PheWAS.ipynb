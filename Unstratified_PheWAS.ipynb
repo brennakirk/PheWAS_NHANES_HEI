{
 "cells": [
  {
   "cell_type": "markdown",
   "metadata": {},
   "source": [
    "Title:Examination of the relationship between diet quality, disease status in NHANES participants using a phenome-wide association study (PheWAS) approach"
   ]
  },
  {
   "cell_type": "code",
   "execution_count": 7,
   "metadata": {},
   "outputs": [
    {
     "name": "stderr",
     "output_type": "stream",
     "text": [
      "Warning message:\n",
      "“package ‘dplyr’ was built under R version 3.5.1”\n",
      "Attaching package: ‘dplyr’\n",
      "\n",
      "The following objects are masked from ‘package:stats’:\n",
      "\n",
      "    filter, lag\n",
      "\n",
      "The following objects are masked from ‘package:base’:\n",
      "\n",
      "    intersect, setdiff, setequal, union\n",
      "\n",
      "Warning message:\n",
      "“package ‘survey’ was built under R version 3.5.2”Loading required package: grid\n",
      "Loading required package: Matrix\n",
      "Loading required package: survival\n",
      "\n",
      "Attaching package: ‘survey’\n",
      "\n",
      "The following object is masked from ‘package:graphics’:\n",
      "\n",
      "    dotchart\n",
      "\n"
     ]
    }
   ],
   "source": [
    "library(hei)\n",
    "library(ggplot2)\n",
    "library(dplyr)\n",
    "library(ggrepel)\n",
    "library(survey)"
   ]
  },
  {
   "cell_type": "markdown",
   "metadata": {},
   "source": [
    "Import and subset data"
   ]
  },
  {
   "cell_type": "code",
   "execution_count": 8,
   "metadata": {},
   "outputs": [],
   "source": [
    "nahnes9906 <- load(\"nh_99-06.Rdata\")\n",
    "Labels <- read.csv(\"Outcome_Label.csv\")\n",
    "#Subset data (desired survey year coded as '4')\n",
    "MainTable <- MainTable[ which(MainTable$SDDSRVYR=='4'),]\n",
    "MainTable_Main<- MainTable[ which(MainTable$RIDAGEYR >= 18),]\n",
    "\n",
    "#Select disease outcome variables\n",
    "MainTable_Health <- subset(MainTable_Main, select = c(\"SEQN\", \"SDMVPSU\", \"SDMVSTRA\", \"WTMEC2YR\", \n",
    "\"RIDAGEYR\",\"BMXBMI\", \"black\", \"mexican\", \"other_hispanic\", \"other_eth\", \"SMQ040\", \"male\", \n",
    "\"female\", \"any_diabetes\", \"any_ht\", \"cad\", \"bladder_cancer_self_report\", \"blood_cancer_self_report\", \n",
    "\"bone_cancer_self_report\", \"brain_cancer_self_report\", \"breast_cancer_self_report\", \n",
    "\"cervix_cacner_self_report\", \"colon_cancer_self_report\", \"esophagus_cancer_self_report\", \n",
    "\"gallbladder_cancer_self_report\", \"kidney_cancer_self_report\", \"larynx_cancer_self_report\", \n",
    "\"leukemia_self_report\", \"liver_cancer_self_report\", \"lung_cancer_self_report\", \"lymphoma_self_report\", \n",
    "\"melanoma_self_report\", \"mouth_cancer_self_report\", \"nervous_cancer_self_report\", \n",
    "\"ovarian_cancer_self_report\", \"pancreatic_cancer_self_report\", \"prostate_cancer_self_report\", \n",
    "\"rectum_cancer_self_report\", \"skin_cancer_self_report\", \"other_skin_cancer_self_report\", \n",
    "\"soft_cancer_self_report\", \"stomach_cancer_self_report\", \"testis_cancer_self_report\", \n",
    "\"thyroid_cancer_self_report\", \"uterine_cancer_self_report\", \"other_cancer_self_report\", \n",
    "\"any_cancer_self_report\", \"any_family_cad\", \"current_asthma\", \"ever_asthma\", \"ever_arthritis\", \n",
    "\"ever_rheumatoid_arthritis\", \"ever_osteo_arthritis\", \"LBXHBC\", \"LBDHCV\", \"LBDHD\", \"LBXHA\", \"LBDHI\"))\n",
    "\n",
    "#Selecting biomarker variables\n",
    "Biomarkers_Threshold <- subset(MainTable_Main, select =c(\"LBXTC\", \"LBDLDL\", \"LBXTR\", \"LBXGH\", \"LBXGLU\", \n",
    "\"LBXVIA\", \"LBXVIC\", \"LBXVID\", \"LBXVIE\",  \"LBXB12\", \"LBXFOL\", \"LBXRBF\", \"LBXFER\", \"LBXHCY\"))\n",
    "\n",
    "#Dichotomize biomarker variables based on cited clinical values\n",
    "#Total cholesterol - Case <= 200\n",
    "Biomarkers_Threshold$LBXTC_TH <- ifelse(Biomarkers_Threshold$LBXTC <= 200, 1, 0)\n",
    "#LDL -  case < 100\n",
    "Biomarkers_Threshold$LBDLDL_TH <- ifelse(Biomarkers_Threshold$LBDLDL <= 100, 1, 0)\n",
    "#Triglycerides - case >= 150 \n",
    "Biomarkers_Threshold$LBXTR_TH <- ifelse(Biomarkers_Threshold$LBXTR <= 150, 1, 0)\n",
    "#Glycohemoglobin - case <= 5.7 \n",
    "Biomarkers_Threshold$LBXGH_TH <- ifelse(Biomarkers_Threshold$LBXGH <= 5.7, 1, 0)\n",
    "#Fasting Glucose -case <= 100\n",
    "Biomarkers_Threshold$LBXGLU_TH <- ifelse(Biomarkers_Threshold$LBXGLU <= 100, 1, 0)\n",
    "#Vitamin A - case >= 20 \n",
    "Biomarkers_Threshold$LBXVIA_TH <- ifelse(Biomarkers_Threshold$LBXVIA >= 20, 1, 0)\n",
    "#vitamin C - case >= 11.4\n",
    "Biomarkers_Threshold$LBXVIC_TH <- ifelse(Biomarkers_Threshold$LBXVIC >= 11.4, 1, 0)\n",
    "#vitamin D - case >= 20\n",
    "Biomarkers_Threshold$LBXVID_TH <- ifelse(Biomarkers_Threshold$LBXVID >= 20, 1, 0)\n",
    "#vitamin E - case >= 500\n",
    "Biomarkers_Threshold$LBXVIE_TH <- ifelse(Biomarkers_Threshold$LBXVIE >= 500, 1, 0)\n",
    "#vitamin B12 - case  >= 200\n",
    "Biomarkers_Threshold$LBXB12_TH <- ifelse(Biomarkers_Threshold$LBXB12 >= 200, 1, 0)\n",
    "#serum folate - case >= 2\n",
    "Biomarkers_Threshold$LBXFOL_TH <- ifelse(Biomarkers_Threshold$LBXFOL >= 2, 1, 0)\n",
    "#RBC FOLATE\n",
    "Biomarkers_Threshold$LBXRBF_TH <- ifelse(Biomarkers_Threshold$LBXRBF >= 95, 1, 0)\n",
    "#ferritin\n",
    "Biomarkers_Threshold$LBXFER_TH <- ifelse(Biomarkers_Threshold$LBXFER >= 15, 1, 0)\n",
    "#plasma homocysteine\n",
    "Biomarkers_Threshold$LBXHCY_TH <- ifelse(Biomarkers_Threshold$LBXHCY <= 13, 1, 0)\n",
    "\n",
    "#Subset with only dichotomized values\n",
    "Biomarkers_Threshold <- subset(Biomarkers_Threshold, select =c(\"LBXTC_TH\", \n",
    "\"LBDLDL_TH\", \"LBXTR_TH\", \"LBXGH_TH\", \"LBXGLU_TH\", \"LBXVIA_TH\", \"LBXVIC_TH\", \n",
    "\"LBXVID_TH\", \"LBXVIE_TH\",  \"LBXB12_TH\", \"LBXFOL_TH\", \"LBXRBF_TH\", \"LBXFER_TH\", \"LBXHCY_TH\"))\n",
    "\n",
    "#Merge biomarker variables with other disease variables\n",
    "Health_Biomarkers <- cbind(MainTable_Health, Biomarkers_Threshold)\n",
    "\n",
    "#phenotypes to include in PheWAS\n",
    "phenotypesheath_biomarkers <- c(\"any_diabetes\", \"any_ht\", \"cad\", \"bladder_cancer_self_report\", \n",
    "\"blood_cancer_self_report\", \"bone_cancer_self_report\", \"brain_cancer_self_report\", \n",
    "\"breast_cancer_self_report\", \"cervix_cacner_self_report\", \"colon_cancer_self_report\", \n",
    "\"esophagus_cancer_self_report\", \"gallbladder_cancer_self_report\", \"kidney_cancer_self_report\", \n",
    "\"larynx_cancer_self_report\", \"leukemia_self_report\", \"liver_cancer_self_report\", \n",
    "\"lung_cancer_self_report\", \"lymphoma_self_report\", \"melanoma_self_report\", \n",
    "\"mouth_cancer_self_report\", \"nervous_cancer_self_report\", \"ovarian_cancer_self_report\", \n",
    "\"pancreatic_cancer_self_report\", \"prostate_cancer_self_report\", \"rectum_cancer_self_report\", \n",
    "\"skin_cancer_self_report\", \"other_skin_cancer_self_report\", \"soft_cancer_self_report\", \n",
    "\"stomach_cancer_self_report\", \"testis_cancer_self_report\", \"thyroid_cancer_self_report\", \n",
    "\"uterine_cancer_self_report\", \"other_cancer_self_report\", \"any_cancer_self_report\", \n",
    "\"any_family_cad\", \"current_asthma\", \"ever_asthma\", \"ever_arthritis\", \"ever_rheumatoid_arthritis\", \n",
    "\"ever_osteo_arthritis\", \"LBXHBC\", \"LBDHCV\", \"LBDHD\", \"LBXHA\", \"LBDHI\", \"LBXTC_TH\", \"LBDLDL_TH\", \n",
    "\"LBXTR_TH\", \"LBXGH_TH\", \"LBXGLU_TH\", \"LBXVIA_TH\", \"LBXVIC_TH\", \"LBXVID_TH\", \"LBXVIE_TH\",  \n",
    "\"LBXB12_TH\", \"LBXFOL_TH\", \"LBXRBF_TH\", \"LBXFER_TH\", \"LBXHCY_TH\")"
   ]
  },
  {
   "cell_type": "markdown",
   "metadata": {},
   "source": [
    "Now we use the hei R library to derive healthy eating index scores for individuals in subset of data"
   ]
  },
  {
   "cell_type": "code",
   "execution_count": 9,
   "metadata": {},
   "outputs": [
    {
     "name": "stdout",
     "output_type": "stream",
     "text": [
      "Processing SAS dataset DEMO_D \t ..\n",
      "Processing SAS dataset DR1TOT_D \t ..\n",
      "Processing SAS dataset DR2TOT_D \t ..\n"
     ]
    }
   ],
   "source": [
    "demo0506 <- get_demo(\"2005/2006\")             #demographic variables for 2005/2006 survey\n",
    "diet0506 <- get_diet(\"2005/2006\", \"both\")     #get dietary variablesfor 2005/2006 survey\n",
    "fped0506 <- get_fped(\"2005/2006\", \"both\")     #get nutrient equivalent for 2005/2006 survey\n",
    "hei0506 <- hei(fped0506, diet0506, demo0506)  #get HEI scores for NHANES\n",
    "hei0506 <- subset(hei0506, select = c(SEQN,HEI))   #subset so we have SEQN and HEI variables only\n",
    "hei0506 <- hei0506 %>% mutate(quintile=ntile(HEI,5))  #make quintile column to derive quintiles of HEI"
   ]
  },
  {
   "cell_type": "markdown",
   "metadata": {},
   "source": [
    "Setting dataframe, cut, case, control and phenotype variables values - Can edit code if different dataframes, cuts or case control values desired to alternative analyses"
   ]
  },
  {
   "cell_type": "code",
   "execution_count": 10,
   "metadata": {},
   "outputs": [],
   "source": [
    "dataframe <- Health_Biomarkers\n",
    "cut <- \"quintile\"\n",
    "case <- 5   #cases are those in the top quintile of HEI\n",
    "control <- 1  #controls are those in the bottom quintile of HEI\n",
    "phenotypes <- phenotypesheath_biomarkers"
   ]
  },
  {
   "cell_type": "markdown",
   "metadata": {},
   "source": [
    "Merging quintile values to working data frame"
   ]
  },
  {
   "cell_type": "code",
   "execution_count": 11,
   "metadata": {},
   "outputs": [],
   "source": [
    "hei0506_subset <- subset(hei0506, select = c(\"SEQN\", cut))   #subset with cut (quintile) and SEQN\n",
    "hei0506_subset$SEQN <- as.character( hei0506_subset$SEQN )    #change both 'SEQN' columns to characters for merging\n",
    "dataframe$SEQN <- as.character( dataframe$SEQN )\n",
    "hei0506_merged <- merge(dataframe, hei0506_subset, by=\"SEQN\")     #merging the quintile values to main dataframe"
   ]
  },
  {
   "cell_type": "markdown",
   "metadata": {},
   "source": [
    "Selecting cases and controls so that our subset consists of those in the top & bottom quintiles of the healthy eating index"
   ]
  },
  {
   "cell_type": "code",
   "execution_count": 12,
   "metadata": {},
   "outputs": [],
   "source": [
    "#selecting cases & control\n",
    "hei0506_merged_cut <- hei0506_merged[hei0506_merged[,cut] %in% c(case, control),]   \n",
    "#subsetting so we just have SEQN+cut \n",
    "hei0506_casecontrol <- subset(hei0506_merged_cut, select=c(\"SEQN\", cut))\n",
    "#Converting case control to binary (if case)\n",
    "hei0506_casecontrol[cut] <- ifelse(hei0506_casecontrol[cut]==case, 1, 0) \n",
    "#Merge phenotypes w/ binary \n",
    "hei0506_final <- inner_join(hei0506_merged, hei0506_casecontrol, by = \"SEQN\")  \n",
    "\n",
    "#Changing names of columns. 'casevalue' contains 1s and 0s while 'casecontrol contains 5s and 1s\n",
    "colNumber <- length(hei0506_final) - 1\n",
    "colnames(hei0506_final)[colNumber] <- \"casecontrol\"\n",
    "colNumber <- length(hei0506_final)\n",
    "colnames(hei0506_final)[colNumber] <- \"casevalue\""
   ]
  },
  {
   "cell_type": "markdown",
   "metadata": {},
   "source": [
    "Using svy package, setting survey design\n",
    "\n",
    "\n",
    "\n"
   ]
  },
  {
   "cell_type": "code",
   "execution_count": 13,
   "metadata": {},
   "outputs": [],
   "source": [
    "dsn <- svydesign(ids=~SDMVPSU, strata=~SDMVSTRA, weights=~WTMEC2YR, nest=T, \n",
    "                 data=hei0506_final, variables = NULL)"
   ]
  },
  {
   "cell_type": "markdown",
   "metadata": {},
   "source": [
    "Create empty dataframe that we will use for loop to populate with results"
   ]
  },
  {
   "cell_type": "code",
   "execution_count": 14,
   "metadata": {},
   "outputs": [],
   "source": [
    "hei0506_result <- as.data.frame(matrix(ncol =8))"
   ]
  },
  {
   "cell_type": "markdown",
   "metadata": {},
   "source": [
    "For loop to run logistic regressions on all disease outcomes"
   ]
  },
  {
   "cell_type": "code",
   "execution_count": 15,
   "metadata": {},
   "outputs": [
    {
     "name": "stdout",
     "output_type": "stream",
     "text": [
      "[1] 12\n"
     ]
    },
    {
     "name": "stderr",
     "output_type": "stream",
     "text": [
      "Warning message in eval(family$initialize):\n",
      "“non-integer #successes in a binomial glm!”Warning message:\n",
      "“glm.fit: algorithm did not converge”"
     ]
    },
    {
     "name": "stdout",
     "output_type": "stream",
     "text": [
      "[1] 13\n"
     ]
    },
    {
     "name": "stderr",
     "output_type": "stream",
     "text": [
      "Warning message in model.matrix.default(mt, mf, contrasts):\n",
      "“the response appeared on the right-hand side and was dropped”Warning message in model.matrix.default(mt, mf, contrasts):\n",
      "“problem with term 2 in model.matrix: no columns are assigned”Warning message in eval(family$initialize):\n",
      "“non-integer #successes in a binomial glm!”Warning message in model.matrix.default(glm.object, data = structure(list(female = c(0, :\n",
      "“the response appeared on the right-hand side and was dropped”Warning message in model.matrix.default(glm.object, data = structure(list(female = c(0, :\n",
      "“problem with term 2 in model.matrix: no columns are assigned”"
     ]
    },
    {
     "name": "stdout",
     "output_type": "stream",
     "text": [
      "[1] 14\n"
     ]
    },
    {
     "name": "stderr",
     "output_type": "stream",
     "text": [
      "Warning message in eval(family$initialize):\n",
      "“non-integer #successes in a binomial glm!”"
     ]
    },
    {
     "name": "stdout",
     "output_type": "stream",
     "text": [
      "[1] 15\n"
     ]
    },
    {
     "name": "stderr",
     "output_type": "stream",
     "text": [
      "Warning message in eval(family$initialize):\n",
      "“non-integer #successes in a binomial glm!”"
     ]
    },
    {
     "name": "stdout",
     "output_type": "stream",
     "text": [
      "[1] 16\n"
     ]
    },
    {
     "name": "stderr",
     "output_type": "stream",
     "text": [
      "Warning message in eval(family$initialize):\n",
      "“non-integer #successes in a binomial glm!”"
     ]
    },
    {
     "name": "stdout",
     "output_type": "stream",
     "text": [
      "[1] 17\n"
     ]
    },
    {
     "name": "stderr",
     "output_type": "stream",
     "text": [
      "Warning message in eval(family$initialize):\n",
      "“non-integer #successes in a binomial glm!”Warning message:\n",
      "“glm.fit: fitted probabilities numerically 0 or 1 occurred”"
     ]
    },
    {
     "name": "stdout",
     "output_type": "stream",
     "text": [
      "[1] 18\n"
     ]
    },
    {
     "name": "stderr",
     "output_type": "stream",
     "text": [
      "Warning message in eval(family$initialize):\n",
      "“non-integer #successes in a binomial glm!”Warning message:\n",
      "“glm.fit: fitted probabilities numerically 0 or 1 occurred”"
     ]
    },
    {
     "name": "stdout",
     "output_type": "stream",
     "text": [
      "[1] 19\n"
     ]
    },
    {
     "name": "stderr",
     "output_type": "stream",
     "text": [
      "Warning message:\n",
      "“glm.fit: algorithm did not converge”"
     ]
    },
    {
     "name": "stdout",
     "output_type": "stream",
     "text": [
      "[1] 20\n"
     ]
    },
    {
     "name": "stderr",
     "output_type": "stream",
     "text": [
      "Warning message:\n",
      "“glm.fit: algorithm did not converge”"
     ]
    },
    {
     "name": "stdout",
     "output_type": "stream",
     "text": [
      "[1] 21\n"
     ]
    },
    {
     "name": "stderr",
     "output_type": "stream",
     "text": [
      "Warning message in eval(family$initialize):\n",
      "“non-integer #successes in a binomial glm!”Warning message:\n",
      "“glm.fit: fitted probabilities numerically 0 or 1 occurred”"
     ]
    },
    {
     "name": "stdout",
     "output_type": "stream",
     "text": [
      "[1] 22\n"
     ]
    },
    {
     "name": "stderr",
     "output_type": "stream",
     "text": [
      "Warning message in eval(family$initialize):\n",
      "“non-integer #successes in a binomial glm!”Warning message:\n",
      "“glm.fit: fitted probabilities numerically 0 or 1 occurred”"
     ]
    },
    {
     "name": "stdout",
     "output_type": "stream",
     "text": [
      "[1] 23\n"
     ]
    },
    {
     "name": "stderr",
     "output_type": "stream",
     "text": [
      "Warning message in eval(family$initialize):\n",
      "“non-integer #successes in a binomial glm!”"
     ]
    },
    {
     "name": "stdout",
     "output_type": "stream",
     "text": [
      "[1] 24\n"
     ]
    },
    {
     "name": "stderr",
     "output_type": "stream",
     "text": [
      "Warning message:\n",
      "“glm.fit: algorithm did not converge”"
     ]
    },
    {
     "name": "stdout",
     "output_type": "stream",
     "text": [
      "[1] 25\n"
     ]
    },
    {
     "name": "stderr",
     "output_type": "stream",
     "text": [
      "Warning message:\n",
      "“glm.fit: algorithm did not converge”"
     ]
    },
    {
     "name": "stdout",
     "output_type": "stream",
     "text": [
      "[1] 26\n"
     ]
    },
    {
     "name": "stderr",
     "output_type": "stream",
     "text": [
      "Warning message in eval(family$initialize):\n",
      "“non-integer #successes in a binomial glm!”Warning message:\n",
      "“glm.fit: fitted probabilities numerically 0 or 1 occurred”"
     ]
    },
    {
     "name": "stdout",
     "output_type": "stream",
     "text": [
      "[1] 27\n"
     ]
    },
    {
     "name": "stderr",
     "output_type": "stream",
     "text": [
      "Warning message in eval(family$initialize):\n",
      "“non-integer #successes in a binomial glm!”Warning message:\n",
      "“glm.fit: algorithm did not converge”Warning message:\n",
      "“glm.fit: fitted probabilities numerically 0 or 1 occurred”"
     ]
    },
    {
     "name": "stdout",
     "output_type": "stream",
     "text": [
      "[1] 28\n"
     ]
    },
    {
     "name": "stderr",
     "output_type": "stream",
     "text": [
      "Warning message:\n",
      "“glm.fit: algorithm did not converge”"
     ]
    },
    {
     "name": "stdout",
     "output_type": "stream",
     "text": [
      "[1] 29\n"
     ]
    },
    {
     "name": "stderr",
     "output_type": "stream",
     "text": [
      "Warning message:\n",
      "“glm.fit: algorithm did not converge”"
     ]
    },
    {
     "name": "stdout",
     "output_type": "stream",
     "text": [
      "[1] 30\n"
     ]
    },
    {
     "name": "stderr",
     "output_type": "stream",
     "text": [
      "Warning message in eval(family$initialize):\n",
      "“non-integer #successes in a binomial glm!”Warning message:\n",
      "“glm.fit: fitted probabilities numerically 0 or 1 occurred”"
     ]
    },
    {
     "name": "stdout",
     "output_type": "stream",
     "text": [
      "[1] 31\n"
     ]
    },
    {
     "name": "stderr",
     "output_type": "stream",
     "text": [
      "Warning message in eval(family$initialize):\n",
      "“non-integer #successes in a binomial glm!”Warning message:\n",
      "“glm.fit: fitted probabilities numerically 0 or 1 occurred”"
     ]
    },
    {
     "name": "stdout",
     "output_type": "stream",
     "text": [
      "[1] 32\n"
     ]
    },
    {
     "name": "stderr",
     "output_type": "stream",
     "text": [
      "Warning message in eval(family$initialize):\n",
      "“non-integer #successes in a binomial glm!”"
     ]
    },
    {
     "name": "stdout",
     "output_type": "stream",
     "text": [
      "[1] 33\n"
     ]
    },
    {
     "name": "stderr",
     "output_type": "stream",
     "text": [
      "Warning message in eval(family$initialize):\n",
      "“non-integer #successes in a binomial glm!”Warning message:\n",
      "“glm.fit: fitted probabilities numerically 0 or 1 occurred”"
     ]
    },
    {
     "name": "stdout",
     "output_type": "stream",
     "text": [
      "[1] 34\n"
     ]
    },
    {
     "name": "stderr",
     "output_type": "stream",
     "text": [
      "Warning message:\n",
      "“glm.fit: algorithm did not converge”"
     ]
    },
    {
     "name": "stdout",
     "output_type": "stream",
     "text": [
      "[1] 35\n"
     ]
    },
    {
     "name": "stderr",
     "output_type": "stream",
     "text": [
      "Warning message:\n",
      "“glm.fit: algorithm did not converge”"
     ]
    },
    {
     "name": "stdout",
     "output_type": "stream",
     "text": [
      "[1] 36\n"
     ]
    },
    {
     "name": "stderr",
     "output_type": "stream",
     "text": [
      "Warning message:\n",
      "“glm.fit: algorithm did not converge”"
     ]
    },
    {
     "name": "stdout",
     "output_type": "stream",
     "text": [
      "[1] 37\n"
     ]
    },
    {
     "name": "stderr",
     "output_type": "stream",
     "text": [
      "Warning message in eval(family$initialize):\n",
      "“non-integer #successes in a binomial glm!”Warning message:\n",
      "“glm.fit: fitted probabilities numerically 0 or 1 occurred”"
     ]
    },
    {
     "name": "stdout",
     "output_type": "stream",
     "text": [
      "[1] 38\n"
     ]
    },
    {
     "name": "stderr",
     "output_type": "stream",
     "text": [
      "Warning message in eval(family$initialize):\n",
      "“non-integer #successes in a binomial glm!”Warning message:\n",
      "“glm.fit: fitted probabilities numerically 0 or 1 occurred”"
     ]
    },
    {
     "name": "stdout",
     "output_type": "stream",
     "text": [
      "[1] 39\n"
     ]
    },
    {
     "name": "stderr",
     "output_type": "stream",
     "text": [
      "Warning message in eval(family$initialize):\n",
      "“non-integer #successes in a binomial glm!”"
     ]
    },
    {
     "name": "stdout",
     "output_type": "stream",
     "text": [
      "[1] 40\n"
     ]
    },
    {
     "name": "stderr",
     "output_type": "stream",
     "text": [
      "Warning message in eval(family$initialize):\n",
      "“non-integer #successes in a binomial glm!”"
     ]
    },
    {
     "name": "stdout",
     "output_type": "stream",
     "text": [
      "[1] 41\n"
     ]
    },
    {
     "name": "stderr",
     "output_type": "stream",
     "text": [
      "Warning message:\n",
      "“glm.fit: algorithm did not converge”"
     ]
    },
    {
     "name": "stdout",
     "output_type": "stream",
     "text": [
      "[1] 42\n"
     ]
    },
    {
     "name": "stderr",
     "output_type": "stream",
     "text": [
      "Warning message in eval(family$initialize):\n",
      "“non-integer #successes in a binomial glm!”Warning message:\n",
      "“glm.fit: fitted probabilities numerically 0 or 1 occurred”"
     ]
    },
    {
     "name": "stdout",
     "output_type": "stream",
     "text": [
      "[1] 43\n"
     ]
    },
    {
     "name": "stderr",
     "output_type": "stream",
     "text": [
      "Warning message in eval(family$initialize):\n",
      "“non-integer #successes in a binomial glm!”Warning message:\n",
      "“glm.fit: fitted probabilities numerically 0 or 1 occurred”"
     ]
    },
    {
     "name": "stdout",
     "output_type": "stream",
     "text": [
      "[1] 44\n"
     ]
    },
    {
     "name": "stderr",
     "output_type": "stream",
     "text": [
      "Warning message:\n",
      "“glm.fit: algorithm did not converge”"
     ]
    },
    {
     "name": "stdout",
     "output_type": "stream",
     "text": [
      "[1] 45\n"
     ]
    },
    {
     "name": "stderr",
     "output_type": "stream",
     "text": [
      "Warning message in eval(family$initialize):\n",
      "“non-integer #successes in a binomial glm!”Warning message:\n",
      "“glm.fit: fitted probabilities numerically 0 or 1 occurred”"
     ]
    },
    {
     "name": "stdout",
     "output_type": "stream",
     "text": [
      "[1] 46\n"
     ]
    },
    {
     "name": "stderr",
     "output_type": "stream",
     "text": [
      "Warning message in eval(family$initialize):\n",
      "“non-integer #successes in a binomial glm!”"
     ]
    },
    {
     "name": "stdout",
     "output_type": "stream",
     "text": [
      "[1] 47\n"
     ]
    },
    {
     "name": "stderr",
     "output_type": "stream",
     "text": [
      "Warning message in eval(family$initialize):\n",
      "“non-integer #successes in a binomial glm!”"
     ]
    },
    {
     "name": "stdout",
     "output_type": "stream",
     "text": [
      "[1] 48\n"
     ]
    },
    {
     "name": "stderr",
     "output_type": "stream",
     "text": [
      "Warning message in eval(family$initialize):\n",
      "“non-integer #successes in a binomial glm!”"
     ]
    },
    {
     "name": "stdout",
     "output_type": "stream",
     "text": [
      "[1] 49\n"
     ]
    },
    {
     "name": "stderr",
     "output_type": "stream",
     "text": [
      "Warning message in eval(family$initialize):\n",
      "“non-integer #successes in a binomial glm!”"
     ]
    },
    {
     "name": "stdout",
     "output_type": "stream",
     "text": [
      "[1] 50\n"
     ]
    },
    {
     "name": "stderr",
     "output_type": "stream",
     "text": [
      "Warning message in eval(family$initialize):\n",
      "“non-integer #successes in a binomial glm!”"
     ]
    },
    {
     "name": "stdout",
     "output_type": "stream",
     "text": [
      "[1] 51\n"
     ]
    },
    {
     "name": "stderr",
     "output_type": "stream",
     "text": [
      "Warning message in eval(family$initialize):\n",
      "“non-integer #successes in a binomial glm!”"
     ]
    },
    {
     "name": "stdout",
     "output_type": "stream",
     "text": [
      "[1] 52\n"
     ]
    },
    {
     "name": "stderr",
     "output_type": "stream",
     "text": [
      "Warning message in eval(family$initialize):\n",
      "“non-integer #successes in a binomial glm!”"
     ]
    },
    {
     "name": "stdout",
     "output_type": "stream",
     "text": [
      "[1] 53\n"
     ]
    },
    {
     "name": "stderr",
     "output_type": "stream",
     "text": [
      "Warning message in eval(family$initialize):\n",
      "“non-integer #successes in a binomial glm!”"
     ]
    },
    {
     "name": "stdout",
     "output_type": "stream",
     "text": [
      "[1] 54\n"
     ]
    },
    {
     "name": "stderr",
     "output_type": "stream",
     "text": [
      "Warning message in eval(family$initialize):\n",
      "“non-integer #successes in a binomial glm!”"
     ]
    },
    {
     "name": "stdout",
     "output_type": "stream",
     "text": [
      "[1] 55\n"
     ]
    },
    {
     "name": "stderr",
     "output_type": "stream",
     "text": [
      "Warning message in eval(family$initialize):\n",
      "“non-integer #successes in a binomial glm!”"
     ]
    },
    {
     "name": "stdout",
     "output_type": "stream",
     "text": [
      "[1] 56\n"
     ]
    },
    {
     "name": "stderr",
     "output_type": "stream",
     "text": [
      "Warning message:\n",
      "“glm.fit: algorithm did not converge”"
     ]
    },
    {
     "name": "stdout",
     "output_type": "stream",
     "text": [
      "[1] 57\n"
     ]
    },
    {
     "name": "stderr",
     "output_type": "stream",
     "text": [
      "Warning message in eval(family$initialize):\n",
      "“non-integer #successes in a binomial glm!”"
     ]
    },
    {
     "name": "stdout",
     "output_type": "stream",
     "text": [
      "[1] 58\n"
     ]
    },
    {
     "name": "stderr",
     "output_type": "stream",
     "text": [
      "Warning message in eval(family$initialize):\n",
      "“non-integer #successes in a binomial glm!”"
     ]
    },
    {
     "name": "stdout",
     "output_type": "stream",
     "text": [
      "[1] 59\n"
     ]
    },
    {
     "name": "stderr",
     "output_type": "stream",
     "text": [
      "Warning message in eval(family$initialize):\n",
      "“non-integer #successes in a binomial glm!”"
     ]
    },
    {
     "name": "stdout",
     "output_type": "stream",
     "text": [
      "[1] 60\n"
     ]
    },
    {
     "name": "stderr",
     "output_type": "stream",
     "text": [
      "Warning message in eval(family$initialize):\n",
      "“non-integer #successes in a binomial glm!”"
     ]
    },
    {
     "name": "stdout",
     "output_type": "stream",
     "text": [
      "[1] 61\n"
     ]
    },
    {
     "name": "stderr",
     "output_type": "stream",
     "text": [
      "Warning message in eval(family$initialize):\n",
      "“non-integer #successes in a binomial glm!”"
     ]
    },
    {
     "name": "stdout",
     "output_type": "stream",
     "text": [
      "[1] 62\n"
     ]
    },
    {
     "name": "stderr",
     "output_type": "stream",
     "text": [
      "Warning message in eval(family$initialize):\n",
      "“non-integer #successes in a binomial glm!”"
     ]
    },
    {
     "name": "stdout",
     "output_type": "stream",
     "text": [
      "[1] 63\n"
     ]
    },
    {
     "name": "stderr",
     "output_type": "stream",
     "text": [
      "Warning message in eval(family$initialize):\n",
      "“non-integer #successes in a binomial glm!”"
     ]
    },
    {
     "name": "stdout",
     "output_type": "stream",
     "text": [
      "[1] 64\n"
     ]
    },
    {
     "name": "stderr",
     "output_type": "stream",
     "text": [
      "Warning message in eval(family$initialize):\n",
      "“non-integer #successes in a binomial glm!”Warning message:\n",
      "“glm.fit: fitted probabilities numerically 0 or 1 occurred”"
     ]
    },
    {
     "name": "stdout",
     "output_type": "stream",
     "text": [
      "[1] 65\n"
     ]
    },
    {
     "name": "stderr",
     "output_type": "stream",
     "text": [
      "Warning message:\n",
      "“glm.fit: algorithm did not converge”"
     ]
    },
    {
     "name": "stdout",
     "output_type": "stream",
     "text": [
      "[1] 66\n"
     ]
    },
    {
     "name": "stderr",
     "output_type": "stream",
     "text": [
      "Warning message in eval(family$initialize):\n",
      "“non-integer #successes in a binomial glm!”"
     ]
    },
    {
     "name": "stdout",
     "output_type": "stream",
     "text": [
      "[1] 67\n"
     ]
    },
    {
     "name": "stderr",
     "output_type": "stream",
     "text": [
      "Warning message in eval(family$initialize):\n",
      "“non-integer #successes in a binomial glm!”Warning message:\n",
      "“glm.fit: fitted probabilities numerically 0 or 1 occurred”"
     ]
    },
    {
     "name": "stdout",
     "output_type": "stream",
     "text": [
      "[1] 68\n"
     ]
    },
    {
     "name": "stderr",
     "output_type": "stream",
     "text": [
      "Warning message in eval(family$initialize):\n",
      "“non-integer #successes in a binomial glm!”"
     ]
    },
    {
     "name": "stdout",
     "output_type": "stream",
     "text": [
      "[1] 69\n"
     ]
    },
    {
     "name": "stderr",
     "output_type": "stream",
     "text": [
      "Warning message in eval(family$initialize):\n",
      "“non-integer #successes in a binomial glm!”Warning message:\n",
      "“glm.fit: algorithm did not converge”"
     ]
    },
    {
     "name": "stdout",
     "output_type": "stream",
     "text": [
      "[1] 70\n"
     ]
    },
    {
     "name": "stderr",
     "output_type": "stream",
     "text": [
      "Warning message in eval(family$initialize):\n",
      "“non-integer #successes in a binomial glm!”Warning message:\n",
      "“glm.fit: fitted probabilities numerically 0 or 1 occurred”"
     ]
    },
    {
     "name": "stdout",
     "output_type": "stream",
     "text": [
      "[1] 71\n"
     ]
    },
    {
     "name": "stderr",
     "output_type": "stream",
     "text": [
      "Warning message in eval(family$initialize):\n",
      "“non-integer #successes in a binomial glm!”"
     ]
    },
    {
     "name": "stdout",
     "output_type": "stream",
     "text": [
      "[1] 72\n"
     ]
    },
    {
     "name": "stderr",
     "output_type": "stream",
     "text": [
      "Warning message in eval(family$initialize):\n",
      "“non-integer #successes in a binomial glm!”"
     ]
    }
   ],
   "source": [
    "for(i in 14:ncol(hei0506_final)-2){      #disease variables start at column 14 \n",
    "  print( i )\n",
    "  #glm using survey-weighted glm\n",
    "  myglm <- svyglm(as.formula(paste0(names(hei0506_final)[i], \"~ casevalue + \n",
    "                                                              female + \n",
    "                                                              black + \n",
    "                                                              mexican + \n",
    "                                                              other_hispanic + \n",
    "                                                              other_eth + \n",
    "                                                              BMXBMI+SMQ040 + \n",
    "                                                              RIDAGEYR + \n",
    "                                                              RIDAGEYR^2\")),\n",
    "                  design = dsn,\n",
    "                  family = binomial(),\n",
    "                  na.action = na.omit)\n",
    "  \n",
    "  #confidence interval\n",
    "  ci <- exp(summary(myglm)$coefficients[\"casevalue\",1]+qnorm(c(0.025, 0.975)) * summary(myglm)$coefficients[\"casevalue\",2])\n",
    "  \n",
    "  \n",
    "  excludedPatients <- sum(is.na(hei0506_final[, i ]))\n",
    "  casecontrol <-  hei0506_final[, c(names(hei0506_final)[i], \"SEQN\", \"casevalue\")]\n",
    "  casecontrol <- na.omit( casecontrol )\n",
    "  heihighpositive <- length(unique(casecontrol[casecontrol[,1]== 1 & casecontrol$casevalue== 1, \"SEQN\"]))\n",
    "  heihighnegative <- length(unique(casecontrol[casecontrol[,1]== 0 & casecontrol$casevalue== 1, \"SEQN\"]))\n",
    "  heilowpositive <- length(unique(casecontrol[casecontrol[,1]== 1 & casecontrol$casevalue== 0, \"SEQN\"]))\n",
    "  heilownegative <- length(unique(casecontrol[casecontrol[,1]== 0 & casecontrol$casevalue== 0, \"SEQN\"]))\n",
    "  \n",
    "  #New row contains all results for a logistic each logistic regression\n",
    "  newRow <- c (names(hei0506_final)[i], summary(myglm)$coefficients[2], exp(summary(myglm)$coefficients[2]), paste0(\"(\", round(ci[1][1],3), \",\", round(ci[2][1],3), \")\"),\n",
    "               summary(myglm)$coefficients[2,4], paste0(heihighpositive+heilowpositive,\"(\",heihighpositive,\"/\",heilowpositive,\")\"), paste0(heihighnegative+heilownegative,\"(\",heihighnegative,\"/\",heilownegative,\")\"), excludedPatients\n",
    "  )\n",
    "  #merge new row to result dataframe\n",
    "  hei0506_result <- rbind( newRow, hei0506_result ) \n",
    "}"
   ]
  },
  {
   "cell_type": "markdown",
   "metadata": {},
   "source": [
    "Changing columns names, and adding columns "
   ]
  },
  {
   "cell_type": "code",
   "execution_count": 16,
   "metadata": {},
   "outputs": [],
   "source": [
    "#Change column names of results table\n",
    "colnames( hei0506_result) <- c(\"Outcome\", \"Coefficient\", \"OR\", \n",
    "                               \"CI\", \"P-value\", \"Outcome_Present\", \"Outcome_Negative\", \"NA_Patient\")\n",
    "\n",
    "#add columns for fdr and bonferroni adjusted p-values\n",
    "hei0506_result$padjustFdr <- p.adjust( as.numeric( hei0506_result$`P-value`), method = \"fdr\")\n",
    "hei0506_result$padjustBonferroni <- p.adjust( as.numeric( hei0506_result$`P-value`), method = \"bonferroni\")\n",
    "\n",
    "#add columns for log transformed adjusted p-values\n",
    "hei0506_result$logfdr <- -log( as.numeric(hei0506_result$padjustFdr))\n",
    "hei0506_result$logbonf <- -log( as.numeric(hei0506_result$padjustBonferroni))\n",
    "\n",
    "#Merge Outcome_Label csv to result dataframe\n",
    "hei0506_result <- merge(hei0506_result, Labels, by = \"Outcome\")\n",
    "\n",
    "#add column 'Association' for Odds Ratio > 1 or <=1 to use in Manhatten Plot\n",
    "hei0506_result$Association <- as.factor(ifelse(hei0506_result$OR > 1, \"OR > 1\", \"OR <= 1\"))"
   ]
  },
  {
   "cell_type": "markdown",
   "metadata": {},
   "source": [
    "Create Manhatten plot using ggplot"
   ]
  },
  {
   "cell_type": "code",
   "execution_count": 17,
   "metadata": {},
   "outputs": [
    {
     "data": {
      "image/png": "[encoded data removed]",
      "text/plain": [
       "plot without title"
      ]
     },
     "metadata": {},
     "output_type": "display_data"
    }
   ],
   "source": [
    "ggplot(hei0506_result, aes(Outcome, logbonf))+     #X values are the Outcome (disease) amd Y is log(p-value)\n",
    "  geom_point(aes(color = Association, fill = Association, shape = Association), size=3)+\n",
    "  scale_shape_manual(values=c(25, 24))+\n",
    "  scale_fill_manual(values=c(\"lightgray\",\"black\"))+\n",
    "  scale_color_manual(values = c(\"lightgray\", \"black\"))+\n",
    "  geom_text_repel(data = subset(hei0506_result, logbonf > -log(0.05/nrow(hei0506_result)) ),aes(label=Label))+\n",
    "  geom_hline(yintercept= (-log(0.05/nrow(hei0506_result))), linetype=\"dashed\", color = \"black\")+\n",
    "  labs(title =\"Disease & Biomarker Outcome Significance \\n Comparing Highest and Lowest Quintiles of Healthy Eating Index\",\n",
    "       subtitle = bquote(\"Adjusted for age,\"~ age^2~\", sex, ethnicity, BMI, and smoking\"),\n",
    "       caption = \"Bonferroni adjusted p-values\")+\n",
    "  ylab(\"-log p-value\")+\n",
    "  xlab(\"Disease Outcomes\")+\n",
    "  #ggtitle(\"Disease & Biomarker Outcome Significance \\n Comparing Highest and Lowest Quintiles of Healthy Eating Index\")+\n",
    "  theme_bw()+\n",
    "  theme(axis.text.x = element_blank(), \n",
    "        panel.grid.major = element_blank(), \n",
    "        panel.grid.minor = element_blank(), \n",
    "        plot.subtitle = element_text(face = \"italic\", hjust = 0.5),\n",
    "        plot.caption = element_text(face = \"italic\", hjust = 1),\n",
    "        axis.title.x = element_text(family=\"Helvetica\", face = \"bold\", size = 12, vjust = -2),\n",
    "        axis.title.y = element_text(family=\"Helvetica\", face = \"bold\", size = 12),\n",
    "        plot.title=element_text(family = \"Helvetica\", face = \"bold\", size = 14, hjust=0.5))"
   ]
  }
 ],
 "metadata": {
  "kernelspec": {
   "display_name": "R",
   "language": "R",
   "name": "ir"
  },
  "language_info": {
   "codemirror_mode": "r",
   "file_extension": ".r",
   "mimetype": "text/x-r-source",
   "name": "R",
   "pygments_lexer": "r",
   "version": "3.5.0"
  }
 },
 "nbformat": 4,
 "nbformat_minor": 2
}
