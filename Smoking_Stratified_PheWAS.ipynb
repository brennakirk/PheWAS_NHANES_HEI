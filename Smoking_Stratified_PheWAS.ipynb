{
 "cells": [
  {
   "cell_type": "markdown",
   "metadata": {},
   "source": [
    "Smoking status stratification"
   ]
  },
  {
   "cell_type": "code",
   "execution_count": 19,
   "metadata": {},
   "outputs": [],
   "source": [
    "library(hei)\n",
    "library(ggplot2)\n",
    "library(dplyr)\n",
    "library(ggrepel)\n",
    "library(survey)"
   ]
  },
  {
   "cell_type": "markdown",
   "metadata": {},
   "source": [
    "Non smokers"
   ]
  },
  {
   "cell_type": "markdown",
   "metadata": {},
   "source": [
    "Import data and select disease variables"
   ]
  },
  {
   "cell_type": "code",
   "execution_count": 20,
   "metadata": {},
   "outputs": [],
   "source": [
    "nahnes9906 <- load(\"nh_99-06.Rdata\")\n",
    "Labels <- read.csv(\"Outcome_Label.csv\")\n",
    "\n",
    "MainTable <- MainTable[ which(MainTable$SDDSRVYR=='4'),]\n",
    "MainTableNonsmoke <- MainTable[ which(MainTable$RIDAGEYR >= 18 & MainTable$SMQ040==3),] \n",
    "\n",
    "MainTable_Health <- subset(MainTableNonsmoke, select = c(\"SEQN\",\"SDMVPSU\", \"SDMVSTRA\", \"WTMEC2YR\",\"RIDAGEYR\",\"BMXBMI\", \"black\", \"mexican\", \"other_hispanic\", \"other_eth\", \"SMQ040\", \"male\", \"female\", \"any_diabetes\", \"any_ht\", \"cad\", \"bladder_cancer_self_report\", \"blood_cancer_self_report\", \"bone_cancer_self_report\", \"brain_cancer_self_report\", \"colon_cancer_self_report\", \"esophagus_cancer_self_report\", \"gallbladder_cancer_self_report\", \"kidney_cancer_self_report\", \"larynx_cancer_self_report\", \"leukemia_self_report\", \"liver_cancer_self_report\", \"lung_cancer_self_report\", \"lymphoma_self_report\", \"melanoma_self_report\", \"mouth_cancer_self_report\", \"nervous_cancer_self_report\", \"pancreatic_cancer_self_report\", \"prostate_cancer_self_report\", \"rectum_cancer_self_report\", \"skin_cancer_self_report\", \"other_skin_cancer_self_report\", \"soft_cancer_self_report\", \"stomach_cancer_self_report\", \"testis_cancer_self_report\", \"thyroid_cancer_self_report\", \"uterine_cancer_self_report\", \"other_cancer_self_report\", \"any_cancer_self_report\", \"any_family_cad\", \"current_asthma\", \"ever_asthma\", \"ever_arthritis\", \"ever_rheumatoid_arthritis\", \"ever_osteo_arthritis\", \"LBXHBC\", \"LBDHBG\", \"LBDHCV\", \"LBDHD\", \"LBXHBS\", \"LBXHA\", \"LBDHI\"))\n",
    "\n",
    "\n",
    "Biomarkers_Threshold <- subset(MainTableNonsmoke, select =c(\"LBXTC\", \"LBDLDL\", \"LBXTR\", \"LBXGH\", \"LBXGLU\", \"LBXVIA\", \"LBXVIC\", \"LBXVID\", \"LBXVIE\",  \"LBXB12\", \"LBXFOL\", \"LBXRBF\", \"LBXHCY\"))\n",
    "\n",
    "\n",
    "#*************Threshold values*************************\n",
    "\n",
    "#Total cholesterol - Case <= 200\n",
    "Biomarkers_Threshold$LBXTC_TH <- ifelse(Biomarkers_Threshold$LBXTC <= 200, 1, 0)\n",
    "#LDL -  case < 100\n",
    "Biomarkers_Threshold$LBDLDL_TH <- ifelse(Biomarkers_Threshold$LBDLDL <= 100, 1, 0)\n",
    "#Triglycerides - case >= 150 \n",
    "Biomarkers_Threshold$LBXTR_TH <- ifelse(Biomarkers_Threshold$LBXTR <= 150, 1, 0)\n",
    "#Glycohemoglobin - case <= 5.7 \n",
    "Biomarkers_Threshold$LBXGH_TH <- ifelse(Biomarkers_Threshold$LBXGH <= 5.7, 1, 0)\n",
    "#Fasting Glucose -case <= 100\n",
    "Biomarkers_Threshold$LBXGLU_TH <- ifelse(Biomarkers_Threshold$LBXGLU <= 100, 1, 0)\n",
    "#Vitamin A - case >= 20 \n",
    "Biomarkers_Threshold$LBXVIA_TH <- ifelse(Biomarkers_Threshold$LBXVIA >= 20, 1, 0)\n",
    "#vitamin C - case >= 11.4\n",
    "Biomarkers_Threshold$LBXVIC_TH <- ifelse(Biomarkers_Threshold$LBXVIC >= 11.4, 1, 0)\n",
    "#vitamin D - case >= 20\n",
    "Biomarkers_Threshold$LBXVID_TH <- ifelse(Biomarkers_Threshold$LBXVID >= 20, 1, 0)\n",
    "#vitamin E - case >= 500\n",
    "Biomarkers_Threshold$LBXVIE_TH <- ifelse(Biomarkers_Threshold$LBXVIE >= 500, 1, 0)\n",
    "#vitamin B12 - case  >= 200\n",
    "Biomarkers_Threshold$LBXB12_TH <- ifelse(Biomarkers_Threshold$LBXB12 >= 200, 1, 0)\n",
    "#serum folate - case >= 2\n",
    "Biomarkers_Threshold$LBXFOL_TH <- ifelse(Biomarkers_Threshold$LBXFOL >= 2, 1, 0)\n",
    "#RBC FOLATE\n",
    "Biomarkers_Threshold$LBXRBF_TH <- ifelse(Biomarkers_Threshold$LBXRBF >= 95, 1, 0)\n",
    "#plasma homocysteine\n",
    "Biomarkers_Threshold$LBXHCY_TH <- ifelse(Biomarkers_Threshold$LBXHCY <= 13, 1, 0)\n",
    "\n",
    "Biomarkers_Threshold <- subset(Biomarkers_Threshold, select =c(\"LBXTC_TH\", \"LBDLDL_TH\", \"LBXTR_TH\", \"LBXGH_TH\", \"LBXGLU_TH\", \"LBXVIA_TH\", \"LBXVIC_TH\", \"LBXVID_TH\", \"LBXVIE_TH\",  \"LBXB12_TH\", \"LBXFOL_TH\", \"LBXRBF_TH\", \"LBXHCY_TH\"))\n",
    "\n",
    "Health_Biomarkers <- cbind(MainTable_Health, Biomarkers_Threshold)\n",
    "\n",
    "phenotypesheath_biomarkers <- c(\"any_diabetes\", \"any_ht\", \"cad\", \"bladder_cancer_self_report\", \"blood_cancer_self_report\", \"bone_cancer_self_report\", \"brain_cancer_self_report\", \"colon_cancer_self_report\", \"esophagus_cancer_self_report\", \"gallbladder_cancer_self_report\", \"kidney_cancer_self_report\", \"larynx_cancer_self_report\", \"leukemia_self_report\", \"liver_cancer_self_report\", \"lung_cancer_self_report\", \"lymphoma_self_report\", \"melanoma_self_report\", \"mouth_cancer_self_report\", \"nervous_cancer_self_report\", \"pancreatic_cancer_self_report\", \"prostate_cancer_self_report\", \"rectum_cancer_self_report\", \"skin_cancer_self_report\", \"other_skin_cancer_self_report\", \"soft_cancer_self_report\", \"stomach_cancer_self_report\", \"testis_cancer_self_report\", \"thyroid_cancer_self_report\", \"uterine_cancer_self_report\", \"other_cancer_self_report\", \"any_cancer_self_report\", \"any_family_cad\", \"current_asthma\", \"ever_asthma\", \"ever_arthritis\", \"ever_rheumatoid_arthritis\", \"ever_osteo_arthritis\", \"LBXHBC\", \"LBDHBG\", \"LBDHCV\", \"LBDHD\", \"LBXHBS\", \"LBXHA\", \"LBDHI\", \"LBXTC_TH\", \"LBDLDL_TH\", \"LBXTR_TH\", \"LBXGH_TH\", \"LBXGLU_TH\", \"LBXVIA_TH\", \"LBXVIC_TH\", \"LBXVID_TH\", \"LBXVIE_TH\",  \"LBXB12_TH\", \"LBXFOL_TH\", \"LBXRBF_TH\", \"LBXHCY_TH\")\n",
    "\n",
    "\n",
    "\n"
   ]
  },
  {
   "cell_type": "markdown",
   "metadata": {},
   "source": [
    "using hei package to derive hei values for all individuals in subset"
   ]
  },
  {
   "cell_type": "code",
   "execution_count": 21,
   "metadata": {},
   "outputs": [
    {
     "name": "stdout",
     "output_type": "stream",
     "text": [
      "Processing SAS dataset DEMO_D \t ..\n",
      "Processing SAS dataset DR1TOT_D \t ..\n",
      "Processing SAS dataset DR2TOT_D \t ..\n"
     ]
    }
   ],
   "source": [
    "demo0506 <- get_demo(\"2005/2006\")\n",
    "diet0506 <- get_diet(\"2005/2006\", \"both\")\n",
    "fped0506 <- get_fped(\"2005/2006\", \"both\")\n",
    "hei0506 <- hei(fped0506, diet0506, demo0506)\n",
    "hei0506 <- subset(hei0506, select = c(SEQN,HEI))\n",
    "\n",
    "hei0506 <- hei0506 %>% mutate(quintile=ntile(HEI,5))"
   ]
  },
  {
   "cell_type": "markdown",
   "metadata": {},
   "source": [
    "Setting dataframe, cut, case, control and phenotype variables values - Can edit code if different dataframes, cuts or case control values desired to alternative analyses"
   ]
  },
  {
   "cell_type": "code",
   "execution_count": 22,
   "metadata": {},
   "outputs": [],
   "source": [
    "dataframe <- Health_Biomarkers\n",
    "cut <- \"quintile\"\n",
    "case <- 5\n",
    "control <- 1\n",
    "phenotypes <- phenotypesheath_biomarkers"
   ]
  },
  {
   "cell_type": "markdown",
   "metadata": {},
   "source": [
    "Merging quintile values to working data frame"
   ]
  },
  {
   "cell_type": "code",
   "execution_count": 23,
   "metadata": {},
   "outputs": [],
   "source": [
    "hei0506_subset <- subset(hei0506, select = c(\"SEQN\", cut))   #subset with cut (quintile) and SEQN\n",
    "hei0506_subset$SEQN <- as.character( hei0506_subset$SEQN )    #change both 'SEQN' columns to characters for merging\n",
    "dataframe$SEQN <- as.character( dataframe$SEQN )\n",
    "hei0506_merged <- merge(dataframe, hei0506_subset, by=\"SEQN\") "
   ]
  },
  {
   "cell_type": "markdown",
   "metadata": {},
   "source": [
    "Selecting cases and controls so that our subset consists of those in the top & bottom quintiles of the healthy eating index"
   ]
  },
  {
   "cell_type": "code",
   "execution_count": 24,
   "metadata": {},
   "outputs": [],
   "source": [
    "hei0506_subset <- subset(hei0506, select = c(\"SEQN\", cut))           #subset with quintile and SEQN\n",
    "hei0506_subset$SEQN <- as.character( hei0506_subset$SEQN )          #change both 'SEQN' columns to characters for merging\n",
    "dataframe$SEQN <- as.character( dataframe$SEQN )\n",
    "\n",
    "hei0506_merged <- merge(dataframe, hei0506_subset, by=\"SEQN\")     #merging qunitile with dataframe\n",
    "\n",
    "hei0506_merged_cut <- hei0506_merged[hei0506_merged[,cut] %in% c(case, control),]   #selecting cases & control\n",
    "\n",
    "\n",
    "hei0506_casecontrol <- subset(hei0506_merged_cut, select=c(\"SEQN\", cut))#subsetting so we just have SEQN+cut \n",
    "\n",
    "hei0506_casecontrol[cut] <- ifelse(hei0506_casecontrol[cut]==case, 1, 0) #Converting case control to binary\n",
    "\n",
    "hei0506_final <- inner_join(hei0506_merged, hei0506_casecontrol, by = \"SEQN\")  #Merge phenotypes w/ binary input\n",
    "colNumber <- length(hei0506_final) - 1\n",
    "colnames(hei0506_final)[colNumber] <- \"casecontrol\"\n",
    "colNumber <- length(hei0506_final)\n",
    "colnames(hei0506_final)[colNumber] <- \"casevalue\""
   ]
  },
  {
   "cell_type": "markdown",
   "metadata": {},
   "source": [
    "Setting survey design for use for survey weighted glm in the logistic regression"
   ]
  },
  {
   "cell_type": "code",
   "execution_count": 25,
   "metadata": {},
   "outputs": [],
   "source": [
    "dsn <- svydesign(ids=~SDMVPSU, strata=~SDMVSTRA, weights=~WTMEC2YR, nest=T, data=hei0506_final, variables = NULL)"
   ]
  },
  {
   "cell_type": "markdown",
   "metadata": {},
   "source": [
    "Creating dataframe for results"
   ]
  },
  {
   "cell_type": "code",
   "execution_count": 26,
   "metadata": {},
   "outputs": [],
   "source": [
    "hei0506_result_Nonsmoke <- as.data.frame(matrix(ncol =8))"
   ]
  },
  {
   "cell_type": "markdown",
   "metadata": {},
   "source": [
    "For loop to run logistic regression on each disease outcome"
   ]
  },
  {
   "cell_type": "code",
   "execution_count": 28,
   "metadata": {},
   "outputs": [
    {
     "name": "stdout",
     "output_type": "stream",
     "text": [
      "[1] 12\n"
     ]
    },
    {
     "name": "stderr",
     "output_type": "stream",
     "text": [
      "Warning message in eval(family$initialize):\n",
      "“non-integer #successes in a binomial glm!”Warning message:\n",
      "“glm.fit: algorithm did not converge”"
     ]
    },
    {
     "name": "stdout",
     "output_type": "stream",
     "text": [
      "[1] 13\n"
     ]
    },
    {
     "name": "stderr",
     "output_type": "stream",
     "text": [
      "Warning message in model.matrix.default(mt, mf, contrasts):\n",
      "“the response appeared on the right-hand side and was dropped”Warning message in model.matrix.default(mt, mf, contrasts):\n",
      "“problem with term 7 in model.matrix: no columns are assigned”Warning message in eval(family$initialize):\n",
      "“non-integer #successes in a binomial glm!”Warning message in model.matrix.default(glm.object, data = structure(list(female = c(0, :\n",
      "“the response appeared on the right-hand side and was dropped”Warning message in model.matrix.default(glm.object, data = structure(list(female = c(0, :\n",
      "“problem with term 7 in model.matrix: no columns are assigned”"
     ]
    },
    {
     "name": "stdout",
     "output_type": "stream",
     "text": [
      "[1] 14\n"
     ]
    },
    {
     "name": "stderr",
     "output_type": "stream",
     "text": [
      "Warning message in eval(family$initialize):\n",
      "“non-integer #successes in a binomial glm!”"
     ]
    },
    {
     "name": "stdout",
     "output_type": "stream",
     "text": [
      "[1] 15\n"
     ]
    },
    {
     "name": "stderr",
     "output_type": "stream",
     "text": [
      "Warning message in eval(family$initialize):\n",
      "“non-integer #successes in a binomial glm!”"
     ]
    },
    {
     "name": "stdout",
     "output_type": "stream",
     "text": [
      "[1] 16\n"
     ]
    },
    {
     "name": "stderr",
     "output_type": "stream",
     "text": [
      "Warning message in eval(family$initialize):\n",
      "“non-integer #successes in a binomial glm!”"
     ]
    },
    {
     "name": "stdout",
     "output_type": "stream",
     "text": [
      "[1] 17\n"
     ]
    },
    {
     "name": "stderr",
     "output_type": "stream",
     "text": [
      "Warning message in eval(family$initialize):\n",
      "“non-integer #successes in a binomial glm!”Warning message:\n",
      "“glm.fit: fitted probabilities numerically 0 or 1 occurred”"
     ]
    },
    {
     "name": "stdout",
     "output_type": "stream",
     "text": [
      "[1] 18\n"
     ]
    },
    {
     "name": "stderr",
     "output_type": "stream",
     "text": [
      "Warning message in eval(family$initialize):\n",
      "“non-integer #successes in a binomial glm!”Warning message:\n",
      "“glm.fit: fitted probabilities numerically 0 or 1 occurred”"
     ]
    },
    {
     "name": "stdout",
     "output_type": "stream",
     "text": [
      "[1] 19\n"
     ]
    },
    {
     "name": "stderr",
     "output_type": "stream",
     "text": [
      "Warning message:\n",
      "“glm.fit: algorithm did not converge”"
     ]
    },
    {
     "name": "stdout",
     "output_type": "stream",
     "text": [
      "[1] 20\n"
     ]
    },
    {
     "name": "stderr",
     "output_type": "stream",
     "text": [
      "Warning message:\n",
      "“glm.fit: algorithm did not converge”"
     ]
    },
    {
     "name": "stdout",
     "output_type": "stream",
     "text": [
      "[1] 21\n"
     ]
    },
    {
     "name": "stderr",
     "output_type": "stream",
     "text": [
      "Warning message in eval(family$initialize):\n",
      "“non-integer #successes in a binomial glm!”"
     ]
    },
    {
     "name": "stdout",
     "output_type": "stream",
     "text": [
      "[1] 22\n"
     ]
    },
    {
     "name": "stderr",
     "output_type": "stream",
     "text": [
      "Warning message:\n",
      "“glm.fit: algorithm did not converge”"
     ]
    },
    {
     "name": "stdout",
     "output_type": "stream",
     "text": [
      "[1] 23\n"
     ]
    },
    {
     "name": "stderr",
     "output_type": "stream",
     "text": [
      "Warning message:\n",
      "“glm.fit: algorithm did not converge”"
     ]
    },
    {
     "name": "stdout",
     "output_type": "stream",
     "text": [
      "[1] 24\n"
     ]
    },
    {
     "name": "stderr",
     "output_type": "stream",
     "text": [
      "Warning message in eval(family$initialize):\n",
      "“non-integer #successes in a binomial glm!”Warning message:\n",
      "“glm.fit: fitted probabilities numerically 0 or 1 occurred”"
     ]
    },
    {
     "name": "stdout",
     "output_type": "stream",
     "text": [
      "[1] 25\n"
     ]
    },
    {
     "name": "stderr",
     "output_type": "stream",
     "text": [
      "Warning message in eval(family$initialize):\n",
      "“non-integer #successes in a binomial glm!”Warning message:\n",
      "“glm.fit: algorithm did not converge”Warning message:\n",
      "“glm.fit: fitted probabilities numerically 0 or 1 occurred”"
     ]
    },
    {
     "name": "stdout",
     "output_type": "stream",
     "text": [
      "[1] 26\n"
     ]
    },
    {
     "name": "stderr",
     "output_type": "stream",
     "text": [
      "Warning message:\n",
      "“glm.fit: algorithm did not converge”"
     ]
    },
    {
     "name": "stdout",
     "output_type": "stream",
     "text": [
      "[1] 27\n"
     ]
    },
    {
     "name": "stderr",
     "output_type": "stream",
     "text": [
      "Warning message:\n",
      "“glm.fit: algorithm did not converge”"
     ]
    },
    {
     "name": "stdout",
     "output_type": "stream",
     "text": [
      "[1] 28\n"
     ]
    },
    {
     "name": "stderr",
     "output_type": "stream",
     "text": [
      "Warning message in eval(family$initialize):\n",
      "“non-integer #successes in a binomial glm!”Warning message:\n",
      "“glm.fit: fitted probabilities numerically 0 or 1 occurred”"
     ]
    },
    {
     "name": "stdout",
     "output_type": "stream",
     "text": [
      "[1] 29\n"
     ]
    },
    {
     "name": "stderr",
     "output_type": "stream",
     "text": [
      "Warning message in eval(family$initialize):\n",
      "“non-integer #successes in a binomial glm!”Warning message:\n",
      "“glm.fit: fitted probabilities numerically 0 or 1 occurred”"
     ]
    },
    {
     "name": "stdout",
     "output_type": "stream",
     "text": [
      "[1] 30\n"
     ]
    },
    {
     "name": "stderr",
     "output_type": "stream",
     "text": [
      "Warning message in eval(family$initialize):\n",
      "“non-integer #successes in a binomial glm!”Warning message:\n",
      "“glm.fit: fitted probabilities numerically 0 or 1 occurred”"
     ]
    },
    {
     "name": "stdout",
     "output_type": "stream",
     "text": [
      "[1] 31\n"
     ]
    },
    {
     "name": "stderr",
     "output_type": "stream",
     "text": [
      "Warning message in eval(family$initialize):\n",
      "“non-integer #successes in a binomial glm!”Warning message:\n",
      "“glm.fit: fitted probabilities numerically 0 or 1 occurred”"
     ]
    },
    {
     "name": "stdout",
     "output_type": "stream",
     "text": [
      "[1] 32\n"
     ]
    },
    {
     "name": "stderr",
     "output_type": "stream",
     "text": [
      "Warning message:\n",
      "“glm.fit: algorithm did not converge”"
     ]
    },
    {
     "name": "stdout",
     "output_type": "stream",
     "text": [
      "[1] 33\n"
     ]
    },
    {
     "name": "stderr",
     "output_type": "stream",
     "text": [
      "Warning message:\n",
      "“glm.fit: algorithm did not converge”"
     ]
    },
    {
     "name": "stdout",
     "output_type": "stream",
     "text": [
      "[1] 34\n"
     ]
    },
    {
     "name": "stderr",
     "output_type": "stream",
     "text": [
      "Warning message in eval(family$initialize):\n",
      "“non-integer #successes in a binomial glm!”Warning message:\n",
      "“glm.fit: fitted probabilities numerically 0 or 1 occurred”"
     ]
    },
    {
     "name": "stdout",
     "output_type": "stream",
     "text": [
      "[1] 35\n"
     ]
    },
    {
     "name": "stderr",
     "output_type": "stream",
     "text": [
      "Warning message:\n",
      "“glm.fit: algorithm did not converge”"
     ]
    },
    {
     "name": "stdout",
     "output_type": "stream",
     "text": [
      "[1] 36\n"
     ]
    },
    {
     "name": "stderr",
     "output_type": "stream",
     "text": [
      "Warning message in eval(family$initialize):\n",
      "“non-integer #successes in a binomial glm!”"
     ]
    },
    {
     "name": "stdout",
     "output_type": "stream",
     "text": [
      "[1] 37\n"
     ]
    },
    {
     "name": "stderr",
     "output_type": "stream",
     "text": [
      "Warning message in eval(family$initialize):\n",
      "“non-integer #successes in a binomial glm!”"
     ]
    },
    {
     "name": "stdout",
     "output_type": "stream",
     "text": [
      "[1] 38\n"
     ]
    },
    {
     "name": "stderr",
     "output_type": "stream",
     "text": [
      "Warning message:\n",
      "“glm.fit: algorithm did not converge”"
     ]
    },
    {
     "name": "stdout",
     "output_type": "stream",
     "text": [
      "[1] 39\n"
     ]
    },
    {
     "name": "stderr",
     "output_type": "stream",
     "text": [
      "Warning message in eval(family$initialize):\n",
      "“non-integer #successes in a binomial glm!”Warning message:\n",
      "“glm.fit: fitted probabilities numerically 0 or 1 occurred”"
     ]
    },
    {
     "name": "stdout",
     "output_type": "stream",
     "text": [
      "[1] 40\n"
     ]
    },
    {
     "name": "stderr",
     "output_type": "stream",
     "text": [
      "Warning message:\n",
      "“glm.fit: algorithm did not converge”"
     ]
    },
    {
     "name": "stdout",
     "output_type": "stream",
     "text": [
      "[1] 41\n"
     ]
    },
    {
     "name": "stderr",
     "output_type": "stream",
     "text": [
      "Warning message:\n",
      "“glm.fit: algorithm did not converge”"
     ]
    },
    {
     "name": "stdout",
     "output_type": "stream",
     "text": [
      "[1] 42\n"
     ]
    },
    {
     "name": "stderr",
     "output_type": "stream",
     "text": [
      "Warning message in eval(family$initialize):\n",
      "“non-integer #successes in a binomial glm!”Warning message:\n",
      "“glm.fit: fitted probabilities numerically 0 or 1 occurred”"
     ]
    },
    {
     "name": "stdout",
     "output_type": "stream",
     "text": [
      "[1] 43\n"
     ]
    },
    {
     "name": "stderr",
     "output_type": "stream",
     "text": [
      "Warning message in eval(family$initialize):\n",
      "“non-integer #successes in a binomial glm!”Warning message:\n",
      "“glm.fit: fitted probabilities numerically 0 or 1 occurred”"
     ]
    },
    {
     "name": "stdout",
     "output_type": "stream",
     "text": [
      "[1] 44\n"
     ]
    },
    {
     "name": "stderr",
     "output_type": "stream",
     "text": [
      "Warning message in eval(family$initialize):\n",
      "“non-integer #successes in a binomial glm!”"
     ]
    },
    {
     "name": "stdout",
     "output_type": "stream",
     "text": [
      "[1] 45\n"
     ]
    },
    {
     "name": "stderr",
     "output_type": "stream",
     "text": [
      "Warning message in eval(family$initialize):\n",
      "“non-integer #successes in a binomial glm!”"
     ]
    },
    {
     "name": "stdout",
     "output_type": "stream",
     "text": [
      "[1] 46\n"
     ]
    },
    {
     "name": "stderr",
     "output_type": "stream",
     "text": [
      "Warning message in eval(family$initialize):\n",
      "“non-integer #successes in a binomial glm!”"
     ]
    },
    {
     "name": "stdout",
     "output_type": "stream",
     "text": [
      "[1] 47\n"
     ]
    },
    {
     "name": "stderr",
     "output_type": "stream",
     "text": [
      "Warning message in eval(family$initialize):\n",
      "“non-integer #successes in a binomial glm!”"
     ]
    },
    {
     "name": "stdout",
     "output_type": "stream",
     "text": [
      "[1] 48\n"
     ]
    },
    {
     "name": "stderr",
     "output_type": "stream",
     "text": [
      "Warning message in eval(family$initialize):\n",
      "“non-integer #successes in a binomial glm!”"
     ]
    },
    {
     "name": "stdout",
     "output_type": "stream",
     "text": [
      "[1] 49\n"
     ]
    },
    {
     "name": "stderr",
     "output_type": "stream",
     "text": [
      "Warning message in eval(family$initialize):\n",
      "“non-integer #successes in a binomial glm!”"
     ]
    },
    {
     "name": "stdout",
     "output_type": "stream",
     "text": [
      "[1] 50\n"
     ]
    },
    {
     "name": "stderr",
     "output_type": "stream",
     "text": [
      "Warning message in eval(family$initialize):\n",
      "“non-integer #successes in a binomial glm!”"
     ]
    },
    {
     "name": "stdout",
     "output_type": "stream",
     "text": [
      "[1] 51\n"
     ]
    },
    {
     "name": "stderr",
     "output_type": "stream",
     "text": [
      "Warning message in eval(family$initialize):\n",
      "“non-integer #successes in a binomial glm!”"
     ]
    },
    {
     "name": "stdout",
     "output_type": "stream",
     "text": [
      "[1] 52\n"
     ]
    },
    {
     "name": "stderr",
     "output_type": "stream",
     "text": [
      "Warning message in eval(family$initialize):\n",
      "“non-integer #successes in a binomial glm!”"
     ]
    },
    {
     "name": "stdout",
     "output_type": "stream",
     "text": [
      "[1] 53\n"
     ]
    },
    {
     "name": "stderr",
     "output_type": "stream",
     "text": [
      "Warning message in eval(family$initialize):\n",
      "“non-integer #successes in a binomial glm!”"
     ]
    },
    {
     "name": "stdout",
     "output_type": "stream",
     "text": [
      "[1] 54\n"
     ]
    },
    {
     "name": "stderr",
     "output_type": "stream",
     "text": [
      "Warning message:\n",
      "“glm.fit: algorithm did not converge”"
     ]
    },
    {
     "name": "stdout",
     "output_type": "stream",
     "text": [
      "[1] 55\n"
     ]
    },
    {
     "name": "stderr",
     "output_type": "stream",
     "text": [
      "Warning message in eval(family$initialize):\n",
      "“non-integer #successes in a binomial glm!”"
     ]
    },
    {
     "name": "stdout",
     "output_type": "stream",
     "text": [
      "[1] 56\n"
     ]
    },
    {
     "name": "stderr",
     "output_type": "stream",
     "text": [
      "Warning message in eval(family$initialize):\n",
      "“non-integer #successes in a binomial glm!”"
     ]
    },
    {
     "name": "stdout",
     "output_type": "stream",
     "text": [
      "[1] 57\n"
     ]
    },
    {
     "name": "stderr",
     "output_type": "stream",
     "text": [
      "Warning message:\n",
      "“glm.fit: algorithm did not converge”"
     ]
    },
    {
     "name": "stdout",
     "output_type": "stream",
     "text": [
      "[1] 58\n"
     ]
    },
    {
     "name": "stderr",
     "output_type": "stream",
     "text": [
      "Warning message in eval(family$initialize):\n",
      "“non-integer #successes in a binomial glm!”"
     ]
    },
    {
     "name": "stdout",
     "output_type": "stream",
     "text": [
      "[1] 59\n"
     ]
    },
    {
     "name": "stderr",
     "output_type": "stream",
     "text": [
      "Warning message in eval(family$initialize):\n",
      "“non-integer #successes in a binomial glm!”"
     ]
    },
    {
     "name": "stdout",
     "output_type": "stream",
     "text": [
      "[1] 60\n"
     ]
    },
    {
     "name": "stderr",
     "output_type": "stream",
     "text": [
      "Warning message in eval(family$initialize):\n",
      "“non-integer #successes in a binomial glm!”"
     ]
    },
    {
     "name": "stdout",
     "output_type": "stream",
     "text": [
      "[1] 61\n"
     ]
    },
    {
     "name": "stderr",
     "output_type": "stream",
     "text": [
      "Warning message in eval(family$initialize):\n",
      "“non-integer #successes in a binomial glm!”"
     ]
    },
    {
     "name": "stdout",
     "output_type": "stream",
     "text": [
      "[1] 62\n"
     ]
    },
    {
     "name": "stderr",
     "output_type": "stream",
     "text": [
      "Warning message in eval(family$initialize):\n",
      "“non-integer #successes in a binomial glm!”"
     ]
    },
    {
     "name": "stdout",
     "output_type": "stream",
     "text": [
      "[1] 63\n"
     ]
    },
    {
     "name": "stderr",
     "output_type": "stream",
     "text": [
      "Warning message in eval(family$initialize):\n",
      "“non-integer #successes in a binomial glm!”Warning message:\n",
      "“glm.fit: fitted probabilities numerically 0 or 1 occurred”"
     ]
    },
    {
     "name": "stdout",
     "output_type": "stream",
     "text": [
      "[1] 64\n"
     ]
    },
    {
     "name": "stderr",
     "output_type": "stream",
     "text": [
      "Warning message:\n",
      "“glm.fit: algorithm did not converge”"
     ]
    },
    {
     "name": "stdout",
     "output_type": "stream",
     "text": [
      "[1] 65\n"
     ]
    },
    {
     "name": "stderr",
     "output_type": "stream",
     "text": [
      "Warning message in eval(family$initialize):\n",
      "“non-integer #successes in a binomial glm!”"
     ]
    },
    {
     "name": "stdout",
     "output_type": "stream",
     "text": [
      "[1] 66\n"
     ]
    },
    {
     "name": "stderr",
     "output_type": "stream",
     "text": [
      "Warning message in eval(family$initialize):\n",
      "“non-integer #successes in a binomial glm!”Warning message:\n",
      "“glm.fit: algorithm did not converge”"
     ]
    },
    {
     "name": "stdout",
     "output_type": "stream",
     "text": [
      "[1] 67\n"
     ]
    },
    {
     "name": "stderr",
     "output_type": "stream",
     "text": [
      "Warning message in eval(family$initialize):\n",
      "“non-integer #successes in a binomial glm!”"
     ]
    },
    {
     "name": "stdout",
     "output_type": "stream",
     "text": [
      "[1] 68\n"
     ]
    },
    {
     "name": "stderr",
     "output_type": "stream",
     "text": [
      "Warning message in eval(family$initialize):\n",
      "“non-integer #successes in a binomial glm!”Warning message:\n",
      "“glm.fit: algorithm did not converge”"
     ]
    },
    {
     "name": "stdout",
     "output_type": "stream",
     "text": [
      "[1] 69\n"
     ]
    },
    {
     "name": "stderr",
     "output_type": "stream",
     "text": [
      "Warning message in eval(family$initialize):\n",
      "“non-integer #successes in a binomial glm!”Warning message:\n",
      "“glm.fit: fitted probabilities numerically 0 or 1 occurred”"
     ]
    },
    {
     "name": "stdout",
     "output_type": "stream",
     "text": [
      "[1] 70\n"
     ]
    },
    {
     "name": "stderr",
     "output_type": "stream",
     "text": [
      "Warning message in eval(family$initialize):\n",
      "“non-integer #successes in a binomial glm!”"
     ]
    }
   ],
   "source": [
    "for(i in 14:ncol(hei0506_final)-2){\n",
    "                                                                                        \n",
    " print( i )\n",
    "\n",
    "myglm <- svyglm(as.formula(paste0(names(hei0506_final)[i], \"~ casevalue + black + mexican + other_hispanic + other_eth + RIDAGEYR + RIDAGEYR^2 + female + BMXBMI\")),design = dsn,\n",
    "                family = binomial(),\n",
    "                na.action = na.omit)\n",
    "\n",
    "#confidence interval\n",
    "ci <- exp(summary(myglm)$coefficients[\"casevalue\",1]+qnorm(c(0.025, 0.975)) * summary(myglm)$coefficients[\"casevalue\",2])\n",
    "\n",
    "\n",
    "excludedPatients <- sum(is.na(hei0506_final[, i ]))\n",
    "    casecontrol <-  hei0506_final[, c(names(hei0506_final)[i], \"SEQN\", \"casevalue\")]\n",
    "    casecontrol <- na.omit( casecontrol )\n",
    "    heihighpositive <- length(unique(casecontrol[casecontrol[,1]== 1 & casecontrol$casevalue== 1, \"SEQN\"]))\n",
    "    heihighnegative <- length(unique(casecontrol[casecontrol[,1]== 0 & casecontrol$casevalue== 1, \"SEQN\"]))\n",
    "    heilowpositive <- length(unique(casecontrol[casecontrol[,1]== 1 & casecontrol$casevalue== 0, \"SEQN\"]))\n",
    "    heilownegative <- length(unique(casecontrol[casecontrol[,1]== 0 & casecontrol$casevalue== 0, \"SEQN\"]))\n",
    " \n",
    "\n",
    "    \n",
    "newRow <- c (names(hei0506_final)[i], summary(myglm)$coefficients[2], exp(summary(myglm)$coefficients[2]), paste0(\"(\", round(ci[1][1],3), \",\", round(ci[2][1],3), \")\"),\n",
    "summary(myglm)$coefficients[2,4], paste0(heihighpositive+heilowpositive,\"(\",heihighpositive,\"/\",heilowpositive,\")\"), paste0(heihighnegative+heilownegative,\"(\",heihighnegative,\"/\",heilownegative,\")\"), excludedPatients\n",
    "                  )\n",
    "    \n",
    "hei0506_result_Nonsmoke <- rbind( newRow, hei0506_result_Nonsmoke ) \n",
    "\n",
    "\n",
    "}\n"
   ]
  },
  {
   "cell_type": "markdown",
   "metadata": {},
   "source": [
    "Changing column name and adding columns for adjusted p-values"
   ]
  },
  {
   "cell_type": "code",
   "execution_count": 29,
   "metadata": {},
   "outputs": [
    {
     "data": {
      "text/html": [
       "<table>\n",
       "<caption>A data.frame: 6 × 14</caption>\n",
       "<thead>\n",
       "\t<tr><th scope=col>Outcome</th><th scope=col>Coefficient</th><th scope=col>OR</th><th scope=col>CI</th><th scope=col>P-value</th><th scope=col>Outcome_Present</th><th scope=col>Outcome_Negative</th><th scope=col>NA_Patient</th><th scope=col>padjustFdr</th><th scope=col>padjustBonferroni</th><th scope=col>logfdr</th><th scope=col>logbonf</th><th scope=col>Label</th><th scope=col>Association</th></tr>\n",
       "\t<tr><th scope=col>&lt;chr&gt;</th><th scope=col>&lt;chr&gt;</th><th scope=col>&lt;chr&gt;</th><th scope=col>&lt;chr&gt;</th><th scope=col>&lt;chr&gt;</th><th scope=col>&lt;chr&gt;</th><th scope=col>&lt;chr&gt;</th><th scope=col>&lt;chr&gt;</th><th scope=col>&lt;dbl&gt;</th><th scope=col>&lt;dbl&gt;</th><th scope=col>&lt;dbl&gt;</th><th scope=col>&lt;dbl&gt;</th><th scope=col>&lt;fct&gt;</th><th scope=col>&lt;fct&gt;</th></tr>\n",
       "</thead>\n",
       "<tbody>\n",
       "\t<tr><td><span style=white-space:pre-wrap>any_cancer_self_report  </span></td><td>-0.638007860010233 </td><td><span style=white-space:pre-wrap>0.52834391137452    </span></td><td>(0.293,0.953)</td><td><span style=white-space:pre-wrap>0.0717723873378996  </span></td><td><span style=white-space:pre-wrap>74(51/23)  </span></td><td>416(281/135)</td><td>1 </td><td>3.024693e-01</td><td>1.000000e+00</td><td> 1.19577534</td><td>0.000000</td><td><span style=white-space:pre-wrap>any cancer  </span></td><td>OR &lt;= 1</td></tr>\n",
       "\t<tr><td><span style=white-space:pre-wrap>any_diabetes            </span></td><td><span style=white-space:pre-wrap>0.690104917423089  </span></td><td><span style=white-space:pre-wrap>1.99392471971266    </span></td><td>(0.947,4.197)</td><td><span style=white-space:pre-wrap>0.112040465041584   </span></td><td><span style=white-space:pre-wrap>74(58/16)  </span></td><td>411(272/139)</td><td>6 </td><td>3.479151e-01</td><td>1.000000e+00</td><td> 1.05579671</td><td>0.000000</td><td><span style=white-space:pre-wrap>diabetes    </span></td><td>OR &gt; 1 </td></tr>\n",
       "\t<tr><td><span style=white-space:pre-wrap>any_family_cad          </span></td><td>-0.278385496051509 </td><td><span style=white-space:pre-wrap>0.757004942842474   </span></td><td>(0.379,1.514)</td><td><span style=white-space:pre-wrap>0.456908711523458   </span></td><td><span style=white-space:pre-wrap>70(46/24)  </span></td><td>406(276/130)</td><td>15</td><td>9.295729e-01</td><td>1.000000e+00</td><td> 0.07303005</td><td>0.000000</td><td><span style=white-space:pre-wrap>family CAD  </span></td><td>OR &lt;= 1</td></tr>\n",
       "\t<tr><td><span style=white-space:pre-wrap>any_ht                  </span></td><td>-0.0141126636295072</td><td><span style=white-space:pre-wrap>0.985986453192556   </span></td><td>(0.622,1.562)</td><td><span style=white-space:pre-wrap>0.953728610038929   </span></td><td>220(157/63)</td><td>271(176/95) </td><td>0 </td><td>9.701921e-01</td><td>1.000000e+00</td><td> 0.03026121</td><td>0.000000</td><td>hypertension</td><td>OR &lt;= 1</td></tr>\n",
       "\t<tr><td>blood_cancer_self_report</td><td><span style=white-space:pre-wrap>-20.1176251469073  </span></td><td>1.83242584986507e-09</td><td><span style=white-space:pre-wrap>(0,0)        </span></td><td>1.12846759888609e-06</td><td><span style=white-space:pre-wrap>1(0/1)     </span></td><td>416(281/135)</td><td>74</td><td>9.511370e-06</td><td>6.657959e-05</td><td>11.56302266</td><td>9.617113</td><td>blood cancer</td><td>OR &gt; 1 </td></tr>\n",
       "\t<tr><td>bone_cancer_self_report </td><td>-0.0199740820117945</td><td><span style=white-space:pre-wrap>0.980224078413632   </span></td><td>(0.74,1.298) </td><td><span style=white-space:pre-wrap>0.892994886161319   </span></td><td><span style=white-space:pre-wrap>0(0/0)     </span></td><td>416(281/135)</td><td>75</td><td>9.701921e-01</td><td>1.000000e+00</td><td> 0.03026121</td><td>0.000000</td><td>bone cancer </td><td>OR &lt;= 1</td></tr>\n",
       "</tbody>\n",
       "</table>\n"
      ],
      "text/latex": [
       "A data.frame: 6 × 14\n",
       "\\begin{tabular}{r|llllllllllllll}\n",
       " Outcome & Coefficient & OR & CI & P-value & Outcome\\_Present & Outcome\\_Negative & NA\\_Patient & padjustFdr & padjustBonferroni & logfdr & logbonf & Label & Association\\\\\n",
       " <chr> & <chr> & <chr> & <chr> & <chr> & <chr> & <chr> & <chr> & <dbl> & <dbl> & <dbl> & <dbl> & <fct> & <fct>\\\\\n",
       "\\hline\n",
       "\t any\\_cancer\\_self\\_report   & -0.638007860010233  & 0.52834391137452     & (0.293,0.953) & 0.0717723873378996   & 74(51/23)   & 416(281/135) & 1  & 3.024693e-01 & 1.000000e+00 &  1.19577534 & 0.000000 & any cancer   & OR <= 1\\\\\n",
       "\t any\\_diabetes             & 0.690104917423089   & 1.99392471971266     & (0.947,4.197) & 0.112040465041584    & 74(58/16)   & 411(272/139) & 6  & 3.479151e-01 & 1.000000e+00 &  1.05579671 & 0.000000 & diabetes     & OR > 1 \\\\\n",
       "\t any\\_family\\_cad           & -0.278385496051509  & 0.757004942842474    & (0.379,1.514) & 0.456908711523458    & 70(46/24)   & 406(276/130) & 15 & 9.295729e-01 & 1.000000e+00 &  0.07303005 & 0.000000 & family CAD   & OR <= 1\\\\\n",
       "\t any\\_ht                   & -0.0141126636295072 & 0.985986453192556    & (0.622,1.562) & 0.953728610038929    & 220(157/63) & 271(176/95)  & 0  & 9.701921e-01 & 1.000000e+00 &  0.03026121 & 0.000000 & hypertension & OR <= 1\\\\\n",
       "\t blood\\_cancer\\_self\\_report & -20.1176251469073   & 1.83242584986507e-09 & (0,0)         & 1.12846759888609e-06 & 1(0/1)      & 416(281/135) & 74 & 9.511370e-06 & 6.657959e-05 & 11.56302266 & 9.617113 & blood cancer & OR > 1 \\\\\n",
       "\t bone\\_cancer\\_self\\_report  & -0.0199740820117945 & 0.980224078413632    & (0.74,1.298)  & 0.892994886161319    & 0(0/0)      & 416(281/135) & 75 & 9.701921e-01 & 1.000000e+00 &  0.03026121 & 0.000000 & bone cancer  & OR <= 1\\\\\n",
       "\\end{tabular}\n"
      ],
      "text/markdown": [
       "\n",
       "A data.frame: 6 × 14\n",
       "\n",
       "| Outcome &lt;chr&gt; | Coefficient &lt;chr&gt; | OR &lt;chr&gt; | CI &lt;chr&gt; | P-value &lt;chr&gt; | Outcome_Present &lt;chr&gt; | Outcome_Negative &lt;chr&gt; | NA_Patient &lt;chr&gt; | padjustFdr &lt;dbl&gt; | padjustBonferroni &lt;dbl&gt; | logfdr &lt;dbl&gt; | logbonf &lt;dbl&gt; | Label &lt;fct&gt; | Association &lt;fct&gt; |\n",
       "|---|---|---|---|---|---|---|---|---|---|---|---|---|---|\n",
       "| any_cancer_self_report   | -0.638007860010233  | 0.52834391137452     | (0.293,0.953) | 0.0717723873378996   | 74(51/23)   | 416(281/135) | 1  | 3.024693e-01 | 1.000000e+00 |  1.19577534 | 0.000000 | any cancer   | OR &lt;= 1 |\n",
       "| any_diabetes             | 0.690104917423089   | 1.99392471971266     | (0.947,4.197) | 0.112040465041584    | 74(58/16)   | 411(272/139) | 6  | 3.479151e-01 | 1.000000e+00 |  1.05579671 | 0.000000 | diabetes     | OR &gt; 1  |\n",
       "| any_family_cad           | -0.278385496051509  | 0.757004942842474    | (0.379,1.514) | 0.456908711523458    | 70(46/24)   | 406(276/130) | 15 | 9.295729e-01 | 1.000000e+00 |  0.07303005 | 0.000000 | family CAD   | OR &lt;= 1 |\n",
       "| any_ht                   | -0.0141126636295072 | 0.985986453192556    | (0.622,1.562) | 0.953728610038929    | 220(157/63) | 271(176/95)  | 0  | 9.701921e-01 | 1.000000e+00 |  0.03026121 | 0.000000 | hypertension | OR &lt;= 1 |\n",
       "| blood_cancer_self_report | -20.1176251469073   | 1.83242584986507e-09 | (0,0)         | 1.12846759888609e-06 | 1(0/1)      | 416(281/135) | 74 | 9.511370e-06 | 6.657959e-05 | 11.56302266 | 9.617113 | blood cancer | OR &gt; 1  |\n",
       "| bone_cancer_self_report  | -0.0199740820117945 | 0.980224078413632    | (0.74,1.298)  | 0.892994886161319    | 0(0/0)      | 416(281/135) | 75 | 9.701921e-01 | 1.000000e+00 |  0.03026121 | 0.000000 | bone cancer  | OR &lt;= 1 |\n",
       "\n"
      ],
      "text/plain": [
       "  Outcome                  Coefficient         OR                  \n",
       "1 any_cancer_self_report   -0.638007860010233  0.52834391137452    \n",
       "2 any_diabetes             0.690104917423089   1.99392471971266    \n",
       "3 any_family_cad           -0.278385496051509  0.757004942842474   \n",
       "4 any_ht                   -0.0141126636295072 0.985986453192556   \n",
       "5 blood_cancer_self_report -20.1176251469073   1.83242584986507e-09\n",
       "6 bone_cancer_self_report  -0.0199740820117945 0.980224078413632   \n",
       "  CI            P-value              Outcome_Present Outcome_Negative\n",
       "1 (0.293,0.953) 0.0717723873378996   74(51/23)       416(281/135)    \n",
       "2 (0.947,4.197) 0.112040465041584    74(58/16)       411(272/139)    \n",
       "3 (0.379,1.514) 0.456908711523458    70(46/24)       406(276/130)    \n",
       "4 (0.622,1.562) 0.953728610038929    220(157/63)     271(176/95)     \n",
       "5 (0,0)         1.12846759888609e-06 1(0/1)          416(281/135)    \n",
       "6 (0.74,1.298)  0.892994886161319    0(0/0)          416(281/135)    \n",
       "  NA_Patient padjustFdr   padjustBonferroni logfdr      logbonf  Label       \n",
       "1 1          3.024693e-01 1.000000e+00       1.19577534 0.000000 any cancer  \n",
       "2 6          3.479151e-01 1.000000e+00       1.05579671 0.000000 diabetes    \n",
       "3 15         9.295729e-01 1.000000e+00       0.07303005 0.000000 family CAD  \n",
       "4 0          9.701921e-01 1.000000e+00       0.03026121 0.000000 hypertension\n",
       "5 74         9.511370e-06 6.657959e-05      11.56302266 9.617113 blood cancer\n",
       "6 75         9.701921e-01 1.000000e+00       0.03026121 0.000000 bone cancer \n",
       "  Association\n",
       "1 OR <= 1    \n",
       "2 OR > 1     \n",
       "3 OR <= 1    \n",
       "4 OR <= 1    \n",
       "5 OR > 1     \n",
       "6 OR <= 1    "
      ]
     },
     "metadata": {},
     "output_type": "display_data"
    }
   ],
   "source": [
    "colnames( hei0506_result_Nonsmoke) <- c(\"Outcome\", \"Coefficient\", \"OR\", \"CI\", \"P-value\", \"Outcome_Present\", \"Outcome_Negative\", \"NA_Patient\")\n",
    "\n",
    "hei0506_result_Nonsmoke$padjustFdr <- p.adjust( as.numeric( hei0506_result_Nonsmoke$`P-value`), method = \"fdr\")\n",
    "hei0506_result_Nonsmoke$padjustBonferroni <- p.adjust( as.numeric( hei0506_result_Nonsmoke$`P-value`), method = \"bonferroni\")\n",
    "\n",
    "\n",
    "hei0506_result_Nonsmoke$logfdr <- -log( as.numeric(hei0506_result_Nonsmoke$padjustFdr))\n",
    "hei0506_result_Nonsmoke$logbonf <- -log( as.numeric(hei0506_result_Nonsmoke$padjustBonferroni))\n",
    "\n",
    "hei0506_result_Nonsmoke <- merge(hei0506_result_Nonsmoke, Labels, by = \"Outcome\")\n",
    "\n",
    "hei0506_result_Nonsmoke$Association <- as.factor(ifelse(hei0506_result_Nonsmoke$OR > 1, \"OR > 1\", \"OR <= 1\"))\n",
    "head(hei0506_result_Nonsmoke)\n",
    "\n",
    "\n"
   ]
  },
  {
   "cell_type": "markdown",
   "metadata": {},
   "source": [
    "Using ggplot to produce Manhatten plot for results"
   ]
  },
  {
   "cell_type": "code",
   "execution_count": 30,
   "metadata": {},
   "outputs": [
    {
     "data": {
      "image/png": "[encoded data removed]",
      "text/plain": [
       "plot without title"
      ]
     },
     "metadata": {},
     "output_type": "display_data"
    }
   ],
   "source": [
    "ggplot(hei0506_result_Nonsmoke, aes(Outcome, logbonf))+ \n",
    "geom_point(aes(color = Association, fill = Association, shape = Association), size=3)+\n",
    "scale_shape_manual(values=c(25, 24))+\n",
    "scale_fill_manual(values=c(\"lightgray\",\"black\"))+\n",
    "scale_color_manual(values = c(\"lightgray\", \"black\"))+\n",
    "geom_text_repel(data = subset(hei0506_result_Nonsmoke, logbonf > -log(0.05/nrow(hei0506_result_Nonsmoke)) ),aes(label=Label))+\n",
    "geom_hline(yintercept= (-log(0.05/nrow(hei0506_result_Nonsmoke))), linetype=\"dashed\", color = \"black\")+\n",
    "labs(title =\"Disease & Biomarker Outcome Significance \\n Comparing Highest and Lowest Quintiles of \\n the Healthy Eating Index Among Non-Smokers\",\n",
    "     subtitle = bquote(\"Adjusted for BMI, sex, age,\"~ age^2~\", and race/ethnicity\"),\n",
    "     caption = \"Bonferroni adjusted p-values\")+\n",
    "ylab(\"-log p-value\")+\n",
    "xlab(\"Disease Outcomes\")+\n",
    "#ggtitle(\"Disease & Biomarker Outcome Significance \\n Comparing Highest and Lowest Quintiles of Healthy Eating Index\")+\n",
    "theme_bw()+\n",
    "theme(axis.text.x = element_blank(), \n",
    "      panel.grid.major = element_blank(), \n",
    "      panel.grid.minor = element_blank(), \n",
    "      plot.subtitle = element_text(face = \"italic\", hjust = 0.5),\n",
    "      plot.caption = element_text(face = \"italic\", hjust = 1),\n",
    "      axis.title.x = element_text(family=\"Helvetica\", face = \"bold\", size = 12, vjust = -2),\n",
    "      axis.title.y = element_text(family=\"Helvetica\", face = \"bold\", size = 12),\n",
    "      plot.title=element_text(family = \"Helvetica\", face = \"bold\", size = 14, hjust=0.5))"
   ]
  },
  {
   "cell_type": "markdown",
   "metadata": {},
   "source": [
    "Stratified analysis smong smokers"
   ]
  },
  {
   "cell_type": "markdown",
   "metadata": {},
   "source": [
    "Subset dat and select disease variable"
   ]
  },
  {
   "cell_type": "code",
   "execution_count": 37,
   "metadata": {},
   "outputs": [],
   "source": [
    "\n",
    "MainTableSmoke <- MainTable[ which(MainTable$SMQ040 == 1 | MainTable$SMQ040==2),]\n",
    "\n",
    "\n",
    "\n",
    "MainTable_Health <- subset(MainTableSmoke, select = c(\"SEQN\",\"SDMVPSU\", \"SDMVSTRA\", \"WTMEC2YR\",\"RIDAGEYR\",\"BMXBMI\", \"black\", \"mexican\", \"other_hispanic\", \"other_eth\", \"SMQ040\", \"male\", \"female\", \"any_diabetes\", \"any_ht\", \"cad\", \"bladder_cancer_self_report\", \"blood_cancer_self_report\", \"bone_cancer_self_report\", \"brain_cancer_self_report\", \"colon_cancer_self_report\", \"esophagus_cancer_self_report\", \"gallbladder_cancer_self_report\", \"kidney_cancer_self_report\", \"larynx_cancer_self_report\", \"leukemia_self_report\", \"liver_cancer_self_report\", \"lung_cancer_self_report\", \"lymphoma_self_report\", \"melanoma_self_report\", \"mouth_cancer_self_report\", \"nervous_cancer_self_report\", \"pancreatic_cancer_self_report\", \"prostate_cancer_self_report\", \"rectum_cancer_self_report\", \"skin_cancer_self_report\", \"other_skin_cancer_self_report\", \"soft_cancer_self_report\", \"stomach_cancer_self_report\", \"testis_cancer_self_report\", \"thyroid_cancer_self_report\", \"uterine_cancer_self_report\", \"other_cancer_self_report\", \"any_cancer_self_report\", \"any_family_cad\", \"current_asthma\", \"ever_asthma\", \"ever_arthritis\", \"ever_rheumatoid_arthritis\", \"ever_osteo_arthritis\", \"LBXHBC\", \"LBDHBG\", \"LBDHCV\", \"LBDHD\", \"LBXHBS\", \"LBXHA\", \"LBDHI\"))\n",
    "\n",
    "\n",
    "Biomarkers_Threshold <- subset(MainTableSmoke, select =c(\"LBXTC\", \"LBDLDL\", \"LBXTR\", \"LBXGH\", \"LBXGLU\", \"LBXVIA\", \"LBXVIC\", \"LBXVID\", \"LBXVIE\",  \"LBXB12\", \"LBXFOL\", \"LBXRBF\", \"LBXHCY\"))\n",
    "\n",
    "\n",
    "#*************Threshold values*************************\n",
    "\n",
    "#Total cholesterol - Case <= 200\n",
    "Biomarkers_Threshold$LBXTC_TH <- ifelse(Biomarkers_Threshold$LBXTC <= 200, 1, 0)\n",
    "#LDL -  case < 100\n",
    "Biomarkers_Threshold$LBDLDL_TH <- ifelse(Biomarkers_Threshold$LBDLDL <= 100, 1, 0)\n",
    "#Triglycerides - case >= 150 \n",
    "Biomarkers_Threshold$LBXTR_TH <- ifelse(Biomarkers_Threshold$LBXTR <= 150, 1, 0)\n",
    "#Glycohemoglobin - case <= 5.7 \n",
    "Biomarkers_Threshold$LBXGH_TH <- ifelse(Biomarkers_Threshold$LBXGH <= 5.7, 1, 0)\n",
    "#Fasting Glucose -case <= 100\n",
    "Biomarkers_Threshold$LBXGLU_TH <- ifelse(Biomarkers_Threshold$LBXGLU <= 100, 1, 0)\n",
    "#Vitamin A - case >= 20 \n",
    "Biomarkers_Threshold$LBXVIA_TH <- ifelse(Biomarkers_Threshold$LBXVIA >= 20, 1, 0)\n",
    "#vitamin C - case >= 11.4\n",
    "Biomarkers_Threshold$LBXVIC_TH <- ifelse(Biomarkers_Threshold$LBXVIC >= 11.4, 1, 0)\n",
    "#vitamin D - case >= 20\n",
    "Biomarkers_Threshold$LBXVID_TH <- ifelse(Biomarkers_Threshold$LBXVID >= 20, 1, 0)\n",
    "#vitamin E - case >= 500\n",
    "Biomarkers_Threshold$LBXVIE_TH <- ifelse(Biomarkers_Threshold$LBXVIE >= 500, 1, 0)\n",
    "#vitamin B12 - case  >= 200\n",
    "Biomarkers_Threshold$LBXB12_TH <- ifelse(Biomarkers_Threshold$LBXB12 >= 200, 1, 0)\n",
    "#serum folate - case >= 2\n",
    "Biomarkers_Threshold$LBXFOL_TH <- ifelse(Biomarkers_Threshold$LBXFOL >= 2, 1, 0)\n",
    "#RBC FOLATE\n",
    "Biomarkers_Threshold$LBXRBF_TH <- ifelse(Biomarkers_Threshold$LBXRBF >= 95, 1, 0)\n",
    "#plasma homocysteine\n",
    "Biomarkers_Threshold$LBXHCY_TH <- ifelse(Biomarkers_Threshold$LBXHCY <= 13, 1, 0)\n",
    "\n",
    "Biomarkers_Threshold <- subset(Biomarkers_Threshold, select =c(\"LBXTC_TH\", \"LBDLDL_TH\", \"LBXTR_TH\", \"LBXGH_TH\", \"LBXGLU_TH\", \"LBXVIA_TH\", \"LBXVIC_TH\", \"LBXVID_TH\", \"LBXVIE_TH\",  \"LBXB12_TH\", \"LBXFOL_TH\", \"LBXRBF_TH\", \"LBXHCY_TH\"))\n",
    "\n",
    "Health_Biomarkers <- cbind(MainTable_Health, Biomarkers_Threshold)\n",
    "\n",
    "phenotypesheath_biomarkers <- c(\"any_diabetes\", \"any_ht\", \"cad\", \"bladder_cancer_self_report\", \"blood_cancer_self_report\", \"bone_cancer_self_report\", \"brain_cancer_self_report\", \"colon_cancer_self_report\", \"esophagus_cancer_self_report\", \"gallbladder_cancer_self_report\", \"kidney_cancer_self_report\", \"larynx_cancer_self_report\", \"leukemia_self_report\", \"liver_cancer_self_report\", \"lung_cancer_self_report\", \"lymphoma_self_report\", \"melanoma_self_report\", \"mouth_cancer_self_report\", \"nervous_cancer_self_report\", \"pancreatic_cancer_self_report\", \"prostate_cancer_self_report\", \"rectum_cancer_self_report\", \"skin_cancer_self_report\", \"other_skin_cancer_self_report\", \"soft_cancer_self_report\", \"stomach_cancer_self_report\", \"testis_cancer_self_report\", \"thyroid_cancer_self_report\", \"uterine_cancer_self_report\", \"other_cancer_self_report\", \"any_cancer_self_report\", \"any_family_cad\", \"current_asthma\", \"ever_asthma\", \"ever_arthritis\", \"ever_rheumatoid_arthritis\", \"ever_osteo_arthritis\", \"LBXHBC\", \"LBDHBG\", \"LBDHCV\", \"LBDHD\", \"LBXHBS\", \"LBXHA\", \"LBDHI\", \"LBXTC_TH\", \"LBDLDL_TH\", \"LBXTR_TH\", \"LBXGH_TH\", \"LBXGLU_TH\", \"LBXVIA_TH\", \"LBXVIC_TH\", \"LBXVID_TH\", \"LBXVIE_TH\",  \"LBXB12_TH\", \"LBXFOL_TH\", \"LBXRBF_TH\", \"LBXHCY_TH\")"
   ]
  },
  {
   "cell_type": "markdown",
   "metadata": {},
   "source": [
    "Selecting dataframe, case, control and phenotype list"
   ]
  },
  {
   "cell_type": "code",
   "execution_count": 38,
   "metadata": {},
   "outputs": [],
   "source": [
    "dataframe <- Health_Biomarkers\n",
    "cut <- \"quintile\"\n",
    "case <- 5\n",
    "control <- 1\n",
    "phenotypes <- phenotypesheath_biomarkers"
   ]
  },
  {
   "cell_type": "markdown",
   "metadata": {},
   "source": [
    "Merging quintile values with working dataframe"
   ]
  },
  {
   "cell_type": "code",
   "execution_count": 39,
   "metadata": {},
   "outputs": [],
   "source": [
    "hei0506_subset <- subset(hei0506, select = c(\"SEQN\", cut))           #subset with grade or quintile and SEQN\n",
    "hei0506_subset$SEQN <- as.character( hei0506_subset$SEQN )          #change both 'SEQN' columns to characters for merging\n",
    "dataframe$SEQN <- as.character( dataframe$SEQN )\n",
    "\n",
    "hei0506_merged <- merge(dataframe, hei0506_subset, by=\"SEQN\")     #merging the grade or qunitile with dataframe\n",
    "\n",
    "hei0506_merged_cut <- hei0506_merged[hei0506_merged[,cut] %in% c(case, control),]   #selecting cases & control\n",
    "\n",
    "\n",
    "hei0506_casecontrol <- subset(hei0506_merged_cut, select=c(\"SEQN\", cut))#subsetting so we just have SEQN+cut \n",
    "\n",
    "hei0506_casecontrol[cut] <- ifelse(hei0506_casecontrol[cut]==case, 1, 0) #Converting case control to binary\n",
    "\n",
    "hei0506_final <- inner_join(hei0506_merged, hei0506_casecontrol, by = \"SEQN\")  #Merge phenotypes w/ binary input\n",
    "colNumber <- length(hei0506_final) - 1\n",
    "colnames(hei0506_final)[colNumber] <- \"casecontrol\"\n",
    "colNumber <- length(hei0506_final)\n",
    "colnames(hei0506_final)[colNumber] <- \"casevalue\""
   ]
  },
  {
   "cell_type": "markdown",
   "metadata": {},
   "source": [
    "Setting survey design"
   ]
  },
  {
   "cell_type": "code",
   "execution_count": 40,
   "metadata": {},
   "outputs": [],
   "source": [
    "dsn <- svydesign(ids=~SDMVPSU, strata=~SDMVSTRA, weights=~WTMEC2YR, nest=T, data=hei0506_final, variables = NULL)"
   ]
  },
  {
   "cell_type": "markdown",
   "metadata": {},
   "source": [
    "Creating dataframe matrix for results"
   ]
  },
  {
   "cell_type": "code",
   "execution_count": 41,
   "metadata": {},
   "outputs": [],
   "source": [
    "hei0506_result_Smoke <- as.data.frame(matrix(ncol =8))"
   ]
  },
  {
   "cell_type": "markdown",
   "metadata": {},
   "source": [
    "Running for loop for logistic regressions for all disease outcomes"
   ]
  },
  {
   "cell_type": "code",
   "execution_count": 43,
   "metadata": {},
   "outputs": [
    {
     "name": "stdout",
     "output_type": "stream",
     "text": [
      "[1] 12\n"
     ]
    },
    {
     "name": "stderr",
     "output_type": "stream",
     "text": [
      "Warning message in eval(family$initialize):\n",
      "“non-integer #successes in a binomial glm!”Warning message:\n",
      "“glm.fit: algorithm did not converge”"
     ]
    },
    {
     "name": "stdout",
     "output_type": "stream",
     "text": [
      "[1] 13\n"
     ]
    },
    {
     "name": "stderr",
     "output_type": "stream",
     "text": [
      "Warning message in model.matrix.default(mt, mf, contrasts):\n",
      "“the response appeared on the right-hand side and was dropped”Warning message in model.matrix.default(mt, mf, contrasts):\n",
      "“problem with term 7 in model.matrix: no columns are assigned”Warning message in eval(family$initialize):\n",
      "“non-integer #successes in a binomial glm!”Warning message in model.matrix.default(glm.object, data = structure(list(female = c(0, :\n",
      "“the response appeared on the right-hand side and was dropped”Warning message in model.matrix.default(glm.object, data = structure(list(female = c(0, :\n",
      "“problem with term 7 in model.matrix: no columns are assigned”"
     ]
    },
    {
     "name": "stdout",
     "output_type": "stream",
     "text": [
      "[1] 14\n"
     ]
    },
    {
     "name": "stderr",
     "output_type": "stream",
     "text": [
      "Warning message in eval(family$initialize):\n",
      "“non-integer #successes in a binomial glm!”"
     ]
    },
    {
     "name": "stdout",
     "output_type": "stream",
     "text": [
      "[1] 15\n"
     ]
    },
    {
     "name": "stderr",
     "output_type": "stream",
     "text": [
      "Warning message in eval(family$initialize):\n",
      "“non-integer #successes in a binomial glm!”"
     ]
    },
    {
     "name": "stdout",
     "output_type": "stream",
     "text": [
      "[1] 16\n"
     ]
    },
    {
     "name": "stderr",
     "output_type": "stream",
     "text": [
      "Warning message in eval(family$initialize):\n",
      "“non-integer #successes in a binomial glm!”Warning message:\n",
      "“glm.fit: fitted probabilities numerically 0 or 1 occurred”"
     ]
    },
    {
     "name": "stdout",
     "output_type": "stream",
     "text": [
      "[1] 17\n"
     ]
    },
    {
     "name": "stderr",
     "output_type": "stream",
     "text": [
      "Warning message:\n",
      "“glm.fit: algorithm did not converge”"
     ]
    },
    {
     "name": "stdout",
     "output_type": "stream",
     "text": [
      "[1] 18\n"
     ]
    },
    {
     "name": "stderr",
     "output_type": "stream",
     "text": [
      "Warning message:\n",
      "“glm.fit: algorithm did not converge”"
     ]
    },
    {
     "name": "stdout",
     "output_type": "stream",
     "text": [
      "[1] 19\n"
     ]
    },
    {
     "name": "stderr",
     "output_type": "stream",
     "text": [
      "Warning message:\n",
      "“glm.fit: algorithm did not converge”"
     ]
    },
    {
     "name": "stdout",
     "output_type": "stream",
     "text": [
      "[1] 20\n"
     ]
    },
    {
     "name": "stderr",
     "output_type": "stream",
     "text": [
      "Warning message:\n",
      "“glm.fit: algorithm did not converge”"
     ]
    },
    {
     "name": "stdout",
     "output_type": "stream",
     "text": [
      "[1] 21\n"
     ]
    },
    {
     "name": "stderr",
     "output_type": "stream",
     "text": [
      "Warning message in eval(family$initialize):\n",
      "“non-integer #successes in a binomial glm!”Warning message:\n",
      "“glm.fit: fitted probabilities numerically 0 or 1 occurred”"
     ]
    },
    {
     "name": "stdout",
     "output_type": "stream",
     "text": [
      "[1] 22\n"
     ]
    },
    {
     "name": "stderr",
     "output_type": "stream",
     "text": [
      "Warning message:\n",
      "“glm.fit: algorithm did not converge”"
     ]
    },
    {
     "name": "stdout",
     "output_type": "stream",
     "text": [
      "[1] 23\n"
     ]
    },
    {
     "name": "stderr",
     "output_type": "stream",
     "text": [
      "Warning message:\n",
      "“glm.fit: algorithm did not converge”"
     ]
    },
    {
     "name": "stdout",
     "output_type": "stream",
     "text": [
      "[1] 24\n"
     ]
    },
    {
     "name": "stderr",
     "output_type": "stream",
     "text": [
      "Warning message:\n",
      "“glm.fit: algorithm did not converge”"
     ]
    },
    {
     "name": "stdout",
     "output_type": "stream",
     "text": [
      "[1] 25\n"
     ]
    },
    {
     "name": "stderr",
     "output_type": "stream",
     "text": [
      "Warning message:\n",
      "“glm.fit: algorithm did not converge”"
     ]
    },
    {
     "name": "stdout",
     "output_type": "stream",
     "text": [
      "[1] 26\n"
     ]
    },
    {
     "name": "stderr",
     "output_type": "stream",
     "text": [
      "Warning message:\n",
      "“glm.fit: algorithm did not converge”"
     ]
    },
    {
     "name": "stdout",
     "output_type": "stream",
     "text": [
      "[1] 27\n"
     ]
    },
    {
     "name": "stderr",
     "output_type": "stream",
     "text": [
      "Warning message:\n",
      "“glm.fit: algorithm did not converge”"
     ]
    },
    {
     "name": "stdout",
     "output_type": "stream",
     "text": [
      "[1] 28\n"
     ]
    },
    {
     "name": "stderr",
     "output_type": "stream",
     "text": [
      "Warning message:\n",
      "“glm.fit: algorithm did not converge”"
     ]
    },
    {
     "name": "stdout",
     "output_type": "stream",
     "text": [
      "[1] 29\n"
     ]
    },
    {
     "name": "stderr",
     "output_type": "stream",
     "text": [
      "Warning message:\n",
      "“glm.fit: algorithm did not converge”"
     ]
    },
    {
     "name": "stdout",
     "output_type": "stream",
     "text": [
      "[1] 30\n"
     ]
    },
    {
     "name": "stderr",
     "output_type": "stream",
     "text": [
      "Warning message in eval(family$initialize):\n",
      "“non-integer #successes in a binomial glm!”Warning message:\n",
      "“glm.fit: fitted probabilities numerically 0 or 1 occurred”"
     ]
    },
    {
     "name": "stdout",
     "output_type": "stream",
     "text": [
      "[1] 31\n"
     ]
    },
    {
     "name": "stderr",
     "output_type": "stream",
     "text": [
      "Warning message:\n",
      "“glm.fit: algorithm did not converge”"
     ]
    },
    {
     "name": "stdout",
     "output_type": "stream",
     "text": [
      "[1] 32\n"
     ]
    },
    {
     "name": "stderr",
     "output_type": "stream",
     "text": [
      "Warning message:\n",
      "“glm.fit: algorithm did not converge”"
     ]
    },
    {
     "name": "stdout",
     "output_type": "stream",
     "text": [
      "[1] 33\n"
     ]
    },
    {
     "name": "stderr",
     "output_type": "stream",
     "text": [
      "Warning message:\n",
      "“glm.fit: algorithm did not converge”"
     ]
    },
    {
     "name": "stdout",
     "output_type": "stream",
     "text": [
      "[1] 34\n"
     ]
    },
    {
     "name": "stderr",
     "output_type": "stream",
     "text": [
      "Warning message in eval(family$initialize):\n",
      "“non-integer #successes in a binomial glm!”Warning message:\n",
      "“glm.fit: fitted probabilities numerically 0 or 1 occurred”"
     ]
    },
    {
     "name": "stdout",
     "output_type": "stream",
     "text": [
      "[1] 35\n"
     ]
    },
    {
     "name": "stderr",
     "output_type": "stream",
     "text": [
      "Warning message in eval(family$initialize):\n",
      "“non-integer #successes in a binomial glm!”Warning message:\n",
      "“glm.fit: fitted probabilities numerically 0 or 1 occurred”"
     ]
    },
    {
     "name": "stdout",
     "output_type": "stream",
     "text": [
      "[1] 36\n"
     ]
    },
    {
     "name": "stderr",
     "output_type": "stream",
     "text": [
      "Warning message in eval(family$initialize):\n",
      "“non-integer #successes in a binomial glm!”Warning message:\n",
      "“glm.fit: fitted probabilities numerically 0 or 1 occurred”"
     ]
    },
    {
     "name": "stdout",
     "output_type": "stream",
     "text": [
      "[1] 37\n"
     ]
    },
    {
     "name": "stderr",
     "output_type": "stream",
     "text": [
      "Warning message in eval(family$initialize):\n",
      "“non-integer #successes in a binomial glm!”Warning message:\n",
      "“glm.fit: fitted probabilities numerically 0 or 1 occurred”"
     ]
    },
    {
     "name": "stdout",
     "output_type": "stream",
     "text": [
      "[1] 38\n"
     ]
    },
    {
     "name": "stderr",
     "output_type": "stream",
     "text": [
      "Warning message:\n",
      "“glm.fit: algorithm did not converge”"
     ]
    },
    {
     "name": "stdout",
     "output_type": "stream",
     "text": [
      "[1] 39\n"
     ]
    },
    {
     "name": "stderr",
     "output_type": "stream",
     "text": [
      "Warning message:\n",
      "“glm.fit: algorithm did not converge”"
     ]
    },
    {
     "name": "stdout",
     "output_type": "stream",
     "text": [
      "[1] 40\n"
     ]
    },
    {
     "name": "stderr",
     "output_type": "stream",
     "text": [
      "Warning message:\n",
      "“glm.fit: algorithm did not converge”"
     ]
    },
    {
     "name": "stdout",
     "output_type": "stream",
     "text": [
      "[1] 41\n"
     ]
    },
    {
     "name": "stderr",
     "output_type": "stream",
     "text": [
      "Warning message:\n",
      "“glm.fit: algorithm did not converge”"
     ]
    },
    {
     "name": "stdout",
     "output_type": "stream",
     "text": [
      "[1] 42\n"
     ]
    },
    {
     "name": "stderr",
     "output_type": "stream",
     "text": [
      "Warning message:\n",
      "“glm.fit: algorithm did not converge”"
     ]
    },
    {
     "name": "stdout",
     "output_type": "stream",
     "text": [
      "[1] 43\n"
     ]
    },
    {
     "name": "stderr",
     "output_type": "stream",
     "text": [
      "Warning message in eval(family$initialize):\n",
      "“non-integer #successes in a binomial glm!”"
     ]
    },
    {
     "name": "stdout",
     "output_type": "stream",
     "text": [
      "[1] 44\n"
     ]
    },
    {
     "name": "stderr",
     "output_type": "stream",
     "text": [
      "Warning message in eval(family$initialize):\n",
      "“non-integer #successes in a binomial glm!”"
     ]
    },
    {
     "name": "stdout",
     "output_type": "stream",
     "text": [
      "[1] 45\n"
     ]
    },
    {
     "name": "stderr",
     "output_type": "stream",
     "text": [
      "Warning message in eval(family$initialize):\n",
      "“non-integer #successes in a binomial glm!”"
     ]
    },
    {
     "name": "stdout",
     "output_type": "stream",
     "text": [
      "[1] 46\n"
     ]
    },
    {
     "name": "stderr",
     "output_type": "stream",
     "text": [
      "Warning message in eval(family$initialize):\n",
      "“non-integer #successes in a binomial glm!”"
     ]
    },
    {
     "name": "stdout",
     "output_type": "stream",
     "text": [
      "[1] 47\n"
     ]
    },
    {
     "name": "stderr",
     "output_type": "stream",
     "text": [
      "Warning message in eval(family$initialize):\n",
      "“non-integer #successes in a binomial glm!”"
     ]
    },
    {
     "name": "stdout",
     "output_type": "stream",
     "text": [
      "[1] 48\n"
     ]
    },
    {
     "name": "stderr",
     "output_type": "stream",
     "text": [
      "Warning message in eval(family$initialize):\n",
      "“non-integer #successes in a binomial glm!”"
     ]
    },
    {
     "name": "stdout",
     "output_type": "stream",
     "text": [
      "[1] 49\n"
     ]
    },
    {
     "name": "stderr",
     "output_type": "stream",
     "text": [
      "Warning message in eval(family$initialize):\n",
      "“non-integer #successes in a binomial glm!”"
     ]
    },
    {
     "name": "stdout",
     "output_type": "stream",
     "text": [
      "[1] 50\n"
     ]
    },
    {
     "name": "stderr",
     "output_type": "stream",
     "text": [
      "Warning message in eval(family$initialize):\n",
      "“non-integer #successes in a binomial glm!”"
     ]
    },
    {
     "name": "stdout",
     "output_type": "stream",
     "text": [
      "[1] 51\n"
     ]
    },
    {
     "name": "stderr",
     "output_type": "stream",
     "text": [
      "Warning message in eval(family$initialize):\n",
      "“non-integer #successes in a binomial glm!”"
     ]
    },
    {
     "name": "stdout",
     "output_type": "stream",
     "text": [
      "[1] 52\n"
     ]
    },
    {
     "name": "stderr",
     "output_type": "stream",
     "text": [
      "Warning message in eval(family$initialize):\n",
      "“non-integer #successes in a binomial glm!”Warning message:\n",
      "“glm.fit: fitted probabilities numerically 0 or 1 occurred”"
     ]
    },
    {
     "name": "stdout",
     "output_type": "stream",
     "text": [
      "[1] 53\n"
     ]
    },
    {
     "name": "stderr",
     "output_type": "stream",
     "text": [
      "Warning message in eval(family$initialize):\n",
      "“non-integer #successes in a binomial glm!”"
     ]
    },
    {
     "name": "stdout",
     "output_type": "stream",
     "text": [
      "[1] 54\n"
     ]
    },
    {
     "name": "stderr",
     "output_type": "stream",
     "text": [
      "Warning message:\n",
      "“glm.fit: algorithm did not converge”"
     ]
    },
    {
     "name": "stdout",
     "output_type": "stream",
     "text": [
      "[1] 55\n"
     ]
    },
    {
     "name": "stderr",
     "output_type": "stream",
     "text": [
      "Warning message in eval(family$initialize):\n",
      "“non-integer #successes in a binomial glm!”"
     ]
    },
    {
     "name": "stdout",
     "output_type": "stream",
     "text": [
      "[1] 56\n"
     ]
    },
    {
     "name": "stderr",
     "output_type": "stream",
     "text": [
      "Warning message in eval(family$initialize):\n",
      "“non-integer #successes in a binomial glm!”"
     ]
    },
    {
     "name": "stdout",
     "output_type": "stream",
     "text": [
      "[1] 57\n"
     ]
    },
    {
     "name": "stderr",
     "output_type": "stream",
     "text": [
      "Warning message in eval(family$initialize):\n",
      "“non-integer #successes in a binomial glm!”"
     ]
    },
    {
     "name": "stdout",
     "output_type": "stream",
     "text": [
      "[1] 58\n"
     ]
    },
    {
     "name": "stderr",
     "output_type": "stream",
     "text": [
      "Warning message in eval(family$initialize):\n",
      "“non-integer #successes in a binomial glm!”"
     ]
    },
    {
     "name": "stdout",
     "output_type": "stream",
     "text": [
      "[1] 59\n"
     ]
    },
    {
     "name": "stderr",
     "output_type": "stream",
     "text": [
      "Warning message in eval(family$initialize):\n",
      "“non-integer #successes in a binomial glm!”"
     ]
    },
    {
     "name": "stdout",
     "output_type": "stream",
     "text": [
      "[1] 60\n"
     ]
    },
    {
     "name": "stderr",
     "output_type": "stream",
     "text": [
      "Warning message in eval(family$initialize):\n",
      "“non-integer #successes in a binomial glm!”"
     ]
    },
    {
     "name": "stdout",
     "output_type": "stream",
     "text": [
      "[1] 61\n"
     ]
    },
    {
     "name": "stderr",
     "output_type": "stream",
     "text": [
      "Warning message in eval(family$initialize):\n",
      "“non-integer #successes in a binomial glm!”"
     ]
    },
    {
     "name": "stdout",
     "output_type": "stream",
     "text": [
      "[1] 62\n"
     ]
    },
    {
     "name": "stderr",
     "output_type": "stream",
     "text": [
      "Warning message in eval(family$initialize):\n",
      "“non-integer #successes in a binomial glm!”"
     ]
    },
    {
     "name": "stdout",
     "output_type": "stream",
     "text": [
      "[1] 63\n"
     ]
    },
    {
     "name": "stderr",
     "output_type": "stream",
     "text": [
      "Warning message in eval(family$initialize):\n",
      "“non-integer #successes in a binomial glm!”Warning message:\n",
      "“glm.fit: algorithm did not converge”"
     ]
    },
    {
     "name": "stdout",
     "output_type": "stream",
     "text": [
      "[1] 64\n"
     ]
    },
    {
     "name": "stderr",
     "output_type": "stream",
     "text": [
      "Warning message:\n",
      "“glm.fit: algorithm did not converge”"
     ]
    },
    {
     "name": "stdout",
     "output_type": "stream",
     "text": [
      "[1] 65\n"
     ]
    },
    {
     "name": "stderr",
     "output_type": "stream",
     "text": [
      "Warning message in eval(family$initialize):\n",
      "“non-integer #successes in a binomial glm!”"
     ]
    },
    {
     "name": "stdout",
     "output_type": "stream",
     "text": [
      "[1] 66\n"
     ]
    },
    {
     "name": "stderr",
     "output_type": "stream",
     "text": [
      "Warning message in eval(family$initialize):\n",
      "“non-integer #successes in a binomial glm!”Warning message:\n",
      "“glm.fit: fitted probabilities numerically 0 or 1 occurred”"
     ]
    },
    {
     "name": "stdout",
     "output_type": "stream",
     "text": [
      "[1] 67\n"
     ]
    },
    {
     "name": "stderr",
     "output_type": "stream",
     "text": [
      "Warning message in eval(family$initialize):\n",
      "“non-integer #successes in a binomial glm!”"
     ]
    },
    {
     "name": "stdout",
     "output_type": "stream",
     "text": [
      "[1] 68\n"
     ]
    },
    {
     "name": "stderr",
     "output_type": "stream",
     "text": [
      "Warning message in eval(family$initialize):\n",
      "“non-integer #successes in a binomial glm!”Warning message:\n",
      "“glm.fit: algorithm did not converge”"
     ]
    },
    {
     "name": "stdout",
     "output_type": "stream",
     "text": [
      "[1] 69\n"
     ]
    },
    {
     "name": "stderr",
     "output_type": "stream",
     "text": [
      "Warning message in eval(family$initialize):\n",
      "“non-integer #successes in a binomial glm!”Warning message:\n",
      "“glm.fit: algorithm did not converge”Warning message:\n",
      "“glm.fit: fitted probabilities numerically 0 or 1 occurred”"
     ]
    },
    {
     "name": "stdout",
     "output_type": "stream",
     "text": [
      "[1] 70\n"
     ]
    },
    {
     "name": "stderr",
     "output_type": "stream",
     "text": [
      "Warning message in eval(family$initialize):\n",
      "“non-integer #successes in a binomial glm!”"
     ]
    }
   ],
   "source": [
    "for(i in 14:ncol(hei0506_final)-2){\n",
    "                                                                                        \n",
    " print( i )\n",
    "\n",
    "myglm <- svyglm(as.formula(paste0(names(hei0506_final)[i], \"~ casevalue + black + mexican + other_hispanic + other_eth + RIDAGEYR + RIDAGEYR^2 + female + BMXBMI\")),design = dsn,\n",
    "                family = binomial(),\n",
    "                na.action = na.omit)\n",
    "\n",
    "#confidence interval\n",
    "ci <- exp(summary(myglm)$coefficients[\"casevalue\",1]+qnorm(c(0.025, 0.975)) * summary(myglm)$coefficients[\"casevalue\",2])\n",
    "\n",
    "\n",
    "excludedPatients <- sum(is.na(hei0506_final[, i ]))\n",
    "    casecontrol <-  hei0506_final[, c(names(hei0506_final)[i], \"SEQN\", \"casevalue\")]\n",
    "    casecontrol <- na.omit( casecontrol )\n",
    "    heihighpositive <- length(unique(casecontrol[casecontrol[,1]== 1 & casecontrol$casevalue== 1, \"SEQN\"]))\n",
    "    heihighnegative <- length(unique(casecontrol[casecontrol[,1]== 0 & casecontrol$casevalue== 1, \"SEQN\"]))\n",
    "    heilowpositive <- length(unique(casecontrol[casecontrol[,1]== 1 & casecontrol$casevalue== 0, \"SEQN\"]))\n",
    "    heilownegative <- length(unique(casecontrol[casecontrol[,1]== 0 & casecontrol$casevalue== 0, \"SEQN\"]))\n",
    " \n",
    "\n",
    "    \n",
    "newRow <- c (names(hei0506_final)[i], summary(myglm)$coefficients[2], exp(summary(myglm)$coefficients[2]), paste0(\"(\", round(ci[1][1],3), \",\", round(ci[2][1],3), \")\"),\n",
    "summary(myglm)$coefficients[2,4], paste0(heihighpositive+heilowpositive,\"(\",heihighpositive,\"/\",heilowpositive,\")\"), paste0(heihighnegative+heilownegative,\"(\",heihighnegative,\"/\",heilownegative,\")\"), excludedPatients\n",
    "                  )\n",
    "    \n",
    "hei0506_result_Smoke <- rbind( newRow, hei0506_result_Smoke ) \n",
    "\n",
    "\n",
    "}\n"
   ]
  },
  {
   "cell_type": "markdown",
   "metadata": {},
   "source": [
    "Renaming columns and adding columns with adjusted pvalues and OR designation"
   ]
  },
  {
   "cell_type": "code",
   "execution_count": 44,
   "metadata": {},
   "outputs": [
    {
     "data": {
      "text/html": [
       "<table>\n",
       "<caption>A data.frame: 6 × 14</caption>\n",
       "<thead>\n",
       "\t<tr><th scope=col>Outcome</th><th scope=col>Coefficient</th><th scope=col>OR</th><th scope=col>CI</th><th scope=col>P-value</th><th scope=col>Outcome_Present</th><th scope=col>Outcome_Negative</th><th scope=col>NA_Patient</th><th scope=col>padjustFdr</th><th scope=col>padjustBonferroni</th><th scope=col>logfdr</th><th scope=col>logbonf</th><th scope=col>Label</th><th scope=col>Association</th></tr>\n",
       "\t<tr><th scope=col>&lt;chr&gt;</th><th scope=col>&lt;chr&gt;</th><th scope=col>&lt;chr&gt;</th><th scope=col>&lt;chr&gt;</th><th scope=col>&lt;chr&gt;</th><th scope=col>&lt;chr&gt;</th><th scope=col>&lt;chr&gt;</th><th scope=col>&lt;chr&gt;</th><th scope=col>&lt;dbl&gt;</th><th scope=col>&lt;dbl&gt;</th><th scope=col>&lt;dbl&gt;</th><th scope=col>&lt;dbl&gt;</th><th scope=col>&lt;fct&gt;</th><th scope=col>&lt;fct&gt;</th></tr>\n",
       "</thead>\n",
       "<tbody>\n",
       "\t<tr><td><span style=white-space:pre-wrap>any_cancer_self_report  </span></td><td>-0.457776388887066 </td><td>0.632688936667978</td><td>(0.135,2.965)</td><td>0.579585949616306</td><td>19(5/14) </td><td>309(87/222)</td><td>0 </td><td>0.9688262</td><td>1</td><td>0.03167009</td><td>0</td><td><span style=white-space:pre-wrap>any cancer  </span></td><td>OR &lt;= 1</td></tr>\n",
       "\t<tr><td><span style=white-space:pre-wrap>any_diabetes            </span></td><td>-0.122982191513787 </td><td>0.884279410098284</td><td>(0.315,2.479)</td><td>0.821836430530006</td><td>29(15/14)</td><td>298(76/222)</td><td>1 </td><td>0.9688262</td><td>1</td><td>0.03167009</td><td>0</td><td><span style=white-space:pre-wrap>diabetes    </span></td><td>OR &lt;= 1</td></tr>\n",
       "\t<tr><td><span style=white-space:pre-wrap>any_family_cad          </span></td><td>-0.698689987214411 </td><td>0.497236263177977</td><td>(0.157,1.571)</td><td>0.272769922781287</td><td>54(12/42)</td><td>261(79/182)</td><td>13</td><td>0.9688262</td><td>1</td><td>0.03167009</td><td>0</td><td><span style=white-space:pre-wrap>family CAD  </span></td><td>OR &lt;= 1</td></tr>\n",
       "\t<tr><td><span style=white-space:pre-wrap>any_ht                  </span></td><td>-0.0740475909697191</td><td>0.928627498506484</td><td>(0.523,1.649)</td><td>0.807656261523153</td><td>90(36/54)</td><td>238(56/182)</td><td>0 </td><td>0.9688262</td><td>1</td><td>0.03167009</td><td>0</td><td>hypertension</td><td>OR &lt;= 1</td></tr>\n",
       "\t<tr><td>blood_cancer_self_report</td><td>-0.0101191654836878</td><td>0.989931861011133</td><td>(0.622,1.574)</td><td>0.96709522593434 </td><td><span style=white-space:pre-wrap>0(0/0)   </span></td><td>309(87/222)</td><td>19</td><td>0.9688262</td><td>1</td><td>0.03167009</td><td>0</td><td>blood cancer</td><td>OR &lt;= 1</td></tr>\n",
       "\t<tr><td>bone_cancer_self_report </td><td>-0.0101191654836878</td><td>0.989931861011133</td><td>(0.622,1.574)</td><td>0.96709522593434 </td><td><span style=white-space:pre-wrap>0(0/0)   </span></td><td>309(87/222)</td><td>19</td><td>0.9688262</td><td>1</td><td>0.03167009</td><td>0</td><td>bone cancer </td><td>OR &lt;= 1</td></tr>\n",
       "</tbody>\n",
       "</table>\n"
      ],
      "text/latex": [
       "A data.frame: 6 × 14\n",
       "\\begin{tabular}{r|llllllllllllll}\n",
       " Outcome & Coefficient & OR & CI & P-value & Outcome\\_Present & Outcome\\_Negative & NA\\_Patient & padjustFdr & padjustBonferroni & logfdr & logbonf & Label & Association\\\\\n",
       " <chr> & <chr> & <chr> & <chr> & <chr> & <chr> & <chr> & <chr> & <dbl> & <dbl> & <dbl> & <dbl> & <fct> & <fct>\\\\\n",
       "\\hline\n",
       "\t any\\_cancer\\_self\\_report   & -0.457776388887066  & 0.632688936667978 & (0.135,2.965) & 0.579585949616306 & 19(5/14)  & 309(87/222) & 0  & 0.9688262 & 1 & 0.03167009 & 0 & any cancer   & OR <= 1\\\\\n",
       "\t any\\_diabetes             & -0.122982191513787  & 0.884279410098284 & (0.315,2.479) & 0.821836430530006 & 29(15/14) & 298(76/222) & 1  & 0.9688262 & 1 & 0.03167009 & 0 & diabetes     & OR <= 1\\\\\n",
       "\t any\\_family\\_cad           & -0.698689987214411  & 0.497236263177977 & (0.157,1.571) & 0.272769922781287 & 54(12/42) & 261(79/182) & 13 & 0.9688262 & 1 & 0.03167009 & 0 & family CAD   & OR <= 1\\\\\n",
       "\t any\\_ht                   & -0.0740475909697191 & 0.928627498506484 & (0.523,1.649) & 0.807656261523153 & 90(36/54) & 238(56/182) & 0  & 0.9688262 & 1 & 0.03167009 & 0 & hypertension & OR <= 1\\\\\n",
       "\t blood\\_cancer\\_self\\_report & -0.0101191654836878 & 0.989931861011133 & (0.622,1.574) & 0.96709522593434  & 0(0/0)    & 309(87/222) & 19 & 0.9688262 & 1 & 0.03167009 & 0 & blood cancer & OR <= 1\\\\\n",
       "\t bone\\_cancer\\_self\\_report  & -0.0101191654836878 & 0.989931861011133 & (0.622,1.574) & 0.96709522593434  & 0(0/0)    & 309(87/222) & 19 & 0.9688262 & 1 & 0.03167009 & 0 & bone cancer  & OR <= 1\\\\\n",
       "\\end{tabular}\n"
      ],
      "text/markdown": [
       "\n",
       "A data.frame: 6 × 14\n",
       "\n",
       "| Outcome &lt;chr&gt; | Coefficient &lt;chr&gt; | OR &lt;chr&gt; | CI &lt;chr&gt; | P-value &lt;chr&gt; | Outcome_Present &lt;chr&gt; | Outcome_Negative &lt;chr&gt; | NA_Patient &lt;chr&gt; | padjustFdr &lt;dbl&gt; | padjustBonferroni &lt;dbl&gt; | logfdr &lt;dbl&gt; | logbonf &lt;dbl&gt; | Label &lt;fct&gt; | Association &lt;fct&gt; |\n",
       "|---|---|---|---|---|---|---|---|---|---|---|---|---|---|\n",
       "| any_cancer_self_report   | -0.457776388887066  | 0.632688936667978 | (0.135,2.965) | 0.579585949616306 | 19(5/14)  | 309(87/222) | 0  | 0.9688262 | 1 | 0.03167009 | 0 | any cancer   | OR &lt;= 1 |\n",
       "| any_diabetes             | -0.122982191513787  | 0.884279410098284 | (0.315,2.479) | 0.821836430530006 | 29(15/14) | 298(76/222) | 1  | 0.9688262 | 1 | 0.03167009 | 0 | diabetes     | OR &lt;= 1 |\n",
       "| any_family_cad           | -0.698689987214411  | 0.497236263177977 | (0.157,1.571) | 0.272769922781287 | 54(12/42) | 261(79/182) | 13 | 0.9688262 | 1 | 0.03167009 | 0 | family CAD   | OR &lt;= 1 |\n",
       "| any_ht                   | -0.0740475909697191 | 0.928627498506484 | (0.523,1.649) | 0.807656261523153 | 90(36/54) | 238(56/182) | 0  | 0.9688262 | 1 | 0.03167009 | 0 | hypertension | OR &lt;= 1 |\n",
       "| blood_cancer_self_report | -0.0101191654836878 | 0.989931861011133 | (0.622,1.574) | 0.96709522593434  | 0(0/0)    | 309(87/222) | 19 | 0.9688262 | 1 | 0.03167009 | 0 | blood cancer | OR &lt;= 1 |\n",
       "| bone_cancer_self_report  | -0.0101191654836878 | 0.989931861011133 | (0.622,1.574) | 0.96709522593434  | 0(0/0)    | 309(87/222) | 19 | 0.9688262 | 1 | 0.03167009 | 0 | bone cancer  | OR &lt;= 1 |\n",
       "\n"
      ],
      "text/plain": [
       "  Outcome                  Coefficient         OR                CI           \n",
       "1 any_cancer_self_report   -0.457776388887066  0.632688936667978 (0.135,2.965)\n",
       "2 any_diabetes             -0.122982191513787  0.884279410098284 (0.315,2.479)\n",
       "3 any_family_cad           -0.698689987214411  0.497236263177977 (0.157,1.571)\n",
       "4 any_ht                   -0.0740475909697191 0.928627498506484 (0.523,1.649)\n",
       "5 blood_cancer_self_report -0.0101191654836878 0.989931861011133 (0.622,1.574)\n",
       "6 bone_cancer_self_report  -0.0101191654836878 0.989931861011133 (0.622,1.574)\n",
       "  P-value           Outcome_Present Outcome_Negative NA_Patient padjustFdr\n",
       "1 0.579585949616306 19(5/14)        309(87/222)      0          0.9688262 \n",
       "2 0.821836430530006 29(15/14)       298(76/222)      1          0.9688262 \n",
       "3 0.272769922781287 54(12/42)       261(79/182)      13         0.9688262 \n",
       "4 0.807656261523153 90(36/54)       238(56/182)      0          0.9688262 \n",
       "5 0.96709522593434  0(0/0)          309(87/222)      19         0.9688262 \n",
       "6 0.96709522593434  0(0/0)          309(87/222)      19         0.9688262 \n",
       "  padjustBonferroni logfdr     logbonf Label        Association\n",
       "1 1                 0.03167009 0       any cancer   OR <= 1    \n",
       "2 1                 0.03167009 0       diabetes     OR <= 1    \n",
       "3 1                 0.03167009 0       family CAD   OR <= 1    \n",
       "4 1                 0.03167009 0       hypertension OR <= 1    \n",
       "5 1                 0.03167009 0       blood cancer OR <= 1    \n",
       "6 1                 0.03167009 0       bone cancer  OR <= 1    "
      ]
     },
     "metadata": {},
     "output_type": "display_data"
    }
   ],
   "source": [
    "colnames( hei0506_result_Smoke) <- c(\"Outcome\", \"Coefficient\", \"OR\", \"CI\", \"P-value\", \"Outcome_Present\", \"Outcome_Negative\", \"NA_Patient\")\n",
    "\n",
    "hei0506_result_Smoke$padjustFdr <- p.adjust( as.numeric( hei0506_result_Smoke$`P-value`), method = \"fdr\")\n",
    "hei0506_result_Smoke$padjustBonferroni <- p.adjust( as.numeric( hei0506_result_Smoke$`P-value`), method = \"bonferroni\")\n",
    "\n",
    "\n",
    "hei0506_result_Smoke$logfdr <- -log( as.numeric(hei0506_result_Smoke$padjustFdr))\n",
    "hei0506_result_Smoke$logbonf <- -log( as.numeric(hei0506_result_Smoke$padjustBonferroni))\n",
    "\n",
    "hei0506_result_Smoke <- merge(hei0506_result_Smoke, Labels, by = \"Outcome\")\n",
    "\n",
    "hei0506_result_Smoke$Association <- as.factor(ifelse(hei0506_result_Smoke$OR > 1, \"OR > 1\", \"OR <= 1\"))\n",
    "\n",
    "head(hei0506_result_Smoke)\n"
   ]
  },
  {
   "cell_type": "markdown",
   "metadata": {},
   "source": [
    "Using ggplot to produce manhattan plot for results"
   ]
  },
  {
   "cell_type": "code",
   "execution_count": 45,
   "metadata": {},
   "outputs": [
    {
     "data": {
      "image/png": "[encoded data removed]",
      "text/plain": [
       "plot without title"
      ]
     },
     "metadata": {},
     "output_type": "display_data"
    }
   ],
   "source": [
    "ggplot(hei0506_result_Smoke, aes(Outcome, logbonf))+ \n",
    "geom_point(aes(color = Association, fill = Association, shape = Association), size=3)+\n",
    "scale_shape_manual(values=c(25, 24))+\n",
    "scale_fill_manual(values=c(\"lightgray\",\"black\"))+\n",
    "scale_color_manual(values = c(\"lightgray\", \"black\"))+\n",
    "geom_text_repel(data = subset(hei0506_result_Smoke, logbonf > -log(0.05/nrow(hei0506_result_Smoke)) ),aes(label=Label))+\n",
    "geom_hline(yintercept= (-log(0.05/nrow(hei0506_result_Smoke))), linetype=\"dashed\", color = \"black\")+\n",
    "labs(title =\"Disease & Biomarker Outcome Significance \\n Comparing Highest and Lowest Quintiles of \\n the Healthy Eating Index Among Smokers\",\n",
    "     subtitle = bquote(\"Adjusted for BMI, sex, age,\"~ age^2~\", and race/ethnicity\"),\n",
    "     caption = \"Bonferroni adjusted p-values\")+\n",
    "ylab(\"-log p-value\")+\n",
    "xlab(\"Disease Outcomes\")+\n",
    "#ggtitle(\"Disease & Biomarker Outcome Significance \\n Comparing Highest and Lowest Quintiles of Healthy Eating Index\")+\n",
    "theme_bw()+\n",
    "theme(axis.text.x = element_blank(), \n",
    "      panel.grid.major = element_blank(), \n",
    "      panel.grid.minor = element_blank(), \n",
    "      plot.subtitle = element_text(face = \"italic\", hjust = 0.5),\n",
    "      plot.caption = element_text(face = \"italic\", hjust = 1),\n",
    "      axis.title.x = element_text(family=\"Helvetica\", face = \"bold\", size = 12, vjust = -2),\n",
    "      axis.title.y = element_text(family=\"Helvetica\", face = \"bold\", size = 12),\n",
    "      plot.title=element_text(family = \"Helvetica\", face = \"bold\", size = 14, hjust=0.5))"
   ]
  },
  {
   "cell_type": "code",
   "execution_count": null,
   "metadata": {},
   "outputs": [],
   "source": []
  }
 ],
 "metadata": {
  "kernelspec": {
   "display_name": "R",
   "language": "R",
   "name": "ir"
  },
  "language_info": {
   "codemirror_mode": "r",
   "file_extension": ".r",
   "mimetype": "text/x-r-source",
   "name": "R",
   "pygments_lexer": "r",
   "version": "3.5.0"
  }
 },
 "nbformat": 4,
 "nbformat_minor": 2
}
